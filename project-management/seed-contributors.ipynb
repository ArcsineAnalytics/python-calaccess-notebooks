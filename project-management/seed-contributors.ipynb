{
 "cells": [
  {
   "cell_type": "markdown",
   "metadata": {},
   "source": [
    "# Seed contributors\n",
    "\n",
    "By Ben Welsh\n",
    "\n",
    "Seeds a master list of California Civic Data Coalition participants with open-source contributors drawn from the GitHub API. Last harvested on Dec. 18, 2016, [using a Python script that interacts with GitHub's API](https://github.com/california-civic-data-coalition/django-calaccess-raw-data/blob/master/example/network-analysis/contributors.csv)."
   ]
  },
  {
   "cell_type": "code",
   "execution_count": 996,
   "metadata": {
    "collapsed": true
   },
   "outputs": [],
   "source": [
    "import pandas as pd\n",
    "import numpy as np"
   ]
  },
  {
   "cell_type": "markdown",
   "metadata": {},
   "source": [
    "## Load in the data"
   ]
  },
  {
   "cell_type": "code",
   "execution_count": 999,
   "metadata": {
    "collapsed": false
   },
   "outputs": [],
   "source": [
    "table = pd.read_csv(\"./input/contributors.csv\")"
   ]
  },
  {
   "cell_type": "code",
   "execution_count": 1000,
   "metadata": {
    "collapsed": false
   },
   "outputs": [
    {
     "name": "stdout",
     "output_type": "stream",
     "text": [
      "<class 'pandas.core.frame.DataFrame'>\n",
      "RangeIndex: 183 entries, 0 to 182\n",
      "Data columns (total 9 columns):\n",
      "repo             183 non-null object\n",
      "login            183 non-null object\n",
      "name             141 non-null object\n",
      "email            93 non-null object\n",
      "company          93 non-null object\n",
      "location         118 non-null object\n",
      "bio              27 non-null object\n",
      "avatar_url       183 non-null object\n",
      "contributions    183 non-null int64\n",
      "dtypes: int64(1), object(8)\n",
      "memory usage: 12.9+ KB\n"
     ]
    }
   ],
   "source": [
    "table.info()"
   ]
  },
  {
   "cell_type": "markdown",
   "metadata": {},
   "source": [
    "### Clean up strings"
   ]
  },
  {
   "cell_type": "code",
   "execution_count": 1001,
   "metadata": {
    "collapsed": true
   },
   "outputs": [],
   "source": [
    "table.replace(np.nan, \"\", inplace=True)"
   ]
  },
  {
   "cell_type": "code",
   "execution_count": 1002,
   "metadata": {
    "collapsed": true
   },
   "outputs": [],
   "source": [
    "table.login = table.login.map(str.strip).str.lower()\n",
    "table.company = table.company.map(str.strip)\n",
    "table.location = table.location.map(str.strip)\n",
    "table.avatar_url = table.avatar_url.map(str.strip)"
   ]
  },
  {
   "cell_type": "markdown",
   "metadata": {},
   "source": [
    "### Merge in corrections"
   ]
  },
  {
   "cell_type": "code",
   "execution_count": 1003,
   "metadata": {
    "collapsed": true
   },
   "outputs": [],
   "source": [
    "corrections = pd.read_csv(\"./input/contributors-corrections.csv\")"
   ]
  },
  {
   "cell_type": "code",
   "execution_count": 1004,
   "metadata": {
    "collapsed": true
   },
   "outputs": [],
   "source": [
    "table = table.merge(corrections, on=\"login\", how=\"left\")"
   ]
  },
  {
   "cell_type": "code",
   "execution_count": 1005,
   "metadata": {
    "collapsed": true
   },
   "outputs": [],
   "source": [
    "table.name = table.corrected_name.fillna(table.name)\n",
    "table.company = table.corrected_company.fillna(table.company)\n",
    "table.location = table.corrected_location.fillna(table.location)\n",
    "table.email = table.corrected_email.fillna(table.email)"
   ]
  },
  {
   "cell_type": "code",
   "execution_count": 1006,
   "metadata": {
    "collapsed": true
   },
   "outputs": [],
   "source": [
    "table.drop('corrected_name', axis=1, inplace=True)\n",
    "table.drop('corrected_company', axis=1, inplace=True)\n",
    "table.drop('corrected_location', axis=1, inplace=True)\n",
    "table.drop('corrected_email', axis=1, inplace=True)"
   ]
  },
  {
   "cell_type": "markdown",
   "metadata": {},
   "source": [
    "### Merge some common variations"
   ]
  },
  {
   "cell_type": "code",
   "execution_count": 1007,
   "metadata": {},
   "outputs": [],
   "source": [
    "table.loc[table.location.isin(['Los Angeles', 'Los Angeles, California']), 'location'] = 'Los Angeles, CA'\n",
    "table.loc[table.location.isin(['Washington D.C.', 'District of Columbia', 'Washington, D.C.']), 'location'] = 'Washington, DC'\n",
    "table.loc[table.location == 'Chicago', 'location'] = 'Chicago, IL'\n",
    "table.loc[table.location == 'San Francisco', 'location'] = 'San Francisco, CA'\n",
    "table.loc[table.location == 'Palo Alto', 'location'] = 'Palo Alto, CA'\n",
    "table.loc[table.location == 'Spokane, Wash.', 'location'] = 'Spokane, WA'\n",
    "table.loc[table.location == 'Hackney, London', 'location'] = 'London, UK'\n",
    "table.loc[table.location.isin(['Brooklyn', 'Brooklyn NY', 'Brooklyn, NY', 'NYC', 'New York']), 'location'] = 'New York, NY'\n",
    "table.loc[table.location == 'Columbia, Missouri', 'location'] = 'Columbia, MO'\n",
    "table.loc[table.location == 'Tucson, Arizona', 'location'] = 'Tucson, AZ'\n",
    "table.loc[table.location == 'Toronto', 'location'] = 'Toronto, Canada'\n",
    "table.loc[table.location == 'Salt Lake City, Utah', 'location'] = 'Salt Lake City, UT'\n",
    "table.loc[table.location == 'Houston', 'location'] = 'Houston, TX'\n",
    "table.loc[table.location == 'Orange County, Calif.', 'location'] = 'Houston, TX'"
   ]
  },
  {
   "cell_type": "code",
   "execution_count": 1008,
   "metadata": {},
   "outputs": [],
   "source": [
    "table.company = table.company.str.replace(\"The \", \"\")\n",
    "table.loc[table.company == 'Sunnmorsposten', 'company'] = 'Sunnmørsposten'\n",
    "table.loc[table.company == 'Wall Street Journal.', 'company'] = 'Wall Street Journal'\n",
    "table.loc[table.company == 'Northwestern University Knight Lab', 'company'] = 'Northwestern'\n",
    "table.loc[table.company == 'Investigative News Network', 'company'] = 'Institute for Nonprofit News'\n",
    "table.loc[table.company == 'Stanford', 'company'] = 'Stanford University'\n",
    "table.loc[table.company == 'Missouri School of Journalism', 'company'] = 'University of Missouri'\n",
    "table.loc[table.company == 'University of Iowa School of Journalism', 'company'] = 'University of Iowa'\n",
    "table.loc[table.company == 'Knight-Mozilla fellow 2015', 'company'] = 'Mozilla OpenNews'\n",
    "table.loc[table.company == 'Knight-Mozilla Fellow', 'company'] = 'Mozilla OpenNews'"
   ]
  },
  {
   "cell_type": "markdown",
   "metadata": {},
   "source": [
    "### Identify gaps"
   ]
  },
  {
   "cell_type": "markdown",
   "metadata": {},
   "source": [
    "#### People missing a name "
   ]
  },
  {
   "cell_type": "code",
   "execution_count": 1009,
   "metadata": {},
   "outputs": [
    {
     "data": {
      "text/plain": [
       "13"
      ]
     },
     "execution_count": 1009,
     "metadata": {},
     "output_type": "execute_result"
    }
   ],
   "source": [
    "len(table[table.name == ''])"
   ]
  },
  {
   "cell_type": "code",
   "execution_count": 1010,
   "metadata": {},
   "outputs": [
    {
     "data": {
      "text/plain": [
       "['cecht',\n",
       " 'jayelle-o',\n",
       " 'karkinosw',\n",
       " 'katbuchholz',\n",
       " 'malon',\n",
       " 'mb10',\n",
       " 'mjlorda',\n",
       " 'mmhirsch',\n",
       " 'pumadegit',\n",
       " 'regirob831',\n",
       " 'samlo78',\n",
       " 'soorinkimmm',\n",
       " 'yujiap']"
      ]
     },
     "execution_count": 1010,
     "metadata": {},
     "output_type": "execute_result"
    }
   ],
   "source": [
    "sorted(table[table.name == ''].login.unique())"
   ]
  },
  {
   "cell_type": "markdown",
   "metadata": {},
   "source": [
    "#### People missing a company"
   ]
  },
  {
   "cell_type": "code",
   "execution_count": 1011,
   "metadata": {},
   "outputs": [
    {
     "data": {
      "text/plain": [
       "15"
      ]
     },
     "execution_count": 1011,
     "metadata": {},
     "output_type": "execute_result"
    }
   ],
   "source": [
    "len(table[table.company == ''])"
   ]
  },
  {
   "cell_type": "code",
   "execution_count": 1012,
   "metadata": {
    "collapsed": false
   },
   "outputs": [
    {
     "data": {
      "text/plain": [
       "['cecht',\n",
       " 'jayelle-o',\n",
       " 'karkinosw',\n",
       " 'katbuchholz',\n",
       " 'malon',\n",
       " 'mb10',\n",
       " 'mjlorda',\n",
       " 'mmhirsch',\n",
       " 'pumadegit',\n",
       " 'regirob831',\n",
       " 'samlo78',\n",
       " 'soorinkimmm',\n",
       " 'tocateunvals',\n",
       " 'vromney',\n",
       " 'yujiap']"
      ]
     },
     "execution_count": 1012,
     "metadata": {},
     "output_type": "execute_result"
    }
   ],
   "source": [
    "sorted(table[table.company == ''].login.unique())"
   ]
  },
  {
   "cell_type": "markdown",
   "metadata": {},
   "source": [
    "#### People missing a location "
   ]
  },
  {
   "cell_type": "code",
   "execution_count": 1013,
   "metadata": {},
   "outputs": [
    {
     "data": {
      "text/plain": [
       "14"
      ]
     },
     "execution_count": 1013,
     "metadata": {},
     "output_type": "execute_result"
    }
   ],
   "source": [
    "len(table[table.location == ''])"
   ]
  },
  {
   "cell_type": "code",
   "execution_count": 1014,
   "metadata": {},
   "outputs": [
    {
     "data": {
      "text/plain": [
       "['cecht',\n",
       " 'jayelle-o',\n",
       " 'karkinosw',\n",
       " 'katbuchholz',\n",
       " 'malon',\n",
       " 'mb10',\n",
       " 'mjlorda',\n",
       " 'mmhirsch',\n",
       " 'pumadegit',\n",
       " 'regirob831',\n",
       " 'samlo78',\n",
       " 'soorinkimmm',\n",
       " 'vromney',\n",
       " 'yujiap']"
      ]
     },
     "execution_count": 1014,
     "metadata": {},
     "output_type": "execute_result"
    }
   ],
   "source": [
    "sorted(table[table.location == ''].login.unique())"
   ]
  },
  {
   "cell_type": "markdown",
   "metadata": {},
   "source": [
    "#### People missing an email "
   ]
  },
  {
   "cell_type": "code",
   "execution_count": 1015,
   "metadata": {},
   "outputs": [
    {
     "data": {
      "text/plain": [
       "32"
      ]
     },
     "execution_count": 1015,
     "metadata": {},
     "output_type": "execute_result"
    }
   ],
   "source": [
    "len(table[table.email == ''])"
   ]
  },
  {
   "cell_type": "code",
   "execution_count": 1016,
   "metadata": {},
   "outputs": [
    {
     "data": {
      "text/plain": [
       "['annkiha',\n",
       " 'burtherman',\n",
       " 'carloslemos',\n",
       " 'caseymm',\n",
       " 'cecht',\n",
       " 'chagan',\n",
       " 'danmit',\n",
       " 'drtortoise',\n",
       " 'ebonymarieb',\n",
       " 'elainewong',\n",
       " 'fagerlise',\n",
       " 'jayelle-o',\n",
       " 'jennbrandel',\n",
       " 'karkinosw',\n",
       " 'katbuchholz',\n",
       " 'livlab',\n",
       " 'malon',\n",
       " 'mb10',\n",
       " 'mijebner',\n",
       " 'mjlorda',\n",
       " 'mmhirsch',\n",
       " 'pumadegit',\n",
       " 'qstin',\n",
       " 'regirob831',\n",
       " 'samlo78',\n",
       " 'soorinkimmm',\n",
       " 'tocateunvals',\n",
       " 'vromney',\n",
       " 'yhy6f',\n",
       " 'yujiap']"
      ]
     },
     "execution_count": 1016,
     "metadata": {},
     "output_type": "execute_result"
    }
   ],
   "source": [
    "sorted(table[table.email == ''].login.unique())"
   ]
  },
  {
   "cell_type": "markdown",
   "metadata": {},
   "source": [
    "## Output unique list"
   ]
  },
  {
   "cell_type": "code",
   "execution_count": 1017,
   "metadata": {},
   "outputs": [],
   "source": [
    "columns = [\n",
    "    \"login\",\n",
    "    \"name\",\n",
    "    \"email\",\n",
    "    \"company\",\n",
    "    \"location\",\n",
    "    \"bio\",\n",
    "    \"avatar_url\"\n",
    "]\n",
    "unique_contributors = table.groupby(columns, as_index=False).contributions.sum()"
   ]
  },
  {
   "cell_type": "code",
   "execution_count": 1018,
   "metadata": {
    "collapsed": true
   },
   "outputs": [],
   "source": [
    "login_list = [\n",
    "    'palewire',\n",
    "    'gordonje',\n",
    "    'sahilchinoy',\n",
    "    'aboutaaron',\n",
    "    'armendariz',\n",
    "    'cephillips',\n",
    "    'jlagetz'\n",
    "]\n",
    "unique_contributors['in_coalition'] = unique_contributors.login.isin(login_list)"
   ]
  },
  {
   "cell_type": "markdown",
   "metadata": {},
   "source": [
    "### California v. everybody"
   ]
  },
  {
   "cell_type": "code",
   "execution_count": 1019,
   "metadata": {},
   "outputs": [],
   "source": [
    "unique_contributors['in_california'] = False\n",
    "unique_contributors.loc[unique_contributors.location.str.endswith(\", CA\"), 'in_california'] = True"
   ]
  },
  {
   "cell_type": "markdown",
   "metadata": {},
   "source": [
    "### Count the different states and countries"
   ]
  },
  {
   "cell_type": "code",
   "execution_count": 1020,
   "metadata": {},
   "outputs": [],
   "source": [
    "unique_contributors.loc[unique_contributors.location == '', 'in_usa'] = np.NaN\n",
    "unique_contributors.loc[unique_contributors.location.str.contains(\", \\w{2}$\"), 'in_usa'] = True\n",
    "unique_contributors.loc[unique_contributors.location.str.contains(\", \\w{3,}$\"), 'in_usa'] = False"
   ]
  },
  {
   "cell_type": "code",
   "execution_count": 1021,
   "metadata": {},
   "outputs": [],
   "source": [
    "def split_state(val):\n",
    "    if val == np.NaN:\n",
    "        return val\n",
    "    elif val == \"\":\n",
    "        return np.NaN\n",
    "    else:\n",
    "        parent = val.split(\", \")[1]\n",
    "        if len(parent) == 2:\n",
    "            return parent\n",
    "        else:\n",
    "            return np.NaN"
   ]
  },
  {
   "cell_type": "code",
   "execution_count": 1022,
   "metadata": {},
   "outputs": [],
   "source": [
    "unique_contributors['state'] = unique_contributors['location'].apply(split_state)"
   ]
  },
  {
   "cell_type": "code",
   "execution_count": 1023,
   "metadata": {},
   "outputs": [],
   "source": [
    "def split_country(val):\n",
    "    if val == np.NaN:\n",
    "        return val\n",
    "    elif val == \"\":\n",
    "        return np.NaN\n",
    "    else:\n",
    "        parent = val.split(\", \")[1]\n",
    "        if len(parent) == 2:\n",
    "            return \"United States of America\"\n",
    "        elif len(parent) > 2:\n",
    "            return parent\n",
    "        else:\n",
    "            return np.NaN"
   ]
  },
  {
   "cell_type": "code",
   "execution_count": 1024,
   "metadata": {},
   "outputs": [],
   "source": [
    "unique_contributors['country'] = unique_contributors['location'].apply(split_country)"
   ]
  },
  {
   "cell_type": "markdown",
   "metadata": {},
   "source": [
    "## Output data"
   ]
  },
  {
   "cell_type": "code",
   "execution_count": 1025,
   "metadata": {
    "collapsed": true
   },
   "outputs": [],
   "source": [
    "unique_contributors.to_csv(\"./output/participants.csv\")"
   ]
  }
 ],
 "metadata": {
  "kernelspec": {
   "display_name": "Python 2",
   "language": "python",
   "name": "python2"
  },
  "language_info": {
   "codemirror_mode": {
    "name": "ipython",
    "version": 2
   },
   "file_extension": ".py",
   "mimetype": "text/x-python",
   "name": "python",
   "nbconvert_exporter": "python",
   "pygments_lexer": "ipython2",
   "version": "2.7.12"
  }
 },
 "nbformat": 4,
 "nbformat_minor": 0
}
