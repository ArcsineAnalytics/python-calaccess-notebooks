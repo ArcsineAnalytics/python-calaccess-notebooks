{
 "cells": [
  {
   "cell_type": "code",
   "execution_count": 50,
   "metadata": {},
   "outputs": [],
   "source": [
    "import csv\n",
    "import time\n",
    "from googlegeocoder import GoogleGeocoder"
   ]
  },
  {
   "cell_type": "code",
   "execution_count": 51,
   "metadata": {},
   "outputs": [],
   "source": [
    "reader = list(csv.DictReader(open(\"./output/participants.csv\", 'r')))"
   ]
  },
  {
   "cell_type": "code",
   "execution_count": 52,
   "metadata": {},
   "outputs": [],
   "source": [
    "default_location = dict(location_x='', location_y='')"
   ]
  },
  {
   "cell_type": "code",
   "execution_count": 53,
   "metadata": {},
   "outputs": [],
   "source": [
    "def geocode(location):\n",
    "    print \"Mapping {}\".format(location)\n",
    "    try:\n",
    "        geocoder = GoogleGeocoder()\n",
    "        search = geocoder.get(location)\n",
    "        first_result = search[0]\n",
    "        geocoded_location = {\n",
    "            'location_x': first_result.geometry.location.lng,\n",
    "            'location_y': first_result.geometry.location.lat\n",
    "        }\n",
    "        print \"Found at {}\".format(geocoded_location)\n",
    "        return geocoded_location\n",
    "    except ValueError:\n",
    "        return default_location"
   ]
  },
  {
   "cell_type": "code",
   "execution_count": 54,
   "metadata": {},
   "outputs": [],
   "source": [
    "cache = {}"
   ]
  },
  {
   "cell_type": "code",
   "execution_count": 55,
   "metadata": {},
   "outputs": [],
   "source": [
    "row_list = []"
   ]
  },
  {
   "cell_type": "code",
   "execution_count": 56,
   "metadata": {},
   "outputs": [
    {
     "name": "stdout",
     "output_type": "stream",
     "text": [
      "Mapping Washington, DC\n",
      "Found at {'location_x': -77.0368707, 'location_y': 38.9071923}\n",
      "Mapping Phoenix, AZ\n",
      "Found at {'location_x': -112.0740373, 'location_y': 33.4483771}\n",
      "Mapping Dallas, TX\n",
      "Found at {'location_x': -96.79698789999999, 'location_y': 32.7766642}\n",
      "Mapping Las Vegas, NV\n",
      "Found at {'location_x': -115.1398296, 'location_y': 36.1699412}\n",
      "Mapping San Francisco, CA\n",
      "Found at {'location_x': -122.4194155, 'location_y': 37.7749295}\n",
      "Mapping Austin, TX\n",
      "Found at {'location_x': -97.7430608, 'location_y': 30.267153}\n",
      "Mapping New York, NY\n",
      "Found at {'location_x': -74.0059413, 'location_y': 40.7127837}\n",
      "Mapping Berkeley, CA\n",
      "Found at {'location_x': -122.272747, 'location_y': 37.8715926}\n",
      "Mapping Narvik, Norway\n",
      "Found at {'location_x': 17.4272612, 'location_y': 68.4384984}\n",
      "Mapping Los Angeles, CA\n",
      "Found at {'location_x': -118.2436849, 'location_y': 34.0522342}\n",
      "Mapping Evanston, IL\n",
      "Found at {'location_x': -87.68769689999999, 'location_y': 42.0450722}\n",
      "Mapping San Diego, CA\n",
      "Found at {'location_x': -117.1610838, 'location_y': 32.715738}\n",
      "Mapping Columbus, OH\n",
      "Found at {'location_x': -82.99879419999999, 'location_y': 39.9611755}\n",
      "Mapping São Paulo, Brazil\n",
      "Found at {'location_x': -46.63330939999999, 'location_y': -23.5505199}\n",
      "Mapping Philadelphia, PA\n",
      "Found at {'location_x': -75.1652215, 'location_y': 39.9525839}\n",
      "Mapping Palo Alto, CA\n",
      "Found at {'location_x': -122.1430195, 'location_y': 37.4418834}\n",
      "Mapping Chicago, IL\n",
      "Found at {'location_x': -87.6297982, 'location_y': 41.8781136}\n",
      "Mapping Kansas City, MO\n",
      "Found at {'location_x': -94.5785667, 'location_y': 39.0997265}\n",
      "Mapping Houston, TX\n",
      "Found at {'location_x': -95.3698028, 'location_y': 29.7604267}\n",
      "Mapping Sunnmøre, Norway\n",
      "Found at {'location_x': 5.6590031, 'location_y': 62.32155280000001}\n",
      "Mapping Bloomington, IN\n",
      "Found at {'location_x': -86.52638569999999, 'location_y': 39.165325}\n",
      "Mapping London, UK\n",
      "Found at {'location_x': -0.1277583, 'location_y': 51.5073509}\n",
      "Mapping Toronto, Canada\n",
      "Found at {'location_x': -79.3831843, 'location_y': 43.653226}\n",
      "Mapping Atlanta, GA\n",
      "Found at {'location_x': -84.3879824, 'location_y': 33.7489954}\n",
      "Mapping Lofoten, Norway\n",
      "Found at {'location_x': 63.823033, 'location_y': 30.6048663}\n",
      "Mapping Buenos Aires, Argentina\n",
      "Found at {'location_x': -58.3815591, 'location_y': -34.6036844}\n",
      "Mapping Columbia, MO\n",
      "Found at {'location_x': -92.3340724, 'location_y': 38.9517053}\n",
      "Mapping Emeryville, CA\n",
      "Found at {'location_x': -122.2852473, 'location_y': 37.831316}\n",
      "Mapping Tucson, AZ\n",
      "Found at {'location_x': -110.926479, 'location_y': 32.2217429}\n",
      "Mapping Omaha, NE\n",
      "Found at {'location_x': -95.99798829999999, 'location_y': 41.2523634}\n",
      "Mapping Oakland, CA\n",
      "Found at {'location_x': -122.2711137, 'location_y': 37.8043637}\n",
      "Mapping Seattle, WA\n",
      "Found at {'location_x': -122.3320708, 'location_y': 47.6062095}\n",
      "Mapping Iowa City, IA\n",
      "Found at {'location_x': -91.5301683, 'location_y': 41.6611277}\n",
      "Mapping Aalesund, Norway\n",
      "Found at {'location_x': 6.149482, 'location_y': 62.47222840000001}\n",
      "Mapping Kigali, Rwanda\n",
      "Found at {'location_x': 30.1044288, 'location_y': -1.9705786}\n",
      "Mapping Salt Lake City, UT\n",
      "Found at {'location_x': -111.8910474, 'location_y': 40.7607793}\n",
      "Mapping Long Beach, CA\n",
      "Found at {'location_x': -118.1937395, 'location_y': 33.7700504}\n",
      "Mapping Santiago, Chile\n",
      "Found at {'location_x': -70.6692655, 'location_y': -33.4488897}\n",
      "Mapping Emoryville, CA\n",
      "Found at {'location_x': -122.2852473, 'location_y': 37.831316}\n",
      "Mapping Nashville, TN\n",
      "Found at {'location_x': -86.7816016, 'location_y': 36.1626638}\n",
      "Mapping Tampa, FL\n",
      "Found at {'location_x': -82.4571776, 'location_y': 27.950575}\n",
      "Mapping Aarhus, Denmark\n",
      "Found at {'location_x': 10.203921, 'location_y': 56.162939}\n",
      "Mapping Sunnyvale, CA\n",
      "Found at {'location_x': -122.0363496, 'location_y': 37.36883}\n",
      "Mapping Spokane, WA\n",
      "Found at {'location_x': -117.4260466, 'location_y': 47.6587802}\n",
      "Mapping Cambridge, MA\n",
      "Found at {'location_x': -71.10973349999999, 'location_y': 42.3736158}\n",
      "Mapping Berlin, Germany\n",
      "Found at {'location_x': 13.404954, 'location_y': 52.52000659999999}\n",
      "Mapping Prague, Czech Republic\n",
      "Found at {'location_x': 14.4378005, 'location_y': 50.0755381}\n",
      "Mapping Burbank, CA\n",
      "Found at {'location_x': -118.3089661, 'location_y': 34.1808392}\n"
     ]
    }
   ],
   "source": [
    "for row in reader:\n",
    "    if not row['location']:\n",
    "        row.update(default_location)\n",
    "    else:\n",
    "        if cache.get(row['location'], None):\n",
    "            row.update(cache.get(row['location']))\n",
    "        else:\n",
    "            result = geocode(row['location'])\n",
    "            row.update(result)\n",
    "            cache[row['location']] = result\n",
    "            time.sleep(1.5)\n",
    "    row_list.append(row)"
   ]
  },
  {
   "cell_type": "code",
   "execution_count": 57,
   "metadata": {},
   "outputs": [
    {
     "data": {
      "text/plain": [
       "144"
      ]
     },
     "execution_count": 57,
     "metadata": {},
     "output_type": "execute_result"
    }
   ],
   "source": [
    "len(row_list)"
   ]
  },
  {
   "cell_type": "code",
   "execution_count": 58,
   "metadata": {},
   "outputs": [
    {
     "data": {
      "text/plain": [
       "144"
      ]
     },
     "execution_count": 58,
     "metadata": {},
     "output_type": "execute_result"
    }
   ],
   "source": [
    "len(reader)"
   ]
  },
  {
   "cell_type": "code",
   "execution_count": 66,
   "metadata": {},
   "outputs": [],
   "source": [
    "fieldnames = [\n",
    "    'login',\n",
    "    'name',\n",
    "    'email',\n",
    "    'company',\n",
    "    'in_coalition',\n",
    "    'location',\n",
    "    'state',\n",
    "    'country',\n",
    "    'location_x',\n",
    "    'location_y',\n",
    "    'in_california',\n",
    "    'in_usa',\n",
    "    'contributions',\n",
    "    'bio',\n",
    "    'avatar_url',\n",
    "]"
   ]
  },
  {
   "cell_type": "code",
   "execution_count": 67,
   "metadata": {},
   "outputs": [],
   "source": [
    "writer = csv.DictWriter(open(\"./output/participants.csv\", 'w'), fieldnames=fieldnames)"
   ]
  },
  {
   "cell_type": "code",
   "execution_count": 68,
   "metadata": {},
   "outputs": [],
   "source": [
    "writer.writeheader()"
   ]
  },
  {
   "cell_type": "code",
   "execution_count": 69,
   "metadata": {},
   "outputs": [],
   "source": [
    "writer.writerows(row_list)"
   ]
  }
 ],
 "metadata": {
  "kernelspec": {
   "display_name": "Python 2",
   "language": "python",
   "name": "python2"
  },
  "language_info": {
   "codemirror_mode": {
    "name": "ipython",
    "version": 2
   },
   "file_extension": ".py",
   "mimetype": "text/x-python",
   "name": "python",
   "nbconvert_exporter": "python",
   "pygments_lexer": "ipython2",
   "version": "2.7.12"
  }
 },
 "nbformat": 4,
 "nbformat_minor": 0
}
