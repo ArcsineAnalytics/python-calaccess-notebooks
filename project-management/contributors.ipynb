{
 "cells": [
  {
   "cell_type": "markdown",
   "metadata": {},
   "source": [
    "# Contributors to California Civic Data Coalition repositories\n",
    "\n",
    "By Ben Welsh\n",
    "\n",
    "This analysis is drawn from the open-source list of contributors compiled by GitHub. It was last harvested on Dec. 18, 2016, [using a Python script that interacts with GitHub's API](https://github.com/california-civic-data-coalition/django-calaccess-raw-data/blob/master/example/network-analysis/contributors.csv).  "
   ]
  },
  {
   "cell_type": "code",
   "execution_count": 1183,
   "metadata": {
    "collapsed": true
   },
   "outputs": [],
   "source": [
    "import pandas as pd\n",
    "import numpy as np"
   ]
  },
  {
   "cell_type": "code",
   "execution_count": 1184,
   "metadata": {},
   "outputs": [],
   "source": [
    "pd.options.display.max_rows = 5000"
   ]
  },
  {
   "cell_type": "code",
   "execution_count": 1185,
   "metadata": {},
   "outputs": [],
   "source": [
    "%matplotlib inline"
   ]
  },
  {
   "cell_type": "markdown",
   "metadata": {},
   "source": [
    "## Load in the data"
   ]
  },
  {
   "cell_type": "code",
   "execution_count": 1186,
   "metadata": {
    "collapsed": false
   },
   "outputs": [],
   "source": [
    "table = pd.read_csv(\"./input/contributors.csv\")"
   ]
  },
  {
   "cell_type": "code",
   "execution_count": 1187,
   "metadata": {
    "collapsed": false
   },
   "outputs": [
    {
     "name": "stdout",
     "output_type": "stream",
     "text": [
      "<class 'pandas.core.frame.DataFrame'>\n",
      "RangeIndex: 183 entries, 0 to 182\n",
      "Data columns (total 9 columns):\n",
      "repo             183 non-null object\n",
      "login            183 non-null object\n",
      "name             141 non-null object\n",
      "email            93 non-null object\n",
      "company          93 non-null object\n",
      "location         118 non-null object\n",
      "bio              27 non-null object\n",
      "avatar_url       183 non-null object\n",
      "contributions    183 non-null int64\n",
      "dtypes: int64(1), object(8)\n",
      "memory usage: 12.9+ KB\n"
     ]
    }
   ],
   "source": [
    "table.info()"
   ]
  },
  {
   "cell_type": "markdown",
   "metadata": {},
   "source": [
    "### Clean up strings"
   ]
  },
  {
   "cell_type": "code",
   "execution_count": 1188,
   "metadata": {
    "collapsed": true
   },
   "outputs": [],
   "source": [
    "table.replace(np.nan, \"\", inplace=True)"
   ]
  },
  {
   "cell_type": "code",
   "execution_count": 1189,
   "metadata": {
    "collapsed": true
   },
   "outputs": [],
   "source": [
    "table.login = table.login.map(str.strip).str.lower()\n",
    "table.company = table.company.map(str.strip)\n",
    "table.location = table.location.map(str.strip)\n",
    "table.avatar_url = table.avatar_url.map(str.strip)"
   ]
  },
  {
   "cell_type": "markdown",
   "metadata": {},
   "source": [
    "### Merge in corrections"
   ]
  },
  {
   "cell_type": "code",
   "execution_count": 1190,
   "metadata": {
    "collapsed": true
   },
   "outputs": [],
   "source": [
    "corrections = pd.read_csv(\"./input/contributors-corrections.csv\")"
   ]
  },
  {
   "cell_type": "code",
   "execution_count": 1191,
   "metadata": {
    "collapsed": true
   },
   "outputs": [],
   "source": [
    "table = table.merge(corrections, on=\"login\", how=\"left\")"
   ]
  },
  {
   "cell_type": "code",
   "execution_count": 1192,
   "metadata": {
    "collapsed": true
   },
   "outputs": [],
   "source": [
    "table.name = table.corrected_name.fillna(table.name)\n",
    "table.company = table.corrected_company.fillna(table.company)\n",
    "table.location = table.corrected_location.fillna(table.location)"
   ]
  },
  {
   "cell_type": "code",
   "execution_count": 1193,
   "metadata": {
    "collapsed": true
   },
   "outputs": [],
   "source": [
    "table.drop('corrected_name', axis=1, inplace=True)\n",
    "table.drop('corrected_company', axis=1, inplace=True)\n",
    "table.drop('corrected_location', axis=1, inplace=True)"
   ]
  },
  {
   "cell_type": "markdown",
   "metadata": {},
   "source": [
    "### Merge some common variations"
   ]
  },
  {
   "cell_type": "code",
   "execution_count": 1194,
   "metadata": {},
   "outputs": [],
   "source": [
    "table.loc[table.location == 'Los Angeles', 'location'] = 'Los Angeles, CA'\n",
    "table.loc[table.location == 'Washington D.C.', 'location'] = 'Washington, DC'\n",
    "table.loc[table.location == 'Washington, D.C.', 'location'] = 'Washington, DC'\n",
    "table.loc[table.location == 'Chicago', 'location'] = 'Chicago, IL'"
   ]
  },
  {
   "cell_type": "code",
   "execution_count": 1195,
   "metadata": {},
   "outputs": [],
   "source": [
    "table.company = table.company.str.replace(\"The \", \"\")\n",
    "table.loc[table.company == 'Sunnmorsposten', 'company'] = 'Sunnmørsposten'\n",
    "table.loc[table.company == 'Wall Street Journal.', 'company'] = 'Wall Street Journal'\n",
    "table.loc[table.company == 'Northwestern University Knight Lab', 'company'] = 'Northwestern'\n",
    "table.loc[table.company == 'Investigative News Network', 'company'] = 'Institute for Nonprofit News'\n",
    "table.loc[table.company == 'Stanford', 'company'] = 'Stanford University'\n",
    "table.loc[table.company == 'Missouri School of Journalism', 'company'] = 'University of Missouri'\n",
    "table.loc[table.company == 'University of Iowa School of Journalism', 'company'] = 'University of Iowa'\n",
    "table.loc[table.company == 'Knight-Mozilla fellow 2015', 'company'] = 'Mozilla OpenNews'\n",
    "table.loc[table.company == 'Knight-Mozilla Fellow', 'company'] = 'Mozilla OpenNews'"
   ]
  },
  {
   "cell_type": "markdown",
   "metadata": {},
   "source": [
    "### Identify gaps"
   ]
  },
  {
   "cell_type": "markdown",
   "metadata": {},
   "source": [
    "#### People missing a name "
   ]
  },
  {
   "cell_type": "code",
   "execution_count": 1196,
   "metadata": {},
   "outputs": [
    {
     "data": {
      "text/plain": [
       "14"
      ]
     },
     "execution_count": 1196,
     "metadata": {},
     "output_type": "execute_result"
    }
   ],
   "source": [
    "len(table[table.name == ''])"
   ]
  },
  {
   "cell_type": "code",
   "execution_count": 1197,
   "metadata": {},
   "outputs": [
    {
     "data": {
      "text/plain": [
       "['cecht',\n",
       " 'fagerlise',\n",
       " 'jayelle-o',\n",
       " 'karkinosw',\n",
       " 'katbuchholz',\n",
       " 'malon',\n",
       " 'mb10',\n",
       " 'mjlorda',\n",
       " 'mmhirsch',\n",
       " 'pumadegit',\n",
       " 'regirob831',\n",
       " 'samlo78',\n",
       " 'soorinkimmm',\n",
       " 'yujiap']"
      ]
     },
     "execution_count": 1197,
     "metadata": {},
     "output_type": "execute_result"
    }
   ],
   "source": [
    "sorted(table[table.name == ''].login.unique())"
   ]
  },
  {
   "cell_type": "markdown",
   "metadata": {},
   "source": [
    "#### People missing a company"
   ]
  },
  {
   "cell_type": "code",
   "execution_count": 1198,
   "metadata": {},
   "outputs": [
    {
     "data": {
      "text/plain": [
       "16"
      ]
     },
     "execution_count": 1198,
     "metadata": {},
     "output_type": "execute_result"
    }
   ],
   "source": [
    "len(table[table.company == ''])"
   ]
  },
  {
   "cell_type": "code",
   "execution_count": 1199,
   "metadata": {
    "collapsed": false
   },
   "outputs": [
    {
     "data": {
      "text/plain": [
       "['cecht',\n",
       " 'jayelle-o',\n",
       " 'karkinosw',\n",
       " 'katbuchholz',\n",
       " 'malon',\n",
       " 'mb10',\n",
       " 'mjlorda',\n",
       " 'mmhirsch',\n",
       " 'pumadegit',\n",
       " 'regirob831',\n",
       " 'rkiddy',\n",
       " 'samlo78',\n",
       " 'soorinkimmm',\n",
       " 'tocateunvals',\n",
       " 'vromney',\n",
       " 'yujiap']"
      ]
     },
     "execution_count": 1199,
     "metadata": {},
     "output_type": "execute_result"
    }
   ],
   "source": [
    "sorted(table[table.company == ''].login.unique())"
   ]
  },
  {
   "cell_type": "markdown",
   "metadata": {},
   "source": [
    "#### People missing a location "
   ]
  },
  {
   "cell_type": "code",
   "execution_count": 1200,
   "metadata": {},
   "outputs": [
    {
     "data": {
      "text/plain": [
       "19"
      ]
     },
     "execution_count": 1200,
     "metadata": {},
     "output_type": "execute_result"
    }
   ],
   "source": [
    "len(table[table.location == ''])"
   ]
  },
  {
   "cell_type": "code",
   "execution_count": 1201,
   "metadata": {},
   "outputs": [
    {
     "data": {
      "text/plain": [
       "['benlk',\n",
       " 'cecht',\n",
       " 'fagerlise',\n",
       " 'jayelle-o',\n",
       " 'jlagetz',\n",
       " 'karkinosw',\n",
       " 'katbuchholz',\n",
       " 'malon',\n",
       " 'mb10',\n",
       " 'mjlorda',\n",
       " 'mmhirsch',\n",
       " 'pumadegit',\n",
       " 'regirob831',\n",
       " 'samlo78',\n",
       " 'soorinkimmm',\n",
       " 'taraadiseshan',\n",
       " 'vromney',\n",
       " 'yujiap']"
      ]
     },
     "execution_count": 1201,
     "metadata": {},
     "output_type": "execute_result"
    }
   ],
   "source": [
    "sorted(table[table.location == ''].login.unique())"
   ]
  },
  {
   "cell_type": "markdown",
   "metadata": {},
   "source": [
    "#### People missing an email "
   ]
  },
  {
   "cell_type": "code",
   "execution_count": 1202,
   "metadata": {},
   "outputs": [
    {
     "data": {
      "text/plain": [
       "90"
      ]
     },
     "execution_count": 1202,
     "metadata": {},
     "output_type": "execute_result"
    }
   ],
   "source": [
    "len(table[table.email == ''])"
   ]
  },
  {
   "cell_type": "code",
   "execution_count": 1223,
   "metadata": {},
   "outputs": [
    {
     "data": {
      "text/plain": [
       "['absolutevan',\n",
       " 'amzam',\n",
       " 'anabranch',\n",
       " 'annkiha',\n",
       " 'aquintero4354',\n",
       " 'armendariz',\n",
       " 'bdin',\n",
       " 'brianmcgill',\n",
       " 'burtherman',\n",
       " 'carloslemos',\n",
       " 'caseymm',\n",
       " 'caseypt',\n",
       " 'cecht',\n",
       " 'chagan',\n",
       " 'chrisalcantara',\n",
       " 'danhillreports',\n",
       " 'danmit',\n",
       " 'dcloud',\n",
       " 'desireedesario',\n",
       " 'drtortoise',\n",
       " 'duner',\n",
       " 'ebonymarieb',\n",
       " 'elainewong',\n",
       " 'enactdev',\n",
       " 'fagerlise',\n",
       " 'fcoel',\n",
       " 'jayelle-o',\n",
       " 'jennbrandel',\n",
       " 'jernsthausen',\n",
       " 'jlagetz',\n",
       " 'joannalin',\n",
       " 'joshuarrrr',\n",
       " 'juliewestfall',\n",
       " 'karissa',\n",
       " 'karkinosw',\n",
       " 'katbuchholz',\n",
       " 'kevinbogardus',\n",
       " 'kissane',\n",
       " 'latams',\n",
       " 'lauragomezrod',\n",
       " 'lehrennyt',\n",
       " 'lengsj',\n",
       " 'livlab',\n",
       " 'macdiva',\n",
       " 'malon',\n",
       " 'maloym',\n",
       " 'mattdatajourno',\n",
       " 'mb10',\n",
       " 'melissaleu',\n",
       " 'merbroussard',\n",
       " 'miguelpaz',\n",
       " 'mijebner',\n",
       " 'mikereicher',\n",
       " 'mjenner',\n",
       " 'mjlorda',\n",
       " 'mmhirsch',\n",
       " 'momiperalta',\n",
       " 'nicolewest',\n",
       " 'nikkiusher',\n",
       " 'pumadegit',\n",
       " 'qstin',\n",
       " 'regirob831',\n",
       " 'sahilchinoy',\n",
       " 'samlo78',\n",
       " 'saraschnadt',\n",
       " 'soorinkimmm',\n",
       " 'sourcedouglas',\n",
       " 'taraadiseshan',\n",
       " 'tbone',\n",
       " 'tchristianmiller',\n",
       " 'tocateunvals',\n",
       " 'underthecurve',\n",
       " 'vigneshramachandran',\n",
       " 'vromney',\n",
       " 'yanofsky',\n",
       " 'yhy6f',\n",
       " 'yujiap']"
      ]
     },
     "execution_count": 1223,
     "metadata": {},
     "output_type": "execute_result"
    }
   ],
   "source": [
    "sorted(table[table.email == ''].login.unique())"
   ]
  },
  {
   "cell_type": "markdown",
   "metadata": {},
   "source": [
    "## Analysis"
   ]
  },
  {
   "cell_type": "markdown",
   "metadata": {},
   "source": [
    "### Totals "
   ]
  },
  {
   "cell_type": "code",
   "execution_count": 1203,
   "metadata": {},
   "outputs": [],
   "source": [
    "unique_contributors = table.groupby(\"login\", as_index=False).contributions.sum()"
   ]
  },
  {
   "cell_type": "code",
   "execution_count": 1204,
   "metadata": {},
   "outputs": [
    {
     "data": {
      "text/plain": [
       "5416"
      ]
     },
     "execution_count": 1204,
     "metadata": {},
     "output_type": "execute_result"
    }
   ],
   "source": [
    "unique_contributors.contributions.sum()"
   ]
  },
  {
   "cell_type": "code",
   "execution_count": 1205,
   "metadata": {},
   "outputs": [
    {
     "data": {
      "text/html": [
       "<div>\n",
       "<table border=\"1\" class=\"dataframe\">\n",
       "  <thead>\n",
       "    <tr style=\"text-align: right;\">\n",
       "      <th></th>\n",
       "      <th>contributions</th>\n",
       "    </tr>\n",
       "  </thead>\n",
       "  <tbody>\n",
       "    <tr>\n",
       "      <th>count</th>\n",
       "      <td>144.000000</td>\n",
       "    </tr>\n",
       "    <tr>\n",
       "      <th>mean</th>\n",
       "      <td>37.611111</td>\n",
       "    </tr>\n",
       "    <tr>\n",
       "      <th>std</th>\n",
       "      <td>268.814078</td>\n",
       "    </tr>\n",
       "    <tr>\n",
       "      <th>min</th>\n",
       "      <td>1.000000</td>\n",
       "    </tr>\n",
       "    <tr>\n",
       "      <th>25%</th>\n",
       "      <td>1.000000</td>\n",
       "    </tr>\n",
       "    <tr>\n",
       "      <th>50%</th>\n",
       "      <td>2.000000</td>\n",
       "    </tr>\n",
       "    <tr>\n",
       "      <th>75%</th>\n",
       "      <td>4.000000</td>\n",
       "    </tr>\n",
       "    <tr>\n",
       "      <th>max</th>\n",
       "      <td>2932.000000</td>\n",
       "    </tr>\n",
       "  </tbody>\n",
       "</table>\n",
       "</div>"
      ],
      "text/plain": [
       "       contributions\n",
       "count     144.000000\n",
       "mean       37.611111\n",
       "std       268.814078\n",
       "min         1.000000\n",
       "25%         1.000000\n",
       "50%         2.000000\n",
       "75%         4.000000\n",
       "max      2932.000000"
      ]
     },
     "execution_count": 1205,
     "metadata": {},
     "output_type": "execute_result"
    }
   ],
   "source": [
    "unique_contributors.describe()"
   ]
  },
  {
   "cell_type": "code",
   "execution_count": 1206,
   "metadata": {},
   "outputs": [
    {
     "data": {
      "text/plain": [
       "array([[<matplotlib.axes._subplots.AxesSubplot object at 0x7f3dddad2390>]], dtype=object)"
      ]
     },
     "execution_count": 1206,
     "metadata": {},
     "output_type": "execute_result"
    },
    {
     "data": {
      "image/png": "[encoded data removed]",
      "text/plain": [
       "<matplotlib.figure.Figure at 0x7f3dddbbb750>"
      ]
     },
     "metadata": {},
     "output_type": "display_data"
    }
   ],
   "source": [
    "unique_contributors.hist()"
   ]
  },
  {
   "cell_type": "markdown",
   "metadata": {},
   "source": [
    "### Contributions rankings"
   ]
  },
  {
   "cell_type": "code",
   "execution_count": 1207,
   "metadata": {},
   "outputs": [],
   "source": [
    "def rank_by_contributions(table, field):\n",
    "    grouped = table.groupby(field, as_index=False)\n",
    "    summed = grouped.contributions.sum()\n",
    "    return summed.sort_values(\"contributions\", ascending=False)"
   ]
  },
  {
   "cell_type": "code",
   "execution_count": 1208,
   "metadata": {
    "collapsed": false
   },
   "outputs": [
    {
     "data": {
      "text/html": [
       "<div>\n",
       "<table border=\"1\" class=\"dataframe\">\n",
       "  <thead>\n",
       "    <tr style=\"text-align: right;\">\n",
       "      <th></th>\n",
       "      <th>repo</th>\n",
       "      <th>contributions</th>\n",
       "    </tr>\n",
       "  </thead>\n",
       "  <tbody>\n",
       "    <tr>\n",
       "      <th>8</th>\n",
       "      <td>django-calaccess-raw-data</td>\n",
       "      <td>2391</td>\n",
       "    </tr>\n",
       "    <tr>\n",
       "      <th>0</th>\n",
       "      <td>california-civic-data-coalition.github.io</td>\n",
       "      <td>806</td>\n",
       "    </tr>\n",
       "    <tr>\n",
       "      <th>1</th>\n",
       "      <td>django-calaccess-campaign-browser</td>\n",
       "      <td>731</td>\n",
       "    </tr>\n",
       "    <tr>\n",
       "      <th>4</th>\n",
       "      <td>django-calaccess-downloads-website</td>\n",
       "      <td>718</td>\n",
       "    </tr>\n",
       "    <tr>\n",
       "      <th>6</th>\n",
       "      <td>django-calaccess-processed-data</td>\n",
       "      <td>288</td>\n",
       "    </tr>\n",
       "    <tr>\n",
       "      <th>9</th>\n",
       "      <td>django-calaccess-technical-documentation</td>\n",
       "      <td>229</td>\n",
       "    </tr>\n",
       "    <tr>\n",
       "      <th>10</th>\n",
       "      <td>django-postgres-copy</td>\n",
       "      <td>101</td>\n",
       "    </tr>\n",
       "    <tr>\n",
       "      <th>11</th>\n",
       "      <td>python-calaccess-notebooks</td>\n",
       "      <td>62</td>\n",
       "    </tr>\n",
       "    <tr>\n",
       "      <th>2</th>\n",
       "      <td>django-calaccess-cookbook</td>\n",
       "      <td>30</td>\n",
       "    </tr>\n",
       "    <tr>\n",
       "      <th>3</th>\n",
       "      <td>django-calaccess-docker</td>\n",
       "      <td>29</td>\n",
       "    </tr>\n",
       "    <tr>\n",
       "      <th>5</th>\n",
       "      <td>django-calaccess-lobbying-browser</td>\n",
       "      <td>23</td>\n",
       "    </tr>\n",
       "    <tr>\n",
       "      <th>7</th>\n",
       "      <td>django-calaccess-project-template</td>\n",
       "      <td>8</td>\n",
       "    </tr>\n",
       "  </tbody>\n",
       "</table>\n",
       "</div>"
      ],
      "text/plain": [
       "                                         repo  contributions\n",
       "8                   django-calaccess-raw-data           2391\n",
       "0   california-civic-data-coalition.github.io            806\n",
       "1           django-calaccess-campaign-browser            731\n",
       "4          django-calaccess-downloads-website            718\n",
       "6             django-calaccess-processed-data            288\n",
       "9    django-calaccess-technical-documentation            229\n",
       "10                       django-postgres-copy            101\n",
       "11                 python-calaccess-notebooks             62\n",
       "2                   django-calaccess-cookbook             30\n",
       "3                     django-calaccess-docker             29\n",
       "5           django-calaccess-lobbying-browser             23\n",
       "7           django-calaccess-project-template              8"
      ]
     },
     "execution_count": 1208,
     "metadata": {},
     "output_type": "execute_result"
    }
   ],
   "source": [
    "rank_by_contributions(table, 'repo').head(20)"
   ]
  },
  {
   "cell_type": "code",
   "execution_count": 1209,
   "metadata": {
    "collapsed": false
   },
   "outputs": [
    {
     "data": {
      "text/html": [
       "<div>\n",
       "<table border=\"1\" class=\"dataframe\">\n",
       "  <thead>\n",
       "    <tr style=\"text-align: right;\">\n",
       "      <th></th>\n",
       "      <th>login</th>\n",
       "      <th>contributions</th>\n",
       "    </tr>\n",
       "  </thead>\n",
       "  <tbody>\n",
       "    <tr>\n",
       "      <th>114</th>\n",
       "      <td>palewire</td>\n",
       "      <td>2932</td>\n",
       "    </tr>\n",
       "    <tr>\n",
       "      <th>50</th>\n",
       "      <td>gordonje</td>\n",
       "      <td>1329</td>\n",
       "    </tr>\n",
       "    <tr>\n",
       "      <th>0</th>\n",
       "      <td>aboutaaron</td>\n",
       "      <td>379</td>\n",
       "    </tr>\n",
       "    <tr>\n",
       "      <th>124</th>\n",
       "      <td>sahilchinoy</td>\n",
       "      <td>126</td>\n",
       "    </tr>\n",
       "    <tr>\n",
       "      <th>13</th>\n",
       "      <td>armendariz</td>\n",
       "      <td>69</td>\n",
       "    </tr>\n",
       "    <tr>\n",
       "      <th>7</th>\n",
       "      <td>anabranch</td>\n",
       "      <td>47</td>\n",
       "    </tr>\n",
       "    <tr>\n",
       "      <th>11</th>\n",
       "      <td>anthonyjpesce</td>\n",
       "      <td>40</td>\n",
       "    </tr>\n",
       "    <tr>\n",
       "      <th>21</th>\n",
       "      <td>caseymm</td>\n",
       "      <td>33</td>\n",
       "    </tr>\n",
       "    <tr>\n",
       "      <th>60</th>\n",
       "      <td>jjelosua</td>\n",
       "      <td>29</td>\n",
       "    </tr>\n",
       "    <tr>\n",
       "      <th>136</th>\n",
       "      <td>tocateunvals</td>\n",
       "      <td>25</td>\n",
       "    </tr>\n",
       "    <tr>\n",
       "      <th>26</th>\n",
       "      <td>charlex</td>\n",
       "      <td>23</td>\n",
       "    </tr>\n",
       "    <tr>\n",
       "      <th>48</th>\n",
       "      <td>frnsys</td>\n",
       "      <td>21</td>\n",
       "    </tr>\n",
       "    <tr>\n",
       "      <th>15</th>\n",
       "      <td>bcipolli</td>\n",
       "      <td>20</td>\n",
       "    </tr>\n",
       "    <tr>\n",
       "      <th>98</th>\n",
       "      <td>mhkeller</td>\n",
       "      <td>19</td>\n",
       "    </tr>\n",
       "    <tr>\n",
       "      <th>107</th>\n",
       "      <td>myersjustinc</td>\n",
       "      <td>18</td>\n",
       "    </tr>\n",
       "    <tr>\n",
       "      <th>68</th>\n",
       "      <td>julia67</td>\n",
       "      <td>12</td>\n",
       "    </tr>\n",
       "    <tr>\n",
       "      <th>85</th>\n",
       "      <td>livlab</td>\n",
       "      <td>11</td>\n",
       "    </tr>\n",
       "    <tr>\n",
       "      <th>33</th>\n",
       "      <td>danhillreports</td>\n",
       "      <td>11</td>\n",
       "    </tr>\n",
       "    <tr>\n",
       "      <th>19</th>\n",
       "      <td>burtherman</td>\n",
       "      <td>11</td>\n",
       "    </tr>\n",
       "    <tr>\n",
       "      <th>24</th>\n",
       "      <td>cephillips</td>\n",
       "      <td>10</td>\n",
       "    </tr>\n",
       "  </tbody>\n",
       "</table>\n",
       "</div>"
      ],
      "text/plain": [
       "              login  contributions\n",
       "114        palewire           2932\n",
       "50         gordonje           1329\n",
       "0        aboutaaron            379\n",
       "124     sahilchinoy            126\n",
       "13       armendariz             69\n",
       "7         anabranch             47\n",
       "11    anthonyjpesce             40\n",
       "21          caseymm             33\n",
       "60         jjelosua             29\n",
       "136    tocateunvals             25\n",
       "26          charlex             23\n",
       "48           frnsys             21\n",
       "15         bcipolli             20\n",
       "98         mhkeller             19\n",
       "107    myersjustinc             18\n",
       "68          julia67             12\n",
       "85           livlab             11\n",
       "33   danhillreports             11\n",
       "19       burtherman             11\n",
       "24       cephillips             10"
      ]
     },
     "execution_count": 1209,
     "metadata": {},
     "output_type": "execute_result"
    }
   ],
   "source": [
    "rank_by_contributions(table, 'login').head(20)"
   ]
  },
  {
   "cell_type": "code",
   "execution_count": 1210,
   "metadata": {
    "collapsed": false
   },
   "outputs": [
    {
     "data": {
      "text/html": [
       "<div>\n",
       "<table border=\"1\" class=\"dataframe\">\n",
       "  <thead>\n",
       "    <tr style=\"text-align: right;\">\n",
       "      <th></th>\n",
       "      <th>company</th>\n",
       "      <th>contributions</th>\n",
       "    </tr>\n",
       "  </thead>\n",
       "  <tbody>\n",
       "    <tr>\n",
       "      <th>43</th>\n",
       "      <td>Los Angeles Times</td>\n",
       "      <td>3017</td>\n",
       "    </tr>\n",
       "    <tr>\n",
       "      <th>15</th>\n",
       "      <td>California Civic Data Coalition</td>\n",
       "      <td>1329</td>\n",
       "    </tr>\n",
       "    <tr>\n",
       "      <th>79</th>\n",
       "      <td>Washington Post</td>\n",
       "      <td>387</td>\n",
       "    </tr>\n",
       "    <tr>\n",
       "      <th>70</th>\n",
       "      <td>UC Berkeley</td>\n",
       "      <td>126</td>\n",
       "    </tr>\n",
       "    <tr>\n",
       "      <th>50</th>\n",
       "      <td>New York Times</td>\n",
       "      <td>73</td>\n",
       "    </tr>\n",
       "    <tr>\n",
       "      <th>0</th>\n",
       "      <td></td>\n",
       "      <td>58</td>\n",
       "    </tr>\n",
       "    <tr>\n",
       "      <th>45</th>\n",
       "      <td>Mozilla OpenNews</td>\n",
       "      <td>49</td>\n",
       "    </tr>\n",
       "    <tr>\n",
       "      <th>24</th>\n",
       "      <td>Databricks</td>\n",
       "      <td>47</td>\n",
       "    </tr>\n",
       "    <tr>\n",
       "      <th>77</th>\n",
       "      <td>Vox Media</td>\n",
       "      <td>33</td>\n",
       "    </tr>\n",
       "    <tr>\n",
       "      <th>47</th>\n",
       "      <td>NPR</td>\n",
       "      <td>29</td>\n",
       "    </tr>\n",
       "    <tr>\n",
       "      <th>71</th>\n",
       "      <td>UC San Diego</td>\n",
       "      <td>20</td>\n",
       "    </tr>\n",
       "    <tr>\n",
       "      <th>6</th>\n",
       "      <td>Associated Press</td>\n",
       "      <td>19</td>\n",
       "    </tr>\n",
       "    <tr>\n",
       "      <th>39</th>\n",
       "      <td>Institute for Nonprofit News</td>\n",
       "      <td>19</td>\n",
       "    </tr>\n",
       "    <tr>\n",
       "      <th>11</th>\n",
       "      <td>Bloomberg</td>\n",
       "      <td>19</td>\n",
       "    </tr>\n",
       "    <tr>\n",
       "      <th>8</th>\n",
       "      <td>Austin American-Statesman</td>\n",
       "      <td>12</td>\n",
       "    </tr>\n",
       "    <tr>\n",
       "      <th>62</th>\n",
       "      <td>Stanford University</td>\n",
       "      <td>11</td>\n",
       "    </tr>\n",
       "    <tr>\n",
       "      <th>53</th>\n",
       "      <td>Northwestern</td>\n",
       "      <td>11</td>\n",
       "    </tr>\n",
       "    <tr>\n",
       "      <th>36</th>\n",
       "      <td>Hacks/Hackers</td>\n",
       "      <td>11</td>\n",
       "    </tr>\n",
       "    <tr>\n",
       "      <th>60</th>\n",
       "      <td>Sourcefabric</td>\n",
       "      <td>9</td>\n",
       "    </tr>\n",
       "    <tr>\n",
       "      <th>65</th>\n",
       "      <td>Tampa Bay Times</td>\n",
       "      <td>9</td>\n",
       "    </tr>\n",
       "  </tbody>\n",
       "</table>\n",
       "</div>"
      ],
      "text/plain": [
       "                            company  contributions\n",
       "43                Los Angeles Times           3017\n",
       "15  California Civic Data Coalition           1329\n",
       "79                  Washington Post            387\n",
       "70                      UC Berkeley            126\n",
       "50                   New York Times             73\n",
       "0                                               58\n",
       "45                 Mozilla OpenNews             49\n",
       "24                       Databricks             47\n",
       "77                        Vox Media             33\n",
       "47                              NPR             29\n",
       "71                     UC San Diego             20\n",
       "6                  Associated Press             19\n",
       "39     Institute for Nonprofit News             19\n",
       "11                        Bloomberg             19\n",
       "8         Austin American-Statesman             12\n",
       "62              Stanford University             11\n",
       "53                     Northwestern             11\n",
       "36                    Hacks/Hackers             11\n",
       "60                     Sourcefabric              9\n",
       "65                  Tampa Bay Times              9"
      ]
     },
     "execution_count": 1210,
     "metadata": {},
     "output_type": "execute_result"
    }
   ],
   "source": [
    "rank_by_contributions(table, 'company').head(20)"
   ]
  },
  {
   "cell_type": "code",
   "execution_count": 1211,
   "metadata": {},
   "outputs": [
    {
     "data": {
      "text/html": [
       "<div>\n",
       "<table border=\"1\" class=\"dataframe\">\n",
       "  <thead>\n",
       "    <tr style=\"text-align: right;\">\n",
       "      <th></th>\n",
       "      <th>location</th>\n",
       "      <th>contributions</th>\n",
       "    </tr>\n",
       "  </thead>\n",
       "  <tbody>\n",
       "    <tr>\n",
       "      <th>28</th>\n",
       "      <td>Los Angeles, CA</td>\n",
       "      <td>3021</td>\n",
       "    </tr>\n",
       "    <tr>\n",
       "      <th>15</th>\n",
       "      <td>Columbia, MO</td>\n",
       "      <td>1330</td>\n",
       "    </tr>\n",
       "    <tr>\n",
       "      <th>57</th>\n",
       "      <td>Washington, DC</td>\n",
       "      <td>423</td>\n",
       "    </tr>\n",
       "    <tr>\n",
       "      <th>35</th>\n",
       "      <td>New York, NY</td>\n",
       "      <td>157</td>\n",
       "    </tr>\n",
       "    <tr>\n",
       "      <th>5</th>\n",
       "      <td>Berkeley, CA</td>\n",
       "      <td>127</td>\n",
       "    </tr>\n",
       "    <tr>\n",
       "      <th>12</th>\n",
       "      <td>California</td>\n",
       "      <td>47</td>\n",
       "    </tr>\n",
       "    <tr>\n",
       "      <th>0</th>\n",
       "      <td></td>\n",
       "      <td>43</td>\n",
       "    </tr>\n",
       "    <tr>\n",
       "      <th>14</th>\n",
       "      <td>Chicago, IL</td>\n",
       "      <td>31</td>\n",
       "    </tr>\n",
       "    <tr>\n",
       "      <th>2</th>\n",
       "      <td>Argentina</td>\n",
       "      <td>25</td>\n",
       "    </tr>\n",
       "    <tr>\n",
       "      <th>55</th>\n",
       "      <td>United States</td>\n",
       "      <td>22</td>\n",
       "    </tr>\n",
       "    <tr>\n",
       "      <th>45</th>\n",
       "      <td>San Diego, CA</td>\n",
       "      <td>20</td>\n",
       "    </tr>\n",
       "    <tr>\n",
       "      <th>46</th>\n",
       "      <td>San Francisco</td>\n",
       "      <td>17</td>\n",
       "    </tr>\n",
       "    <tr>\n",
       "      <th>4</th>\n",
       "      <td>Austin, TX</td>\n",
       "      <td>14</td>\n",
       "    </tr>\n",
       "    <tr>\n",
       "      <th>54</th>\n",
       "      <td>USA</td>\n",
       "      <td>11</td>\n",
       "    </tr>\n",
       "    <tr>\n",
       "      <th>47</th>\n",
       "      <td>San Francisco, CA</td>\n",
       "      <td>10</td>\n",
       "    </tr>\n",
       "    <tr>\n",
       "      <th>39</th>\n",
       "      <td>Palo Alto</td>\n",
       "      <td>10</td>\n",
       "    </tr>\n",
       "    <tr>\n",
       "      <th>43</th>\n",
       "      <td>Prague, Czech Republic</td>\n",
       "      <td>9</td>\n",
       "    </tr>\n",
       "    <tr>\n",
       "      <th>51</th>\n",
       "      <td>Tampa, FL</td>\n",
       "      <td>9</td>\n",
       "    </tr>\n",
       "    <tr>\n",
       "      <th>21</th>\n",
       "      <td>Evanston, IL</td>\n",
       "      <td>7</td>\n",
       "    </tr>\n",
       "    <tr>\n",
       "      <th>48</th>\n",
       "      <td>Spokane, Wash.</td>\n",
       "      <td>6</td>\n",
       "    </tr>\n",
       "  </tbody>\n",
       "</table>\n",
       "</div>"
      ],
      "text/plain": [
       "                  location  contributions\n",
       "28         Los Angeles, CA           3021\n",
       "15            Columbia, MO           1330\n",
       "57          Washington, DC            423\n",
       "35            New York, NY            157\n",
       "5             Berkeley, CA            127\n",
       "12              California             47\n",
       "0                                      43\n",
       "14             Chicago, IL             31\n",
       "2                Argentina             25\n",
       "55           United States             22\n",
       "45           San Diego, CA             20\n",
       "46           San Francisco             17\n",
       "4               Austin, TX             14\n",
       "54                     USA             11\n",
       "47       San Francisco, CA             10\n",
       "39               Palo Alto             10\n",
       "43  Prague, Czech Republic              9\n",
       "51               Tampa, FL              9\n",
       "21            Evanston, IL              7\n",
       "48          Spokane, Wash.              6"
      ]
     },
     "execution_count": 1211,
     "metadata": {},
     "output_type": "execute_result"
    }
   ],
   "source": [
    "rank_by_contributions(table, 'location').head(20)"
   ]
  },
  {
   "cell_type": "markdown",
   "metadata": {},
   "source": [
    "### In coalition vs. out of coalition"
   ]
  },
  {
   "cell_type": "code",
   "execution_count": 1212,
   "metadata": {
    "collapsed": true
   },
   "outputs": [],
   "source": [
    "login_list = [\n",
    "    'palewire',\n",
    "    'gordonje',\n",
    "    'sahilchinoy',\n",
    "    'aboutaaron',\n",
    "    'armendariz',\n",
    "    'cephillips'\n",
    "]\n",
    "table['in_coalition'] = table.login.isin(login_list)"
   ]
  },
  {
   "cell_type": "code",
   "execution_count": 1213,
   "metadata": {
    "collapsed": false
   },
   "outputs": [
    {
     "data": {
      "text/plain": [
       "in_coalition\n",
       "False    148\n",
       "True      35\n",
       "dtype: int64"
      ]
     },
     "execution_count": 1213,
     "metadata": {},
     "output_type": "execute_result"
    }
   ],
   "source": [
    "table.groupby('in_coalition').size()"
   ]
  },
  {
   "cell_type": "code",
   "execution_count": 1214,
   "metadata": {
    "collapsed": false
   },
   "outputs": [
    {
     "data": {
      "text/plain": [
       "in_coalition\n",
       "False    0.808743\n",
       "True     0.191257\n",
       "dtype: float64"
      ]
     },
     "execution_count": 1214,
     "metadata": {},
     "output_type": "execute_result"
    }
   ],
   "source": [
    "table.groupby('in_coalition').size() / table.groupby('in_coalition').size().sum()"
   ]
  },
  {
   "cell_type": "code",
   "execution_count": 1215,
   "metadata": {
    "collapsed": false
   },
   "outputs": [
    {
     "data": {
      "text/plain": [
       "in_coalition\n",
       "False     571\n",
       "True     4845\n",
       "Name: contributions, dtype: int64"
      ]
     },
     "execution_count": 1215,
     "metadata": {},
     "output_type": "execute_result"
    }
   ],
   "source": [
    "table.groupby('in_coalition').contributions.sum()"
   ]
  },
  {
   "cell_type": "code",
   "execution_count": 1216,
   "metadata": {
    "collapsed": false
   },
   "outputs": [
    {
     "data": {
      "text/plain": [
       "in_coalition\n",
       "False    0.105428\n",
       "True     0.894572\n",
       "Name: contributions, dtype: float64"
      ]
     },
     "execution_count": 1216,
     "metadata": {},
     "output_type": "execute_result"
    }
   ],
   "source": [
    "table.groupby('in_coalition').contributions.sum() / table.groupby('in_coalition').contributions.sum().sum()"
   ]
  },
  {
   "cell_type": "markdown",
   "metadata": {},
   "source": [
    "## Unique contributors"
   ]
  },
  {
   "cell_type": "code",
   "execution_count": 1217,
   "metadata": {
    "collapsed": false
   },
   "outputs": [
    {
     "data": {
      "text/html": [
       "<div>\n",
       "<table border=\"1\" class=\"dataframe\">\n",
       "  <thead>\n",
       "    <tr style=\"text-align: right;\">\n",
       "      <th></th>\n",
       "      <th>repo</th>\n",
       "      <th>0</th>\n",
       "    </tr>\n",
       "  </thead>\n",
       "  <tbody>\n",
       "    <tr>\n",
       "      <th>8</th>\n",
       "      <td>django-calaccess-raw-data</td>\n",
       "      <td>132</td>\n",
       "    </tr>\n",
       "    <tr>\n",
       "      <th>1</th>\n",
       "      <td>django-calaccess-campaign-browser</td>\n",
       "      <td>18</td>\n",
       "    </tr>\n",
       "    <tr>\n",
       "      <th>0</th>\n",
       "      <td>california-civic-data-coalition.github.io</td>\n",
       "      <td>7</td>\n",
       "    </tr>\n",
       "    <tr>\n",
       "      <th>4</th>\n",
       "      <td>django-calaccess-downloads-website</td>\n",
       "      <td>7</td>\n",
       "    </tr>\n",
       "    <tr>\n",
       "      <th>9</th>\n",
       "      <td>django-calaccess-technical-documentation</td>\n",
       "      <td>5</td>\n",
       "    </tr>\n",
       "    <tr>\n",
       "      <th>5</th>\n",
       "      <td>django-calaccess-lobbying-browser</td>\n",
       "      <td>3</td>\n",
       "    </tr>\n",
       "    <tr>\n",
       "      <th>6</th>\n",
       "      <td>django-calaccess-processed-data</td>\n",
       "      <td>3</td>\n",
       "    </tr>\n",
       "    <tr>\n",
       "      <th>10</th>\n",
       "      <td>django-postgres-copy</td>\n",
       "      <td>3</td>\n",
       "    </tr>\n",
       "    <tr>\n",
       "      <th>11</th>\n",
       "      <td>python-calaccess-notebooks</td>\n",
       "      <td>2</td>\n",
       "    </tr>\n",
       "    <tr>\n",
       "      <th>2</th>\n",
       "      <td>django-calaccess-cookbook</td>\n",
       "      <td>1</td>\n",
       "    </tr>\n",
       "    <tr>\n",
       "      <th>3</th>\n",
       "      <td>django-calaccess-docker</td>\n",
       "      <td>1</td>\n",
       "    </tr>\n",
       "    <tr>\n",
       "      <th>7</th>\n",
       "      <td>django-calaccess-project-template</td>\n",
       "      <td>1</td>\n",
       "    </tr>\n",
       "  </tbody>\n",
       "</table>\n",
       "</div>"
      ],
      "text/plain": [
       "                                         repo    0\n",
       "8                   django-calaccess-raw-data  132\n",
       "1           django-calaccess-campaign-browser   18\n",
       "0   california-civic-data-coalition.github.io    7\n",
       "4          django-calaccess-downloads-website    7\n",
       "9    django-calaccess-technical-documentation    5\n",
       "5           django-calaccess-lobbying-browser    3\n",
       "6             django-calaccess-processed-data    3\n",
       "10                       django-postgres-copy    3\n",
       "11                 python-calaccess-notebooks    2\n",
       "2                   django-calaccess-cookbook    1\n",
       "3                     django-calaccess-docker    1\n",
       "7           django-calaccess-project-template    1"
      ]
     },
     "execution_count": 1217,
     "metadata": {},
     "output_type": "execute_result"
    }
   ],
   "source": [
    "table.groupby(\"repo\", as_index=False).size().reset_index().sort_values(0, ascending=False)"
   ]
  },
  {
   "cell_type": "code",
   "execution_count": 1218,
   "metadata": {
    "collapsed": true
   },
   "outputs": [],
   "source": [
    "unique_contributors = table.groupby([\"login\", \"company\", \"location\", \"avatar_url\"]).contributions.sum().reset_index()"
   ]
  },
  {
   "cell_type": "code",
   "execution_count": 1219,
   "metadata": {
    "collapsed": false
   },
   "outputs": [
    {
     "name": "stdout",
     "output_type": "stream",
     "text": [
      "<class 'pandas.core.frame.DataFrame'>\n",
      "RangeIndex: 144 entries, 0 to 143\n",
      "Data columns (total 5 columns):\n",
      "login            144 non-null object\n",
      "company          144 non-null object\n",
      "location         144 non-null object\n",
      "avatar_url       144 non-null object\n",
      "contributions    144 non-null int64\n",
      "dtypes: int64(1), object(4)\n",
      "memory usage: 5.7+ KB\n"
     ]
    }
   ],
   "source": [
    "unique_contributors.info()"
   ]
  },
  {
   "cell_type": "code",
   "execution_count": 1220,
   "metadata": {
    "collapsed": false
   },
   "outputs": [
    {
     "data": {
      "text/html": [
       "<div>\n",
       "<table border=\"1\" class=\"dataframe\">\n",
       "  <thead>\n",
       "    <tr style=\"text-align: right;\">\n",
       "      <th></th>\n",
       "      <th>login</th>\n",
       "      <th>company</th>\n",
       "      <th>location</th>\n",
       "      <th>avatar_url</th>\n",
       "      <th>contributions</th>\n",
       "    </tr>\n",
       "  </thead>\n",
       "  <tbody>\n",
       "    <tr>\n",
       "      <th>0</th>\n",
       "      <td>aboutaaron</td>\n",
       "      <td>Washington Post</td>\n",
       "      <td>Washington, DC</td>\n",
       "      <td>https://avatars.githubusercontent.com/u/856628...</td>\n",
       "      <td>379</td>\n",
       "    </tr>\n",
       "    <tr>\n",
       "      <th>1</th>\n",
       "      <td>absolutevan</td>\n",
       "      <td>Arizona Center for Investigative Reporting</td>\n",
       "      <td>Phoenix, AZ</td>\n",
       "      <td>https://avatars.githubusercontent.com/u/165300...</td>\n",
       "      <td>1</td>\n",
       "    </tr>\n",
       "    <tr>\n",
       "      <th>2</th>\n",
       "      <td>achavez</td>\n",
       "      <td>Dallas Morning News</td>\n",
       "      <td>Dallas, TX</td>\n",
       "      <td>https://avatars.githubusercontent.com/u/682828...</td>\n",
       "      <td>1</td>\n",
       "    </tr>\n",
       "    <tr>\n",
       "      <th>3</th>\n",
       "      <td>acoreynews</td>\n",
       "      <td>Arizona Republic</td>\n",
       "      <td>Las Vegas, NV</td>\n",
       "      <td>https://avatars.githubusercontent.com/u/562616...</td>\n",
       "      <td>1</td>\n",
       "    </tr>\n",
       "    <tr>\n",
       "      <th>4</th>\n",
       "      <td>amandabee</td>\n",
       "      <td>BuzzFeed</td>\n",
       "      <td>San Francisco, CA</td>\n",
       "      <td>https://avatars.githubusercontent.com/u/150791...</td>\n",
       "      <td>7</td>\n",
       "    </tr>\n",
       "    <tr>\n",
       "      <th>5</th>\n",
       "      <td>amzam</td>\n",
       "      <td>Texas Tribune</td>\n",
       "      <td>Austin, TX</td>\n",
       "      <td>https://avatars.githubusercontent.com/u/579612...</td>\n",
       "      <td>2</td>\n",
       "    </tr>\n",
       "    <tr>\n",
       "      <th>6</th>\n",
       "      <td>anabecker</td>\n",
       "      <td>Wall Street Journal</td>\n",
       "      <td>New York, NY</td>\n",
       "      <td>https://avatars.githubusercontent.com/u/265281...</td>\n",
       "      <td>1</td>\n",
       "    </tr>\n",
       "    <tr>\n",
       "      <th>7</th>\n",
       "      <td>anabranch</td>\n",
       "      <td>Databricks</td>\n",
       "      <td>California</td>\n",
       "      <td>https://avatars.githubusercontent.com/u/164250...</td>\n",
       "      <td>47</td>\n",
       "    </tr>\n",
       "    <tr>\n",
       "      <th>8</th>\n",
       "      <td>anniedaniel</td>\n",
       "      <td>Texas Tribune</td>\n",
       "      <td>Austin, TX</td>\n",
       "      <td>https://avatars.githubusercontent.com/u/512549...</td>\n",
       "      <td>1</td>\n",
       "    </tr>\n",
       "    <tr>\n",
       "      <th>9</th>\n",
       "      <td>annkiha</td>\n",
       "      <td>Fremover</td>\n",
       "      <td>Narvik, Norway</td>\n",
       "      <td>https://avatars.githubusercontent.com/u/113393...</td>\n",
       "      <td>1</td>\n",
       "    </tr>\n",
       "    <tr>\n",
       "      <th>10</th>\n",
       "      <td>anthonydb</td>\n",
       "      <td>DocumentCloud</td>\n",
       "      <td>United States</td>\n",
       "      <td>https://avatars.githubusercontent.com/u/273891...</td>\n",
       "      <td>1</td>\n",
       "    </tr>\n",
       "    <tr>\n",
       "      <th>11</th>\n",
       "      <td>anthonyjpesce</td>\n",
       "      <td>Los Angeles Times</td>\n",
       "      <td>Los Angeles, CA</td>\n",
       "      <td>https://avatars.githubusercontent.com/u/479290...</td>\n",
       "      <td>40</td>\n",
       "    </tr>\n",
       "    <tr>\n",
       "      <th>12</th>\n",
       "      <td>aquintero4354</td>\n",
       "      <td>Los Angeles Times</td>\n",
       "      <td>Los Angeles, CA</td>\n",
       "      <td>https://avatars.githubusercontent.com/u/177308...</td>\n",
       "      <td>1</td>\n",
       "    </tr>\n",
       "    <tr>\n",
       "      <th>13</th>\n",
       "      <td>armendariz</td>\n",
       "      <td>New York Times</td>\n",
       "      <td>New York, NY</td>\n",
       "      <td>https://avatars.githubusercontent.com/u/952608...</td>\n",
       "      <td>69</td>\n",
       "    </tr>\n",
       "    <tr>\n",
       "      <th>14</th>\n",
       "      <td>ashwu</td>\n",
       "      <td>Northwestern</td>\n",
       "      <td>Evanston, IL</td>\n",
       "      <td>https://avatars.githubusercontent.com/u/721038...</td>\n",
       "      <td>1</td>\n",
       "    </tr>\n",
       "    <tr>\n",
       "      <th>15</th>\n",
       "      <td>bcipolli</td>\n",
       "      <td>UC San Diego</td>\n",
       "      <td>San Diego, CA</td>\n",
       "      <td>https://avatars.githubusercontent.com/u/407245...</td>\n",
       "      <td>20</td>\n",
       "    </tr>\n",
       "    <tr>\n",
       "      <th>16</th>\n",
       "      <td>bdin</td>\n",
       "      <td>Northwestern</td>\n",
       "      <td>Evanston, IL</td>\n",
       "      <td>https://avatars.githubusercontent.com/u/944032...</td>\n",
       "      <td>2</td>\n",
       "    </tr>\n",
       "    <tr>\n",
       "      <th>17</th>\n",
       "      <td>benlk</td>\n",
       "      <td>Institute for Nonprofit News</td>\n",
       "      <td></td>\n",
       "      <td>https://avatars.githubusercontent.com/u/175418...</td>\n",
       "      <td>7</td>\n",
       "    </tr>\n",
       "    <tr>\n",
       "      <th>18</th>\n",
       "      <td>brianmcgill</td>\n",
       "      <td>Wall Street Journal</td>\n",
       "      <td>District of Columbia</td>\n",
       "      <td>https://avatars.githubusercontent.com/u/858281...</td>\n",
       "      <td>1</td>\n",
       "    </tr>\n",
       "    <tr>\n",
       "      <th>19</th>\n",
       "      <td>burtherman</td>\n",
       "      <td>Hacks/Hackers</td>\n",
       "      <td>San Francisco</td>\n",
       "      <td>https://avatars.githubusercontent.com/u/133105...</td>\n",
       "      <td>11</td>\n",
       "    </tr>\n",
       "    <tr>\n",
       "      <th>20</th>\n",
       "      <td>carloslemos</td>\n",
       "      <td>Globoesporte.com</td>\n",
       "      <td>São Paulo, Brazil</td>\n",
       "      <td>https://avatars.githubusercontent.com/u/158696...</td>\n",
       "      <td>2</td>\n",
       "    </tr>\n",
       "    <tr>\n",
       "      <th>21</th>\n",
       "      <td>caseymm</td>\n",
       "      <td>Vox Media</td>\n",
       "      <td>New York, NY</td>\n",
       "      <td>https://avatars.githubusercontent.com/u/352698...</td>\n",
       "      <td>33</td>\n",
       "    </tr>\n",
       "    <tr>\n",
       "      <th>22</th>\n",
       "      <td>caseypt</td>\n",
       "      <td>Azavea</td>\n",
       "      <td>Philadelphia, PA</td>\n",
       "      <td>https://avatars.githubusercontent.com/u/104247...</td>\n",
       "      <td>3</td>\n",
       "    </tr>\n",
       "    <tr>\n",
       "      <th>23</th>\n",
       "      <td>cecht</td>\n",
       "      <td></td>\n",
       "      <td></td>\n",
       "      <td>https://avatars.githubusercontent.com/u/112753...</td>\n",
       "      <td>1</td>\n",
       "    </tr>\n",
       "    <tr>\n",
       "      <th>24</th>\n",
       "      <td>cephillips</td>\n",
       "      <td>Stanford University</td>\n",
       "      <td>Palo Alto</td>\n",
       "      <td>https://avatars.githubusercontent.com/u/547438...</td>\n",
       "      <td>10</td>\n",
       "    </tr>\n",
       "  </tbody>\n",
       "</table>\n",
       "</div>"
      ],
      "text/plain": [
       "            login                                     company  \\\n",
       "0      aboutaaron                             Washington Post   \n",
       "1     absolutevan  Arizona Center for Investigative Reporting   \n",
       "2         achavez                         Dallas Morning News   \n",
       "3      acoreynews                            Arizona Republic   \n",
       "4       amandabee                                    BuzzFeed   \n",
       "5           amzam                               Texas Tribune   \n",
       "6       anabecker                         Wall Street Journal   \n",
       "7       anabranch                                  Databricks   \n",
       "8     anniedaniel                               Texas Tribune   \n",
       "9         annkiha                                    Fremover   \n",
       "10      anthonydb                               DocumentCloud   \n",
       "11  anthonyjpesce                           Los Angeles Times   \n",
       "12  aquintero4354                           Los Angeles Times   \n",
       "13     armendariz                              New York Times   \n",
       "14          ashwu                                Northwestern   \n",
       "15       bcipolli                                UC San Diego   \n",
       "16           bdin                                Northwestern   \n",
       "17          benlk                Institute for Nonprofit News   \n",
       "18    brianmcgill                         Wall Street Journal   \n",
       "19     burtherman                               Hacks/Hackers   \n",
       "20    carloslemos                            Globoesporte.com   \n",
       "21        caseymm                                   Vox Media   \n",
       "22        caseypt                                      Azavea   \n",
       "23          cecht                                               \n",
       "24     cephillips                         Stanford University   \n",
       "\n",
       "                location                                         avatar_url  \\\n",
       "0         Washington, DC  https://avatars.githubusercontent.com/u/856628...   \n",
       "1            Phoenix, AZ  https://avatars.githubusercontent.com/u/165300...   \n",
       "2             Dallas, TX  https://avatars.githubusercontent.com/u/682828...   \n",
       "3          Las Vegas, NV  https://avatars.githubusercontent.com/u/562616...   \n",
       "4      San Francisco, CA  https://avatars.githubusercontent.com/u/150791...   \n",
       "5             Austin, TX  https://avatars.githubusercontent.com/u/579612...   \n",
       "6           New York, NY  https://avatars.githubusercontent.com/u/265281...   \n",
       "7             California  https://avatars.githubusercontent.com/u/164250...   \n",
       "8             Austin, TX  https://avatars.githubusercontent.com/u/512549...   \n",
       "9         Narvik, Norway  https://avatars.githubusercontent.com/u/113393...   \n",
       "10         United States  https://avatars.githubusercontent.com/u/273891...   \n",
       "11       Los Angeles, CA  https://avatars.githubusercontent.com/u/479290...   \n",
       "12       Los Angeles, CA  https://avatars.githubusercontent.com/u/177308...   \n",
       "13          New York, NY  https://avatars.githubusercontent.com/u/952608...   \n",
       "14          Evanston, IL  https://avatars.githubusercontent.com/u/721038...   \n",
       "15         San Diego, CA  https://avatars.githubusercontent.com/u/407245...   \n",
       "16          Evanston, IL  https://avatars.githubusercontent.com/u/944032...   \n",
       "17                        https://avatars.githubusercontent.com/u/175418...   \n",
       "18  District of Columbia  https://avatars.githubusercontent.com/u/858281...   \n",
       "19         San Francisco  https://avatars.githubusercontent.com/u/133105...   \n",
       "20     São Paulo, Brazil  https://avatars.githubusercontent.com/u/158696...   \n",
       "21          New York, NY  https://avatars.githubusercontent.com/u/352698...   \n",
       "22      Philadelphia, PA  https://avatars.githubusercontent.com/u/104247...   \n",
       "23                        https://avatars.githubusercontent.com/u/112753...   \n",
       "24             Palo Alto  https://avatars.githubusercontent.com/u/547438...   \n",
       "\n",
       "    contributions  \n",
       "0             379  \n",
       "1               1  \n",
       "2               1  \n",
       "3               1  \n",
       "4               7  \n",
       "5               2  \n",
       "6               1  \n",
       "7              47  \n",
       "8               1  \n",
       "9               1  \n",
       "10              1  \n",
       "11             40  \n",
       "12              1  \n",
       "13             69  \n",
       "14              1  \n",
       "15             20  \n",
       "16              2  \n",
       "17              7  \n",
       "18              1  \n",
       "19             11  \n",
       "20              2  \n",
       "21             33  \n",
       "22              3  \n",
       "23              1  \n",
       "24             10  "
      ]
     },
     "execution_count": 1220,
     "metadata": {},
     "output_type": "execute_result"
    }
   ],
   "source": [
    "unique_contributors.sort_values(\"login\").head(25)"
   ]
  },
  {
   "cell_type": "code",
   "execution_count": 1221,
   "metadata": {
    "collapsed": true
   },
   "outputs": [],
   "source": [
    "unique_contributors.to_csv(\"./output/unique-contributors.csv\")"
   ]
  }
 ],
 "metadata": {
  "kernelspec": {
   "display_name": "Python 2",
   "language": "python",
   "name": "python2"
  },
  "language_info": {
   "codemirror_mode": {
    "name": "ipython",
    "version": 2
   },
   "file_extension": ".py",
   "mimetype": "text/x-python",
   "name": "python",
   "nbconvert_exporter": "python",
   "pygments_lexer": "ipython2",
   "version": "2.7.12"
  }
 },
 "nbformat": 4,
 "nbformat_minor": 0
}
