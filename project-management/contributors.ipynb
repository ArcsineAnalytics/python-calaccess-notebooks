{
 "cells": [
  {
   "cell_type": "markdown",
   "metadata": {},
   "source": [
    "# Contributors to California Civic Data Coalition repositories\n",
    "\n",
    "By Ben Welsh\n",
    "\n",
    "This analysis is drawn from the open-source list of contributors compiled by GitHub. It was last harvested on Dec. 18, 2016, [using a Python script that interacts with GitHub's API](https://github.com/california-civic-data-coalition/django-calaccess-raw-data/blob/master/example/network-analysis/contributors.csv).  "
   ]
  },
  {
   "cell_type": "code",
   "execution_count": 59,
   "metadata": {
    "collapsed": true
   },
   "outputs": [],
   "source": [
    "import pandas as pd\n",
    "import numpy as np"
   ]
  },
  {
   "cell_type": "markdown",
   "metadata": {},
   "source": [
    "## Load in the data"
   ]
  },
  {
   "cell_type": "code",
   "execution_count": 60,
   "metadata": {
    "collapsed": false
   },
   "outputs": [],
   "source": [
    "table = pd.read_csv(\"./input/contributors.csv\")"
   ]
  },
  {
   "cell_type": "code",
   "execution_count": 61,
   "metadata": {
    "collapsed": false
   },
   "outputs": [
    {
     "name": "stdout",
     "output_type": "stream",
     "text": [
      "<class 'pandas.core.frame.DataFrame'>\n",
      "RangeIndex: 183 entries, 0 to 182\n",
      "Data columns (total 9 columns):\n",
      "repo             183 non-null object\n",
      "login            183 non-null object\n",
      "name             141 non-null object\n",
      "email            93 non-null object\n",
      "company          93 non-null object\n",
      "location         118 non-null object\n",
      "bio              27 non-null object\n",
      "avatar_url       183 non-null object\n",
      "contributions    183 non-null int64\n",
      "dtypes: int64(1), object(8)\n",
      "memory usage: 12.9+ KB\n"
     ]
    }
   ],
   "source": [
    "table.info()"
   ]
  },
  {
   "cell_type": "markdown",
   "metadata": {},
   "source": [
    "### Clean up strings"
   ]
  },
  {
   "cell_type": "code",
   "execution_count": 62,
   "metadata": {
    "collapsed": true
   },
   "outputs": [],
   "source": [
    "table = table.replace(np.nan, \"\")"
   ]
  },
  {
   "cell_type": "code",
   "execution_count": 63,
   "metadata": {
    "collapsed": true
   },
   "outputs": [],
   "source": [
    "table.login = table.login.map(str.strip).str.lower()\n",
    "table.company = table.company.map(str.strip)\n",
    "table.location = table.location.map(str.strip)\n",
    "table.avatar_url = table.avatar_url.map(str.strip)"
   ]
  },
  {
   "cell_type": "markdown",
   "metadata": {},
   "source": [
    "### Merge in corrections"
   ]
  },
  {
   "cell_type": "code",
   "execution_count": 64,
   "metadata": {
    "collapsed": true
   },
   "outputs": [],
   "source": [
    "corrections = pd.read_csv(\"./input/contributors-corrections.csv\")"
   ]
  },
  {
   "cell_type": "code",
   "execution_count": 65,
   "metadata": {
    "collapsed": true
   },
   "outputs": [],
   "source": [
    "table = table.merge(corrections, on=\"login\", how=\"left\")"
   ]
  },
  {
   "cell_type": "code",
   "execution_count": 66,
   "metadata": {
    "collapsed": true
   },
   "outputs": [],
   "source": [
    "table.company = table.corrected_company.fillna(table.company)\n",
    "table.location = table.corrected_location.fillna(table.location)"
   ]
  },
  {
   "cell_type": "code",
   "execution_count": 67,
   "metadata": {
    "collapsed": true
   },
   "outputs": [],
   "source": [
    "table.drop('corrected_company', axis=1, inplace=True)\n",
    "table.drop('corrected_location', axis=1, inplace=True)"
   ]
  },
  {
   "cell_type": "markdown",
   "metadata": {},
   "source": [
    "#### People still missing a company"
   ]
  },
  {
   "cell_type": "code",
   "execution_count": 68,
   "metadata": {},
   "outputs": [
    {
     "data": {
      "text/plain": [
       "21"
      ]
     },
     "execution_count": 68,
     "metadata": {},
     "output_type": "execute_result"
    }
   ],
   "source": [
    "len(table[table.company == ''])"
   ]
  },
  {
   "cell_type": "code",
   "execution_count": 69,
   "metadata": {
    "collapsed": false
   },
   "outputs": [
    {
     "data": {
      "text/plain": [
       "array(['tocateunvals', 'yujiap', 'karkinosw', 'malon', 'katbuchholz',\n",
       "       'lauragomezrod', 'mjlorda', 'annkiha', 'cecht', 'nicolewest',\n",
       "       'pumadegit', 'danmit', 'jayelle-o', 'lengsj', 'mb10', 'mikereicher',\n",
       "       'mmhirsch', 'regirob831', 'samlo78', 'soorinkimmm', 'rkiddy'], dtype=object)"
      ]
     },
     "execution_count": 69,
     "metadata": {},
     "output_type": "execute_result"
    }
   ],
   "source": [
    "table[table.company == ''].login.unique()"
   ]
  },
  {
   "cell_type": "markdown",
   "metadata": {},
   "source": [
    "#### People missing a location "
   ]
  },
  {
   "cell_type": "code",
   "execution_count": 70,
   "metadata": {},
   "outputs": [
    {
     "data": {
      "text/plain": [
       "45"
      ]
     },
     "execution_count": 70,
     "metadata": {},
     "output_type": "execute_result"
    }
   ],
   "source": [
    "len(table[table.location == ''])"
   ]
  },
  {
   "cell_type": "code",
   "execution_count": 71,
   "metadata": {},
   "outputs": [
    {
     "data": {
      "text/plain": [
       "array(['sourcedouglas', 'benlk', 'yujiap', 'karkinosw', 'malon',\n",
       "       'mattdatajourno', 'duner', 'joshuarrrr', 'wcraft', 'bdin',\n",
       "       'desireedesario', 'jlagetz', 'katbuchholz', 'lauragomezrod',\n",
       "       'mjlorda', 'absolutevan', 'anabecker', 'annkiha', 'cecht',\n",
       "       'fagerlise', 'jennbrandel', 'nicolewest', 'pumadegit',\n",
       "       'saraschnadt', 'taraadiseshan', 'aquintero4354', 'danmit',\n",
       "       'ebonymarieb', 'jayelle-o', 'latams', 'lehrennyt', 'lengsj', 'mb10',\n",
       "       'merbroussard', 'mijebner', 'mikereicher', 'mmhirsch', 'nikkiusher',\n",
       "       'regirob831', 'samlo78', 'soorinkimmm', 'vromney', 'yanofsky',\n",
       "       'kissane'], dtype=object)"
      ]
     },
     "execution_count": 71,
     "metadata": {},
     "output_type": "execute_result"
    }
   ],
   "source": [
    "table[table.location == ''].login.unique()"
   ]
  },
  {
   "cell_type": "code",
   "execution_count": 87,
   "metadata": {
    "collapsed": false
   },
   "outputs": [
    {
     "data": {
      "text/html": [
       "<div>\n",
       "<table border=\"1\" class=\"dataframe\">\n",
       "  <thead>\n",
       "    <tr style=\"text-align: right;\">\n",
       "      <th></th>\n",
       "      <th>repo</th>\n",
       "      <th>login</th>\n",
       "      <th>name</th>\n",
       "      <th>email</th>\n",
       "      <th>company</th>\n",
       "      <th>location</th>\n",
       "      <th>bio</th>\n",
       "      <th>avatar_url</th>\n",
       "      <th>contributions</th>\n",
       "      <th>in_coalition</th>\n",
       "    </tr>\n",
       "  </thead>\n",
       "  <tbody>\n",
       "    <tr>\n",
       "      <th>0</th>\n",
       "      <td>django-calaccess-raw-data</td>\n",
       "      <td>palewire</td>\n",
       "      <td>Ben Welsh</td>\n",
       "      <td>ben.welsh@gmail.com</td>\n",
       "      <td>Los Angeles Times</td>\n",
       "      <td>Los Angeles</td>\n",
       "      <td>Editor, @datadesk. Organizer, @california-civi...</td>\n",
       "      <td>https://avatars.githubusercontent.com/u/9993?v=3</td>\n",
       "      <td>1054</td>\n",
       "      <td>True</td>\n",
       "    </tr>\n",
       "    <tr>\n",
       "      <th>1</th>\n",
       "      <td>django-calaccess-raw-data</td>\n",
       "      <td>gordonje</td>\n",
       "      <td>James Gordon</td>\n",
       "      <td>gordon.je@gmail.com</td>\n",
       "      <td>California Civic Data Coalition</td>\n",
       "      <td>Columbia, MO</td>\n",
       "      <td></td>\n",
       "      <td>https://avatars.githubusercontent.com/u/430454...</td>\n",
       "      <td>728</td>\n",
       "      <td>True</td>\n",
       "    </tr>\n",
       "    <tr>\n",
       "      <th>2</th>\n",
       "      <td>django-calaccess-raw-data</td>\n",
       "      <td>aboutaaron</td>\n",
       "      <td>Aaron Williams</td>\n",
       "      <td>aaron.colby.williams@gmail.com</td>\n",
       "      <td>The Washington Post</td>\n",
       "      <td>Washington, D.C.</td>\n",
       "      <td></td>\n",
       "      <td>https://avatars.githubusercontent.com/u/856628...</td>\n",
       "      <td>144</td>\n",
       "      <td>True</td>\n",
       "    </tr>\n",
       "    <tr>\n",
       "      <th>3</th>\n",
       "      <td>django-calaccess-raw-data</td>\n",
       "      <td>armendariz</td>\n",
       "      <td>Agustin Armendariz</td>\n",
       "      <td></td>\n",
       "      <td>New York Times</td>\n",
       "      <td>New York, NY</td>\n",
       "      <td></td>\n",
       "      <td>https://avatars.githubusercontent.com/u/952608...</td>\n",
       "      <td>50</td>\n",
       "      <td>True</td>\n",
       "    </tr>\n",
       "    <tr>\n",
       "      <th>4</th>\n",
       "      <td>django-calaccess-raw-data</td>\n",
       "      <td>anabranch</td>\n",
       "      <td>Bill Chambers</td>\n",
       "      <td></td>\n",
       "      <td>Databricks</td>\n",
       "      <td>California</td>\n",
       "      <td></td>\n",
       "      <td>https://avatars.githubusercontent.com/u/164250...</td>\n",
       "      <td>45</td>\n",
       "      <td>False</td>\n",
       "    </tr>\n",
       "  </tbody>\n",
       "</table>\n",
       "</div>"
      ],
      "text/plain": [
       "                        repo       login                name  \\\n",
       "0  django-calaccess-raw-data    palewire           Ben Welsh   \n",
       "1  django-calaccess-raw-data    gordonje        James Gordon   \n",
       "2  django-calaccess-raw-data  aboutaaron      Aaron Williams   \n",
       "3  django-calaccess-raw-data  armendariz  Agustin Armendariz   \n",
       "4  django-calaccess-raw-data   anabranch       Bill Chambers   \n",
       "\n",
       "                            email                          company  \\\n",
       "0             ben.welsh@gmail.com                Los Angeles Times   \n",
       "1             gordon.je@gmail.com  California Civic Data Coalition   \n",
       "2  aaron.colby.williams@gmail.com              The Washington Post   \n",
       "3                                                   New York Times   \n",
       "4                                                       Databricks   \n",
       "\n",
       "           location                                                bio  \\\n",
       "0       Los Angeles  Editor, @datadesk. Organizer, @california-civi...   \n",
       "1      Columbia, MO                                                      \n",
       "2  Washington, D.C.                                                      \n",
       "3      New York, NY                                                      \n",
       "4        California                                                      \n",
       "\n",
       "                                          avatar_url  contributions  \\\n",
       "0   https://avatars.githubusercontent.com/u/9993?v=3           1054   \n",
       "1  https://avatars.githubusercontent.com/u/430454...            728   \n",
       "2  https://avatars.githubusercontent.com/u/856628...            144   \n",
       "3  https://avatars.githubusercontent.com/u/952608...             50   \n",
       "4  https://avatars.githubusercontent.com/u/164250...             45   \n",
       "\n",
       "  in_coalition  \n",
       "0         True  \n",
       "1         True  \n",
       "2         True  \n",
       "3         True  \n",
       "4        False  "
      ]
     },
     "execution_count": 87,
     "metadata": {},
     "output_type": "execute_result"
    }
   ],
   "source": [
    "table.head(5)"
   ]
  },
  {
   "cell_type": "markdown",
   "metadata": {},
   "source": [
    "### Contribution rankings"
   ]
  },
  {
   "cell_type": "code",
   "execution_count": 73,
   "metadata": {
    "collapsed": false
   },
   "outputs": [
    {
     "data": {
      "text/html": [
       "<div>\n",
       "<table border=\"1\" class=\"dataframe\">\n",
       "  <thead>\n",
       "    <tr style=\"text-align: right;\">\n",
       "      <th></th>\n",
       "      <th>repo</th>\n",
       "      <th>contributions</th>\n",
       "    </tr>\n",
       "  </thead>\n",
       "  <tbody>\n",
       "    <tr>\n",
       "      <th>8</th>\n",
       "      <td>django-calaccess-raw-data</td>\n",
       "      <td>2391</td>\n",
       "    </tr>\n",
       "    <tr>\n",
       "      <th>0</th>\n",
       "      <td>california-civic-data-coalition.github.io</td>\n",
       "      <td>806</td>\n",
       "    </tr>\n",
       "    <tr>\n",
       "      <th>1</th>\n",
       "      <td>django-calaccess-campaign-browser</td>\n",
       "      <td>731</td>\n",
       "    </tr>\n",
       "    <tr>\n",
       "      <th>4</th>\n",
       "      <td>django-calaccess-downloads-website</td>\n",
       "      <td>718</td>\n",
       "    </tr>\n",
       "    <tr>\n",
       "      <th>6</th>\n",
       "      <td>django-calaccess-processed-data</td>\n",
       "      <td>288</td>\n",
       "    </tr>\n",
       "    <tr>\n",
       "      <th>9</th>\n",
       "      <td>django-calaccess-technical-documentation</td>\n",
       "      <td>229</td>\n",
       "    </tr>\n",
       "    <tr>\n",
       "      <th>10</th>\n",
       "      <td>django-postgres-copy</td>\n",
       "      <td>101</td>\n",
       "    </tr>\n",
       "    <tr>\n",
       "      <th>11</th>\n",
       "      <td>python-calaccess-notebooks</td>\n",
       "      <td>62</td>\n",
       "    </tr>\n",
       "    <tr>\n",
       "      <th>2</th>\n",
       "      <td>django-calaccess-cookbook</td>\n",
       "      <td>30</td>\n",
       "    </tr>\n",
       "    <tr>\n",
       "      <th>3</th>\n",
       "      <td>django-calaccess-docker</td>\n",
       "      <td>29</td>\n",
       "    </tr>\n",
       "    <tr>\n",
       "      <th>5</th>\n",
       "      <td>django-calaccess-lobbying-browser</td>\n",
       "      <td>23</td>\n",
       "    </tr>\n",
       "    <tr>\n",
       "      <th>7</th>\n",
       "      <td>django-calaccess-project-template</td>\n",
       "      <td>8</td>\n",
       "    </tr>\n",
       "  </tbody>\n",
       "</table>\n",
       "</div>"
      ],
      "text/plain": [
       "                                         repo  contributions\n",
       "8                   django-calaccess-raw-data           2391\n",
       "0   california-civic-data-coalition.github.io            806\n",
       "1           django-calaccess-campaign-browser            731\n",
       "4          django-calaccess-downloads-website            718\n",
       "6             django-calaccess-processed-data            288\n",
       "9    django-calaccess-technical-documentation            229\n",
       "10                       django-postgres-copy            101\n",
       "11                 python-calaccess-notebooks             62\n",
       "2                   django-calaccess-cookbook             30\n",
       "3                     django-calaccess-docker             29\n",
       "5           django-calaccess-lobbying-browser             23\n",
       "7           django-calaccess-project-template              8"
      ]
     },
     "execution_count": 73,
     "metadata": {},
     "output_type": "execute_result"
    }
   ],
   "source": [
    "table.groupby(\"repo\", as_index=False).contributions.sum().sort_values(\"contributions\", ascending=False)"
   ]
  },
  {
   "cell_type": "code",
   "execution_count": 74,
   "metadata": {
    "collapsed": false
   },
   "outputs": [
    {
     "data": {
      "text/html": [
       "<div>\n",
       "<table border=\"1\" class=\"dataframe\">\n",
       "  <thead>\n",
       "    <tr style=\"text-align: right;\">\n",
       "      <th></th>\n",
       "      <th>login</th>\n",
       "      <th>contributions</th>\n",
       "    </tr>\n",
       "  </thead>\n",
       "  <tbody>\n",
       "    <tr>\n",
       "      <th>114</th>\n",
       "      <td>palewire</td>\n",
       "      <td>2932</td>\n",
       "    </tr>\n",
       "    <tr>\n",
       "      <th>50</th>\n",
       "      <td>gordonje</td>\n",
       "      <td>1329</td>\n",
       "    </tr>\n",
       "    <tr>\n",
       "      <th>0</th>\n",
       "      <td>aboutaaron</td>\n",
       "      <td>379</td>\n",
       "    </tr>\n",
       "    <tr>\n",
       "      <th>124</th>\n",
       "      <td>sahilchinoy</td>\n",
       "      <td>126</td>\n",
       "    </tr>\n",
       "    <tr>\n",
       "      <th>13</th>\n",
       "      <td>armendariz</td>\n",
       "      <td>69</td>\n",
       "    </tr>\n",
       "    <tr>\n",
       "      <th>7</th>\n",
       "      <td>anabranch</td>\n",
       "      <td>47</td>\n",
       "    </tr>\n",
       "    <tr>\n",
       "      <th>11</th>\n",
       "      <td>anthonyjpesce</td>\n",
       "      <td>40</td>\n",
       "    </tr>\n",
       "    <tr>\n",
       "      <th>21</th>\n",
       "      <td>caseymm</td>\n",
       "      <td>33</td>\n",
       "    </tr>\n",
       "    <tr>\n",
       "      <th>60</th>\n",
       "      <td>jjelosua</td>\n",
       "      <td>29</td>\n",
       "    </tr>\n",
       "    <tr>\n",
       "      <th>136</th>\n",
       "      <td>tocateunvals</td>\n",
       "      <td>25</td>\n",
       "    </tr>\n",
       "  </tbody>\n",
       "</table>\n",
       "</div>"
      ],
      "text/plain": [
       "             login  contributions\n",
       "114       palewire           2932\n",
       "50        gordonje           1329\n",
       "0       aboutaaron            379\n",
       "124    sahilchinoy            126\n",
       "13      armendariz             69\n",
       "7        anabranch             47\n",
       "11   anthonyjpesce             40\n",
       "21         caseymm             33\n",
       "60        jjelosua             29\n",
       "136   tocateunvals             25"
      ]
     },
     "execution_count": 74,
     "metadata": {},
     "output_type": "execute_result"
    }
   ],
   "source": [
    "table.groupby('login', as_index=False).contributions.sum().sort_values(\"contributions\", ascending=False).head(10)"
   ]
  },
  {
   "cell_type": "code",
   "execution_count": 75,
   "metadata": {
    "collapsed": false
   },
   "outputs": [
    {
     "data": {
      "text/html": [
       "<div>\n",
       "<table border=\"1\" class=\"dataframe\">\n",
       "  <thead>\n",
       "    <tr style=\"text-align: right;\">\n",
       "      <th></th>\n",
       "      <th>company</th>\n",
       "      <th>contributions</th>\n",
       "    </tr>\n",
       "  </thead>\n",
       "  <tbody>\n",
       "    <tr>\n",
       "      <th>45</th>\n",
       "      <td>Los Angeles Times</td>\n",
       "      <td>3017</td>\n",
       "    </tr>\n",
       "    <tr>\n",
       "      <th>14</th>\n",
       "      <td>California Civic Data Coalition</td>\n",
       "      <td>1329</td>\n",
       "    </tr>\n",
       "    <tr>\n",
       "      <th>81</th>\n",
       "      <td>The Washington Post</td>\n",
       "      <td>382</td>\n",
       "    </tr>\n",
       "    <tr>\n",
       "      <th>83</th>\n",
       "      <td>UC Berkeley</td>\n",
       "      <td>126</td>\n",
       "    </tr>\n",
       "    <tr>\n",
       "      <th>54</th>\n",
       "      <td>New York Times</td>\n",
       "      <td>72</td>\n",
       "    </tr>\n",
       "    <tr>\n",
       "      <th>0</th>\n",
       "      <td></td>\n",
       "      <td>64</td>\n",
       "    </tr>\n",
       "    <tr>\n",
       "      <th>23</th>\n",
       "      <td>Databricks</td>\n",
       "      <td>47</td>\n",
       "    </tr>\n",
       "    <tr>\n",
       "      <th>48</th>\n",
       "      <td>Mozilla OpenNews</td>\n",
       "      <td>37</td>\n",
       "    </tr>\n",
       "    <tr>\n",
       "      <th>88</th>\n",
       "      <td>Vox Media</td>\n",
       "      <td>33</td>\n",
       "    </tr>\n",
       "    <tr>\n",
       "      <th>50</th>\n",
       "      <td>NPR</td>\n",
       "      <td>29</td>\n",
       "    </tr>\n",
       "  </tbody>\n",
       "</table>\n",
       "</div>"
      ],
      "text/plain": [
       "                            company  contributions\n",
       "45                Los Angeles Times           3017\n",
       "14  California Civic Data Coalition           1329\n",
       "81              The Washington Post            382\n",
       "83                      UC Berkeley            126\n",
       "54                   New York Times             72\n",
       "0                                               64\n",
       "23                       Databricks             47\n",
       "48                 Mozilla OpenNews             37\n",
       "88                        Vox Media             33\n",
       "50                              NPR             29"
      ]
     },
     "execution_count": 75,
     "metadata": {},
     "output_type": "execute_result"
    }
   ],
   "source": [
    "table.groupby('company', as_index=False).contributions.sum().sort_values(\"contributions\", ascending=False).head(10)"
   ]
  },
  {
   "cell_type": "markdown",
   "metadata": {},
   "source": [
    "### In coalition vs. out of coalition"
   ]
  },
  {
   "cell_type": "code",
   "execution_count": 76,
   "metadata": {
    "collapsed": true
   },
   "outputs": [],
   "source": [
    "login_list = [\n",
    "    'palewire',\n",
    "    'gordonje',\n",
    "    'sahilchinoy',\n",
    "    'aboutaaron',\n",
    "    'armendariz',\n",
    "    'cphillips'\n",
    "]\n",
    "table['in_coalition'] = table.login.isin(login_list)"
   ]
  },
  {
   "cell_type": "code",
   "execution_count": 77,
   "metadata": {
    "collapsed": false
   },
   "outputs": [
    {
     "data": {
      "text/plain": [
       "in_coalition\n",
       "False    150\n",
       "True      33\n",
       "dtype: int64"
      ]
     },
     "execution_count": 77,
     "metadata": {},
     "output_type": "execute_result"
    }
   ],
   "source": [
    "table.groupby('in_coalition').size()"
   ]
  },
  {
   "cell_type": "code",
   "execution_count": 78,
   "metadata": {
    "collapsed": false
   },
   "outputs": [
    {
     "data": {
      "text/plain": [
       "in_coalition\n",
       "False    0.819672\n",
       "True     0.180328\n",
       "dtype: float64"
      ]
     },
     "execution_count": 78,
     "metadata": {},
     "output_type": "execute_result"
    }
   ],
   "source": [
    "table.groupby('in_coalition').size() / table.groupby('in_coalition').size().sum()"
   ]
  },
  {
   "cell_type": "code",
   "execution_count": 79,
   "metadata": {
    "collapsed": false
   },
   "outputs": [
    {
     "data": {
      "text/plain": [
       "in_coalition\n",
       "False     581\n",
       "True     4835\n",
       "Name: contributions, dtype: int64"
      ]
     },
     "execution_count": 79,
     "metadata": {},
     "output_type": "execute_result"
    }
   ],
   "source": [
    "table.groupby('in_coalition').contributions.sum()"
   ]
  },
  {
   "cell_type": "code",
   "execution_count": 80,
   "metadata": {
    "collapsed": false
   },
   "outputs": [
    {
     "data": {
      "text/plain": [
       "in_coalition\n",
       "False    0.107275\n",
       "True     0.892725\n",
       "Name: contributions, dtype: float64"
      ]
     },
     "execution_count": 80,
     "metadata": {},
     "output_type": "execute_result"
    }
   ],
   "source": [
    "table.groupby('in_coalition').contributions.sum() / table.groupby('in_coalition').contributions.sum().sum()"
   ]
  },
  {
   "cell_type": "markdown",
   "metadata": {},
   "source": [
    "## Location"
   ]
  },
  {
   "cell_type": "code",
   "execution_count": 81,
   "metadata": {
    "collapsed": false
   },
   "outputs": [
    {
     "data": {
      "text/html": [
       "<div>\n",
       "<table border=\"1\" class=\"dataframe\">\n",
       "  <thead>\n",
       "    <tr style=\"text-align: right;\">\n",
       "      <th></th>\n",
       "      <th>location</th>\n",
       "      <th>contributions</th>\n",
       "    </tr>\n",
       "  </thead>\n",
       "  <tbody>\n",
       "    <tr>\n",
       "      <th>29</th>\n",
       "      <td>Los Angeles</td>\n",
       "      <td>2976</td>\n",
       "    </tr>\n",
       "    <tr>\n",
       "      <th>16</th>\n",
       "      <td>Columbia, MO</td>\n",
       "      <td>1330</td>\n",
       "    </tr>\n",
       "    <tr>\n",
       "      <th>55</th>\n",
       "      <td>Washington, D.C.</td>\n",
       "      <td>383</td>\n",
       "    </tr>\n",
       "    <tr>\n",
       "      <th>5</th>\n",
       "      <td>Berkeley, CA</td>\n",
       "      <td>127</td>\n",
       "    </tr>\n",
       "    <tr>\n",
       "      <th>35</th>\n",
       "      <td>New York, NY</td>\n",
       "      <td>126</td>\n",
       "    </tr>\n",
       "    <tr>\n",
       "      <th>0</th>\n",
       "      <td></td>\n",
       "      <td>91</td>\n",
       "    </tr>\n",
       "    <tr>\n",
       "      <th>12</th>\n",
       "      <td>California</td>\n",
       "      <td>47</td>\n",
       "    </tr>\n",
       "    <tr>\n",
       "      <th>30</th>\n",
       "      <td>Los Angeles, CA</td>\n",
       "      <td>40</td>\n",
       "    </tr>\n",
       "    <tr>\n",
       "      <th>56</th>\n",
       "      <td>Washington, DC</td>\n",
       "      <td>36</td>\n",
       "    </tr>\n",
       "    <tr>\n",
       "      <th>14</th>\n",
       "      <td>Chicago</td>\n",
       "      <td>26</td>\n",
       "    </tr>\n",
       "  </tbody>\n",
       "</table>\n",
       "</div>"
      ],
      "text/plain": [
       "            location  contributions\n",
       "29       Los Angeles           2976\n",
       "16      Columbia, MO           1330\n",
       "55  Washington, D.C.            383\n",
       "5       Berkeley, CA            127\n",
       "35      New York, NY            126\n",
       "0                                91\n",
       "12        California             47\n",
       "30   Los Angeles, CA             40\n",
       "56    Washington, DC             36\n",
       "14           Chicago             26"
      ]
     },
     "execution_count": 81,
     "metadata": {},
     "output_type": "execute_result"
    }
   ],
   "source": [
    "table.groupby('location', as_index=False).contributions.sum().sort_values(\"contributions\", ascending=False).head(10)"
   ]
  },
  {
   "cell_type": "markdown",
   "metadata": {},
   "source": [
    "## Unique contributors"
   ]
  },
  {
   "cell_type": "code",
   "execution_count": 82,
   "metadata": {
    "collapsed": false
   },
   "outputs": [
    {
     "data": {
      "text/html": [
       "<div>\n",
       "<table border=\"1\" class=\"dataframe\">\n",
       "  <thead>\n",
       "    <tr style=\"text-align: right;\">\n",
       "      <th></th>\n",
       "      <th>repo</th>\n",
       "      <th>0</th>\n",
       "    </tr>\n",
       "  </thead>\n",
       "  <tbody>\n",
       "    <tr>\n",
       "      <th>8</th>\n",
       "      <td>django-calaccess-raw-data</td>\n",
       "      <td>132</td>\n",
       "    </tr>\n",
       "    <tr>\n",
       "      <th>1</th>\n",
       "      <td>django-calaccess-campaign-browser</td>\n",
       "      <td>18</td>\n",
       "    </tr>\n",
       "    <tr>\n",
       "      <th>0</th>\n",
       "      <td>california-civic-data-coalition.github.io</td>\n",
       "      <td>7</td>\n",
       "    </tr>\n",
       "    <tr>\n",
       "      <th>4</th>\n",
       "      <td>django-calaccess-downloads-website</td>\n",
       "      <td>7</td>\n",
       "    </tr>\n",
       "    <tr>\n",
       "      <th>9</th>\n",
       "      <td>django-calaccess-technical-documentation</td>\n",
       "      <td>5</td>\n",
       "    </tr>\n",
       "    <tr>\n",
       "      <th>5</th>\n",
       "      <td>django-calaccess-lobbying-browser</td>\n",
       "      <td>3</td>\n",
       "    </tr>\n",
       "    <tr>\n",
       "      <th>6</th>\n",
       "      <td>django-calaccess-processed-data</td>\n",
       "      <td>3</td>\n",
       "    </tr>\n",
       "    <tr>\n",
       "      <th>10</th>\n",
       "      <td>django-postgres-copy</td>\n",
       "      <td>3</td>\n",
       "    </tr>\n",
       "    <tr>\n",
       "      <th>11</th>\n",
       "      <td>python-calaccess-notebooks</td>\n",
       "      <td>2</td>\n",
       "    </tr>\n",
       "    <tr>\n",
       "      <th>2</th>\n",
       "      <td>django-calaccess-cookbook</td>\n",
       "      <td>1</td>\n",
       "    </tr>\n",
       "    <tr>\n",
       "      <th>3</th>\n",
       "      <td>django-calaccess-docker</td>\n",
       "      <td>1</td>\n",
       "    </tr>\n",
       "    <tr>\n",
       "      <th>7</th>\n",
       "      <td>django-calaccess-project-template</td>\n",
       "      <td>1</td>\n",
       "    </tr>\n",
       "  </tbody>\n",
       "</table>\n",
       "</div>"
      ],
      "text/plain": [
       "                                         repo    0\n",
       "8                   django-calaccess-raw-data  132\n",
       "1           django-calaccess-campaign-browser   18\n",
       "0   california-civic-data-coalition.github.io    7\n",
       "4          django-calaccess-downloads-website    7\n",
       "9    django-calaccess-technical-documentation    5\n",
       "5           django-calaccess-lobbying-browser    3\n",
       "6             django-calaccess-processed-data    3\n",
       "10                       django-postgres-copy    3\n",
       "11                 python-calaccess-notebooks    2\n",
       "2                   django-calaccess-cookbook    1\n",
       "3                     django-calaccess-docker    1\n",
       "7           django-calaccess-project-template    1"
      ]
     },
     "execution_count": 82,
     "metadata": {},
     "output_type": "execute_result"
    }
   ],
   "source": [
    "table.groupby(\"repo\", as_index=False).size().reset_index().sort_values(0, ascending=False)"
   ]
  },
  {
   "cell_type": "code",
   "execution_count": 83,
   "metadata": {
    "collapsed": true
   },
   "outputs": [],
   "source": [
    "unique_contributors = table.groupby([\"login\", \"company\", \"location\", \"avatar_url\"]).contributions.sum().reset_index()"
   ]
  },
  {
   "cell_type": "code",
   "execution_count": 84,
   "metadata": {
    "collapsed": false
   },
   "outputs": [
    {
     "name": "stdout",
     "output_type": "stream",
     "text": [
      "<class 'pandas.core.frame.DataFrame'>\n",
      "RangeIndex: 144 entries, 0 to 143\n",
      "Data columns (total 5 columns):\n",
      "login            144 non-null object\n",
      "company          144 non-null object\n",
      "location         144 non-null object\n",
      "avatar_url       144 non-null object\n",
      "contributions    144 non-null int64\n",
      "dtypes: int64(1), object(4)\n",
      "memory usage: 5.7+ KB\n"
     ]
    }
   ],
   "source": [
    "unique_contributors.info()"
   ]
  },
  {
   "cell_type": "code",
   "execution_count": 85,
   "metadata": {
    "collapsed": false
   },
   "outputs": [
    {
     "data": {
      "text/html": [
       "<div>\n",
       "<table border=\"1\" class=\"dataframe\">\n",
       "  <thead>\n",
       "    <tr style=\"text-align: right;\">\n",
       "      <th></th>\n",
       "      <th>login</th>\n",
       "      <th>company</th>\n",
       "      <th>location</th>\n",
       "      <th>avatar_url</th>\n",
       "      <th>contributions</th>\n",
       "    </tr>\n",
       "  </thead>\n",
       "  <tbody>\n",
       "    <tr>\n",
       "      <th>0</th>\n",
       "      <td>aboutaaron</td>\n",
       "      <td>The Washington Post</td>\n",
       "      <td>Washington, D.C.</td>\n",
       "      <td>https://avatars.githubusercontent.com/u/856628...</td>\n",
       "      <td>379</td>\n",
       "    </tr>\n",
       "    <tr>\n",
       "      <th>1</th>\n",
       "      <td>absolutevan</td>\n",
       "      <td>Arizona Center for Investigative Reporting</td>\n",
       "      <td></td>\n",
       "      <td>https://avatars.githubusercontent.com/u/165300...</td>\n",
       "      <td>1</td>\n",
       "    </tr>\n",
       "    <tr>\n",
       "      <th>2</th>\n",
       "      <td>achavez</td>\n",
       "      <td>@DallasMorningNews</td>\n",
       "      <td>Dallas, TX</td>\n",
       "      <td>https://avatars.githubusercontent.com/u/682828...</td>\n",
       "      <td>1</td>\n",
       "    </tr>\n",
       "    <tr>\n",
       "      <th>3</th>\n",
       "      <td>acoreynews</td>\n",
       "      <td>Arizona Republic</td>\n",
       "      <td>Las Vegas, NV</td>\n",
       "      <td>https://avatars.githubusercontent.com/u/562616...</td>\n",
       "      <td>1</td>\n",
       "    </tr>\n",
       "    <tr>\n",
       "      <th>4</th>\n",
       "      <td>amandabee</td>\n",
       "      <td>@buzzfeed-openlab</td>\n",
       "      <td>San Francisco, CA</td>\n",
       "      <td>https://avatars.githubusercontent.com/u/150791...</td>\n",
       "      <td>7</td>\n",
       "    </tr>\n",
       "    <tr>\n",
       "      <th>5</th>\n",
       "      <td>amzam</td>\n",
       "      <td>Texas Tribune</td>\n",
       "      <td>Austin, TX</td>\n",
       "      <td>https://avatars.githubusercontent.com/u/579612...</td>\n",
       "      <td>2</td>\n",
       "    </tr>\n",
       "    <tr>\n",
       "      <th>6</th>\n",
       "      <td>anabecker</td>\n",
       "      <td>Wall Street Journal</td>\n",
       "      <td></td>\n",
       "      <td>https://avatars.githubusercontent.com/u/265281...</td>\n",
       "      <td>1</td>\n",
       "    </tr>\n",
       "    <tr>\n",
       "      <th>7</th>\n",
       "      <td>anabranch</td>\n",
       "      <td>Databricks</td>\n",
       "      <td>California</td>\n",
       "      <td>https://avatars.githubusercontent.com/u/164250...</td>\n",
       "      <td>47</td>\n",
       "    </tr>\n",
       "    <tr>\n",
       "      <th>8</th>\n",
       "      <td>anniedaniel</td>\n",
       "      <td>Texas Tribune</td>\n",
       "      <td>Austin, TX</td>\n",
       "      <td>https://avatars.githubusercontent.com/u/512549...</td>\n",
       "      <td>1</td>\n",
       "    </tr>\n",
       "    <tr>\n",
       "      <th>9</th>\n",
       "      <td>annkiha</td>\n",
       "      <td></td>\n",
       "      <td></td>\n",
       "      <td>https://avatars.githubusercontent.com/u/113393...</td>\n",
       "      <td>1</td>\n",
       "    </tr>\n",
       "    <tr>\n",
       "      <th>10</th>\n",
       "      <td>anthonydb</td>\n",
       "      <td>DocumentCloud</td>\n",
       "      <td>United States</td>\n",
       "      <td>https://avatars.githubusercontent.com/u/273891...</td>\n",
       "      <td>1</td>\n",
       "    </tr>\n",
       "    <tr>\n",
       "      <th>11</th>\n",
       "      <td>anthonyjpesce</td>\n",
       "      <td>Los Angeles Times</td>\n",
       "      <td>Los Angeles</td>\n",
       "      <td>https://avatars.githubusercontent.com/u/479290...</td>\n",
       "      <td>40</td>\n",
       "    </tr>\n",
       "    <tr>\n",
       "      <th>12</th>\n",
       "      <td>aquintero4354</td>\n",
       "      <td>Los Angeles Times</td>\n",
       "      <td></td>\n",
       "      <td>https://avatars.githubusercontent.com/u/177308...</td>\n",
       "      <td>1</td>\n",
       "    </tr>\n",
       "    <tr>\n",
       "      <th>13</th>\n",
       "      <td>armendariz</td>\n",
       "      <td>New York Times</td>\n",
       "      <td>New York, NY</td>\n",
       "      <td>https://avatars.githubusercontent.com/u/952608...</td>\n",
       "      <td>69</td>\n",
       "    </tr>\n",
       "    <tr>\n",
       "      <th>14</th>\n",
       "      <td>ashwu</td>\n",
       "      <td>Northwestern</td>\n",
       "      <td>Evanston, IL</td>\n",
       "      <td>https://avatars.githubusercontent.com/u/721038...</td>\n",
       "      <td>1</td>\n",
       "    </tr>\n",
       "    <tr>\n",
       "      <th>15</th>\n",
       "      <td>bcipolli</td>\n",
       "      <td>UC San Diego</td>\n",
       "      <td>San Diego, CA</td>\n",
       "      <td>https://avatars.githubusercontent.com/u/407245...</td>\n",
       "      <td>20</td>\n",
       "    </tr>\n",
       "    <tr>\n",
       "      <th>16</th>\n",
       "      <td>bdin</td>\n",
       "      <td>Northwestern</td>\n",
       "      <td></td>\n",
       "      <td>https://avatars.githubusercontent.com/u/944032...</td>\n",
       "      <td>2</td>\n",
       "    </tr>\n",
       "    <tr>\n",
       "      <th>17</th>\n",
       "      <td>benlk</td>\n",
       "      <td>Investigative News Network</td>\n",
       "      <td></td>\n",
       "      <td>https://avatars.githubusercontent.com/u/175418...</td>\n",
       "      <td>7</td>\n",
       "    </tr>\n",
       "    <tr>\n",
       "      <th>18</th>\n",
       "      <td>brianmcgill</td>\n",
       "      <td>The Wall Street Journal</td>\n",
       "      <td>District of Columbia</td>\n",
       "      <td>https://avatars.githubusercontent.com/u/858281...</td>\n",
       "      <td>1</td>\n",
       "    </tr>\n",
       "    <tr>\n",
       "      <th>19</th>\n",
       "      <td>burtherman</td>\n",
       "      <td>Hacks/Hackers</td>\n",
       "      <td>San Francisco</td>\n",
       "      <td>https://avatars.githubusercontent.com/u/133105...</td>\n",
       "      <td>11</td>\n",
       "    </tr>\n",
       "    <tr>\n",
       "      <th>20</th>\n",
       "      <td>carloslemos</td>\n",
       "      <td>Globoesporte.com</td>\n",
       "      <td>São Paulo, Brazil</td>\n",
       "      <td>https://avatars.githubusercontent.com/u/158696...</td>\n",
       "      <td>2</td>\n",
       "    </tr>\n",
       "    <tr>\n",
       "      <th>21</th>\n",
       "      <td>caseymm</td>\n",
       "      <td>Vox Media</td>\n",
       "      <td>New York, NY</td>\n",
       "      <td>https://avatars.githubusercontent.com/u/352698...</td>\n",
       "      <td>33</td>\n",
       "    </tr>\n",
       "    <tr>\n",
       "      <th>22</th>\n",
       "      <td>caseypt</td>\n",
       "      <td>Azavea</td>\n",
       "      <td>Philadelphia, PA</td>\n",
       "      <td>https://avatars.githubusercontent.com/u/104247...</td>\n",
       "      <td>3</td>\n",
       "    </tr>\n",
       "    <tr>\n",
       "      <th>23</th>\n",
       "      <td>cecht</td>\n",
       "      <td></td>\n",
       "      <td></td>\n",
       "      <td>https://avatars.githubusercontent.com/u/112753...</td>\n",
       "      <td>1</td>\n",
       "    </tr>\n",
       "    <tr>\n",
       "      <th>24</th>\n",
       "      <td>cephillips</td>\n",
       "      <td>Stanford University</td>\n",
       "      <td>Palo Alto</td>\n",
       "      <td>https://avatars.githubusercontent.com/u/547438...</td>\n",
       "      <td>10</td>\n",
       "    </tr>\n",
       "  </tbody>\n",
       "</table>\n",
       "</div>"
      ],
      "text/plain": [
       "            login                                     company  \\\n",
       "0      aboutaaron                         The Washington Post   \n",
       "1     absolutevan  Arizona Center for Investigative Reporting   \n",
       "2         achavez                          @DallasMorningNews   \n",
       "3      acoreynews                            Arizona Republic   \n",
       "4       amandabee                           @buzzfeed-openlab   \n",
       "5           amzam                               Texas Tribune   \n",
       "6       anabecker                         Wall Street Journal   \n",
       "7       anabranch                                  Databricks   \n",
       "8     anniedaniel                               Texas Tribune   \n",
       "9         annkiha                                               \n",
       "10      anthonydb                               DocumentCloud   \n",
       "11  anthonyjpesce                           Los Angeles Times   \n",
       "12  aquintero4354                           Los Angeles Times   \n",
       "13     armendariz                              New York Times   \n",
       "14          ashwu                                Northwestern   \n",
       "15       bcipolli                                UC San Diego   \n",
       "16           bdin                                Northwestern   \n",
       "17          benlk                  Investigative News Network   \n",
       "18    brianmcgill                     The Wall Street Journal   \n",
       "19     burtherman                               Hacks/Hackers   \n",
       "20    carloslemos                            Globoesporte.com   \n",
       "21        caseymm                                   Vox Media   \n",
       "22        caseypt                                      Azavea   \n",
       "23          cecht                                               \n",
       "24     cephillips                         Stanford University   \n",
       "\n",
       "                location                                         avatar_url  \\\n",
       "0       Washington, D.C.  https://avatars.githubusercontent.com/u/856628...   \n",
       "1                         https://avatars.githubusercontent.com/u/165300...   \n",
       "2             Dallas, TX  https://avatars.githubusercontent.com/u/682828...   \n",
       "3          Las Vegas, NV  https://avatars.githubusercontent.com/u/562616...   \n",
       "4      San Francisco, CA  https://avatars.githubusercontent.com/u/150791...   \n",
       "5             Austin, TX  https://avatars.githubusercontent.com/u/579612...   \n",
       "6                         https://avatars.githubusercontent.com/u/265281...   \n",
       "7             California  https://avatars.githubusercontent.com/u/164250...   \n",
       "8             Austin, TX  https://avatars.githubusercontent.com/u/512549...   \n",
       "9                         https://avatars.githubusercontent.com/u/113393...   \n",
       "10         United States  https://avatars.githubusercontent.com/u/273891...   \n",
       "11           Los Angeles  https://avatars.githubusercontent.com/u/479290...   \n",
       "12                        https://avatars.githubusercontent.com/u/177308...   \n",
       "13          New York, NY  https://avatars.githubusercontent.com/u/952608...   \n",
       "14          Evanston, IL  https://avatars.githubusercontent.com/u/721038...   \n",
       "15         San Diego, CA  https://avatars.githubusercontent.com/u/407245...   \n",
       "16                        https://avatars.githubusercontent.com/u/944032...   \n",
       "17                        https://avatars.githubusercontent.com/u/175418...   \n",
       "18  District of Columbia  https://avatars.githubusercontent.com/u/858281...   \n",
       "19         San Francisco  https://avatars.githubusercontent.com/u/133105...   \n",
       "20     São Paulo, Brazil  https://avatars.githubusercontent.com/u/158696...   \n",
       "21          New York, NY  https://avatars.githubusercontent.com/u/352698...   \n",
       "22      Philadelphia, PA  https://avatars.githubusercontent.com/u/104247...   \n",
       "23                        https://avatars.githubusercontent.com/u/112753...   \n",
       "24             Palo Alto  https://avatars.githubusercontent.com/u/547438...   \n",
       "\n",
       "    contributions  \n",
       "0             379  \n",
       "1               1  \n",
       "2               1  \n",
       "3               1  \n",
       "4               7  \n",
       "5               2  \n",
       "6               1  \n",
       "7              47  \n",
       "8               1  \n",
       "9               1  \n",
       "10              1  \n",
       "11             40  \n",
       "12              1  \n",
       "13             69  \n",
       "14              1  \n",
       "15             20  \n",
       "16              2  \n",
       "17              7  \n",
       "18              1  \n",
       "19             11  \n",
       "20              2  \n",
       "21             33  \n",
       "22              3  \n",
       "23              1  \n",
       "24             10  "
      ]
     },
     "execution_count": 85,
     "metadata": {},
     "output_type": "execute_result"
    }
   ],
   "source": [
    "unique_contributors.sort_values(\"login\").head(25)"
   ]
  },
  {
   "cell_type": "code",
   "execution_count": 86,
   "metadata": {
    "collapsed": true
   },
   "outputs": [],
   "source": [
    "unique_contributors.to_csv(\"./output/unique-contributors.csv\")"
   ]
  }
 ],
 "metadata": {
  "kernelspec": {
   "display_name": "Python 2",
   "language": "python",
   "name": "python2"
  },
  "language_info": {
   "codemirror_mode": {
    "name": "ipython",
    "version": 2
   },
   "file_extension": ".py",
   "mimetype": "text/x-python",
   "name": "python",
   "nbconvert_exporter": "python",
   "pygments_lexer": "ipython2",
   "version": "2.7.12"
  }
 },
 "nbformat": 4,
 "nbformat_minor": 0
}
