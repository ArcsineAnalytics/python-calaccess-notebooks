{
 "cells": [
  {
   "cell_type": "markdown",
   "metadata": {},
   "source": [
    "# Contributors to California Civic Data Coalition repositories\n",
    "\n",
    "By Ben Welsh\n",
    "\n",
    "This analysis is drawn from the open-source list of contributors compiled by GitHub. It was last harvested on Dec. 18, 2016, [using a Python script that interacts with GitHub's API](https://github.com/california-civic-data-coalition/django-calaccess-raw-data/blob/master/example/network-analysis/contributors.csv).  "
   ]
  },
  {
   "cell_type": "code",
   "execution_count": 500,
   "metadata": {
    "collapsed": true
   },
   "outputs": [],
   "source": [
    "import pandas as pd\n",
    "import numpy as np"
   ]
  },
  {
   "cell_type": "code",
   "execution_count": 501,
   "metadata": {},
   "outputs": [],
   "source": [
    "pd.options.display.max_rows = 5000"
   ]
  },
  {
   "cell_type": "code",
   "execution_count": 502,
   "metadata": {},
   "outputs": [],
   "source": [
    "%matplotlib inline"
   ]
  },
  {
   "cell_type": "markdown",
   "metadata": {},
   "source": [
    "## Load in the data"
   ]
  },
  {
   "cell_type": "code",
   "execution_count": 503,
   "metadata": {
    "collapsed": false
   },
   "outputs": [],
   "source": [
    "table = pd.read_csv(\"./input/contributors.csv\")"
   ]
  },
  {
   "cell_type": "code",
   "execution_count": 504,
   "metadata": {
    "collapsed": false
   },
   "outputs": [
    {
     "name": "stdout",
     "output_type": "stream",
     "text": [
      "<class 'pandas.core.frame.DataFrame'>\n",
      "RangeIndex: 183 entries, 0 to 182\n",
      "Data columns (total 9 columns):\n",
      "repo             183 non-null object\n",
      "login            183 non-null object\n",
      "name             141 non-null object\n",
      "email            93 non-null object\n",
      "company          93 non-null object\n",
      "location         118 non-null object\n",
      "bio              27 non-null object\n",
      "avatar_url       183 non-null object\n",
      "contributions    183 non-null int64\n",
      "dtypes: int64(1), object(8)\n",
      "memory usage: 12.9+ KB\n"
     ]
    }
   ],
   "source": [
    "table.info()"
   ]
  },
  {
   "cell_type": "markdown",
   "metadata": {},
   "source": [
    "### Clean up strings"
   ]
  },
  {
   "cell_type": "code",
   "execution_count": 505,
   "metadata": {
    "collapsed": true
   },
   "outputs": [],
   "source": [
    "table.replace(np.nan, \"\", inplace=True)"
   ]
  },
  {
   "cell_type": "code",
   "execution_count": 506,
   "metadata": {
    "collapsed": true
   },
   "outputs": [],
   "source": [
    "table.login = table.login.map(str.strip).str.lower()\n",
    "table.company = table.company.map(str.strip)\n",
    "table.location = table.location.map(str.strip)\n",
    "table.avatar_url = table.avatar_url.map(str.strip)"
   ]
  },
  {
   "cell_type": "markdown",
   "metadata": {},
   "source": [
    "### Merge in corrections"
   ]
  },
  {
   "cell_type": "code",
   "execution_count": 507,
   "metadata": {
    "collapsed": true
   },
   "outputs": [],
   "source": [
    "corrections = pd.read_csv(\"./input/contributors-corrections.csv\")"
   ]
  },
  {
   "cell_type": "code",
   "execution_count": 508,
   "metadata": {
    "collapsed": true
   },
   "outputs": [],
   "source": [
    "table = table.merge(corrections, on=\"login\", how=\"left\")"
   ]
  },
  {
   "cell_type": "code",
   "execution_count": 509,
   "metadata": {
    "collapsed": true
   },
   "outputs": [],
   "source": [
    "table.name = table.corrected_name.fillna(table.name)\n",
    "table.company = table.corrected_company.fillna(table.company)\n",
    "table.location = table.corrected_location.fillna(table.location)\n",
    "table.email = table.corrected_email.fillna(table.email)"
   ]
  },
  {
   "cell_type": "code",
   "execution_count": 510,
   "metadata": {
    "collapsed": true
   },
   "outputs": [],
   "source": [
    "table.drop('corrected_name', axis=1, inplace=True)\n",
    "table.drop('corrected_company', axis=1, inplace=True)\n",
    "table.drop('corrected_location', axis=1, inplace=True)\n",
    "table.drop('corrected_email', axis=1, inplace=True)"
   ]
  },
  {
   "cell_type": "markdown",
   "metadata": {},
   "source": [
    "### Merge some common variations"
   ]
  },
  {
   "cell_type": "code",
   "execution_count": 511,
   "metadata": {},
   "outputs": [],
   "source": [
    "table.loc[table.location.isin(['Los Angeles', 'Los Angeles, California']), 'location'] = 'Los Angeles, CA'\n",
    "table.loc[table.location.isin(['Washington D.C.', 'District of Columbia', 'Washington, D.C.']), 'location'] = 'Washington, DC'\n",
    "table.loc[table.location == 'Chicago', 'location'] = 'Chicago, IL'\n",
    "table.loc[table.location == 'San Francisco', 'location'] = 'San Francisco, CA'\n",
    "table.loc[table.location == 'Palo Alto', 'location'] = 'Palo Alto, CA'\n",
    "table.loc[table.location == 'Spokane, Wash.', 'location'] = 'Spokane, WA'\n",
    "table.loc[table.location == 'Hackney, London', 'location'] = 'London, UK'\n",
    "table.loc[table.location.isin(['Brooklyn', 'Brooklyn NY', 'Brooklyn, NY', 'NYC', 'New York']), 'location'] = 'New York, NY'\n",
    "table.loc[table.location == 'Columbia, Missouri', 'location'] = 'Columbia, MO'\n",
    "table.loc[table.location == 'Tucson, Arizona', 'location'] = 'Tucson, AZ'\n",
    "table.loc[table.location == 'Toronto', 'location'] = 'Toronto, Canada'\n",
    "table.loc[table.location == 'Salt Lake City, Utah', 'location'] = 'Salt Lake City, UT'\n",
    "table.loc[table.location == 'Houston', 'location'] = 'Houston, TX'\n",
    "table.loc[table.location == 'Orange County, Calif.', 'location'] = 'Houston, TX'"
   ]
  },
  {
   "cell_type": "code",
   "execution_count": 512,
   "metadata": {},
   "outputs": [],
   "source": [
    "table.company = table.company.str.replace(\"The \", \"\")\n",
    "table.loc[table.company == 'Sunnmorsposten', 'company'] = 'Sunnmørsposten'\n",
    "table.loc[table.company == 'Wall Street Journal.', 'company'] = 'Wall Street Journal'\n",
    "table.loc[table.company == 'Northwestern University Knight Lab', 'company'] = 'Northwestern'\n",
    "table.loc[table.company == 'Investigative News Network', 'company'] = 'Institute for Nonprofit News'\n",
    "table.loc[table.company == 'Stanford', 'company'] = 'Stanford University'\n",
    "table.loc[table.company == 'Missouri School of Journalism', 'company'] = 'University of Missouri'\n",
    "table.loc[table.company == 'University of Iowa School of Journalism', 'company'] = 'University of Iowa'\n",
    "table.loc[table.company == 'Knight-Mozilla fellow 2015', 'company'] = 'Mozilla OpenNews'\n",
    "table.loc[table.company == 'Knight-Mozilla Fellow', 'company'] = 'Mozilla OpenNews'"
   ]
  },
  {
   "cell_type": "markdown",
   "metadata": {},
   "source": [
    "### Identify gaps"
   ]
  },
  {
   "cell_type": "markdown",
   "metadata": {},
   "source": [
    "#### People missing a name "
   ]
  },
  {
   "cell_type": "code",
   "execution_count": 513,
   "metadata": {},
   "outputs": [
    {
     "data": {
      "text/plain": [
       "13"
      ]
     },
     "execution_count": 513,
     "metadata": {},
     "output_type": "execute_result"
    }
   ],
   "source": [
    "len(table[table.name == ''])"
   ]
  },
  {
   "cell_type": "code",
   "execution_count": 514,
   "metadata": {},
   "outputs": [
    {
     "data": {
      "text/plain": [
       "['cecht',\n",
       " 'jayelle-o',\n",
       " 'karkinosw',\n",
       " 'katbuchholz',\n",
       " 'malon',\n",
       " 'mb10',\n",
       " 'mjlorda',\n",
       " 'mmhirsch',\n",
       " 'pumadegit',\n",
       " 'regirob831',\n",
       " 'samlo78',\n",
       " 'soorinkimmm',\n",
       " 'yujiap']"
      ]
     },
     "execution_count": 514,
     "metadata": {},
     "output_type": "execute_result"
    }
   ],
   "source": [
    "sorted(table[table.name == ''].login.unique())"
   ]
  },
  {
   "cell_type": "markdown",
   "metadata": {},
   "source": [
    "#### People missing a company"
   ]
  },
  {
   "cell_type": "code",
   "execution_count": 515,
   "metadata": {},
   "outputs": [
    {
     "data": {
      "text/plain": [
       "15"
      ]
     },
     "execution_count": 515,
     "metadata": {},
     "output_type": "execute_result"
    }
   ],
   "source": [
    "len(table[table.company == ''])"
   ]
  },
  {
   "cell_type": "code",
   "execution_count": 516,
   "metadata": {
    "collapsed": false
   },
   "outputs": [
    {
     "data": {
      "text/plain": [
       "['cecht',\n",
       " 'jayelle-o',\n",
       " 'karkinosw',\n",
       " 'katbuchholz',\n",
       " 'malon',\n",
       " 'mb10',\n",
       " 'mjlorda',\n",
       " 'mmhirsch',\n",
       " 'pumadegit',\n",
       " 'regirob831',\n",
       " 'samlo78',\n",
       " 'soorinkimmm',\n",
       " 'tocateunvals',\n",
       " 'vromney',\n",
       " 'yujiap']"
      ]
     },
     "execution_count": 516,
     "metadata": {},
     "output_type": "execute_result"
    }
   ],
   "source": [
    "sorted(table[table.company == ''].login.unique())"
   ]
  },
  {
   "cell_type": "markdown",
   "metadata": {},
   "source": [
    "#### People missing a location "
   ]
  },
  {
   "cell_type": "code",
   "execution_count": 517,
   "metadata": {},
   "outputs": [
    {
     "data": {
      "text/plain": [
       "14"
      ]
     },
     "execution_count": 517,
     "metadata": {},
     "output_type": "execute_result"
    }
   ],
   "source": [
    "len(table[table.location == ''])"
   ]
  },
  {
   "cell_type": "code",
   "execution_count": 518,
   "metadata": {},
   "outputs": [
    {
     "data": {
      "text/plain": [
       "['cecht',\n",
       " 'jayelle-o',\n",
       " 'karkinosw',\n",
       " 'katbuchholz',\n",
       " 'malon',\n",
       " 'mb10',\n",
       " 'mjlorda',\n",
       " 'mmhirsch',\n",
       " 'pumadegit',\n",
       " 'regirob831',\n",
       " 'samlo78',\n",
       " 'soorinkimmm',\n",
       " 'vromney',\n",
       " 'yujiap']"
      ]
     },
     "execution_count": 518,
     "metadata": {},
     "output_type": "execute_result"
    }
   ],
   "source": [
    "sorted(table[table.location == ''].login.unique())"
   ]
  },
  {
   "cell_type": "markdown",
   "metadata": {},
   "source": [
    "#### People missing an email "
   ]
  },
  {
   "cell_type": "code",
   "execution_count": 519,
   "metadata": {},
   "outputs": [
    {
     "data": {
      "text/plain": [
       "32"
      ]
     },
     "execution_count": 519,
     "metadata": {},
     "output_type": "execute_result"
    }
   ],
   "source": [
    "len(table[table.email == ''])"
   ]
  },
  {
   "cell_type": "code",
   "execution_count": 520,
   "metadata": {},
   "outputs": [
    {
     "data": {
      "text/plain": [
       "['annkiha',\n",
       " 'burtherman',\n",
       " 'carloslemos',\n",
       " 'caseymm',\n",
       " 'cecht',\n",
       " 'chagan',\n",
       " 'danmit',\n",
       " 'drtortoise',\n",
       " 'ebonymarieb',\n",
       " 'elainewong',\n",
       " 'fagerlise',\n",
       " 'jayelle-o',\n",
       " 'jennbrandel',\n",
       " 'karkinosw',\n",
       " 'katbuchholz',\n",
       " 'livlab',\n",
       " 'malon',\n",
       " 'mb10',\n",
       " 'mijebner',\n",
       " 'mjlorda',\n",
       " 'mmhirsch',\n",
       " 'pumadegit',\n",
       " 'qstin',\n",
       " 'regirob831',\n",
       " 'samlo78',\n",
       " 'soorinkimmm',\n",
       " 'tocateunvals',\n",
       " 'vromney',\n",
       " 'yhy6f',\n",
       " 'yujiap']"
      ]
     },
     "execution_count": 520,
     "metadata": {},
     "output_type": "execute_result"
    }
   ],
   "source": [
    "sorted(table[table.email == ''].login.unique())"
   ]
  },
  {
   "cell_type": "markdown",
   "metadata": {},
   "source": [
    "## Analysis"
   ]
  },
  {
   "cell_type": "markdown",
   "metadata": {},
   "source": [
    "### Totals "
   ]
  },
  {
   "cell_type": "code",
   "execution_count": 521,
   "metadata": {},
   "outputs": [],
   "source": [
    "columns = [\n",
    "    \"login\",\n",
    "    \"name\",\n",
    "    \"email\",\n",
    "    \"company\",\n",
    "    \"location\",\n",
    "    \"bio\",\n",
    "    \"avatar_url\"\n",
    "]\n",
    "unique_contributors = table.groupby(columns, as_index=False).contributions.sum()"
   ]
  },
  {
   "cell_type": "code",
   "execution_count": 522,
   "metadata": {},
   "outputs": [
    {
     "data": {
      "text/plain": [
       "144"
      ]
     },
     "execution_count": 522,
     "metadata": {},
     "output_type": "execute_result"
    }
   ],
   "source": [
    "total_contributors = len(unique_contributors)\n",
    "total_contributors"
   ]
  },
  {
   "cell_type": "code",
   "execution_count": 523,
   "metadata": {},
   "outputs": [
    {
     "data": {
      "text/plain": [
       "5416"
      ]
     },
     "execution_count": 523,
     "metadata": {},
     "output_type": "execute_result"
    }
   ],
   "source": [
    "total_contributions = unique_contributors.contributions.sum()\n",
    "total_contributions"
   ]
  },
  {
   "cell_type": "code",
   "execution_count": 524,
   "metadata": {},
   "outputs": [
    {
     "data": {
      "text/html": [
       "<div>\n",
       "<table border=\"1\" class=\"dataframe\">\n",
       "  <thead>\n",
       "    <tr style=\"text-align: right;\">\n",
       "      <th></th>\n",
       "      <th>contributions</th>\n",
       "    </tr>\n",
       "  </thead>\n",
       "  <tbody>\n",
       "    <tr>\n",
       "      <th>count</th>\n",
       "      <td>144.000000</td>\n",
       "    </tr>\n",
       "    <tr>\n",
       "      <th>mean</th>\n",
       "      <td>37.611111</td>\n",
       "    </tr>\n",
       "    <tr>\n",
       "      <th>std</th>\n",
       "      <td>268.814078</td>\n",
       "    </tr>\n",
       "    <tr>\n",
       "      <th>min</th>\n",
       "      <td>1.000000</td>\n",
       "    </tr>\n",
       "    <tr>\n",
       "      <th>25%</th>\n",
       "      <td>1.000000</td>\n",
       "    </tr>\n",
       "    <tr>\n",
       "      <th>50%</th>\n",
       "      <td>2.000000</td>\n",
       "    </tr>\n",
       "    <tr>\n",
       "      <th>75%</th>\n",
       "      <td>4.000000</td>\n",
       "    </tr>\n",
       "    <tr>\n",
       "      <th>max</th>\n",
       "      <td>2932.000000</td>\n",
       "    </tr>\n",
       "  </tbody>\n",
       "</table>\n",
       "</div>"
      ],
      "text/plain": [
       "       contributions\n",
       "count     144.000000\n",
       "mean       37.611111\n",
       "std       268.814078\n",
       "min         1.000000\n",
       "25%         1.000000\n",
       "50%         2.000000\n",
       "75%         4.000000\n",
       "max      2932.000000"
      ]
     },
     "execution_count": 524,
     "metadata": {},
     "output_type": "execute_result"
    }
   ],
   "source": [
    "unique_contributors.describe()"
   ]
  },
  {
   "cell_type": "code",
   "execution_count": 525,
   "metadata": {},
   "outputs": [
    {
     "data": {
      "text/plain": [
       "array([[<matplotlib.axes._subplots.AxesSubplot object at 0x7fedead89610>]], dtype=object)"
      ]
     },
     "execution_count": 525,
     "metadata": {},
     "output_type": "execute_result"
    },
    {
     "data": {
      "image/png": "[encoded data removed]",
      "text/plain": [
       "<matplotlib.figure.Figure at 0x7fedead31950>"
      ]
     },
     "metadata": {},
     "output_type": "display_data"
    }
   ],
   "source": [
    "unique_contributors.hist()"
   ]
  },
  {
   "cell_type": "markdown",
   "metadata": {},
   "source": [
    "### Contributions rankings"
   ]
  },
  {
   "cell_type": "code",
   "execution_count": 561,
   "metadata": {},
   "outputs": [],
   "source": [
    "def rank_by_contributors(table, field):\n",
    "    grouped = table.groupby(field, as_index=False)\n",
    "    summed = grouped.login.count()\n",
    "    summed.columns = [field, 'count']\n",
    "    return summed"
   ]
  },
  {
   "cell_type": "code",
   "execution_count": 562,
   "metadata": {},
   "outputs": [],
   "source": [
    "def rank_by_contributions(table, field):\n",
    "    grouped = table.groupby(field, as_index=False)\n",
    "    return grouped.contributions.sum()"
   ]
  },
  {
   "cell_type": "code",
   "execution_count": 564,
   "metadata": {},
   "outputs": [],
   "source": [
    "def create_ranking(table, field):\n",
    "    count = rank_by_contributors(table, field)\n",
    "    summed = rank_by_contributions(table, field)\n",
    "    return count.merge(summed).sort_values(\"contributions\", ascending=False)"
   ]
  },
  {
   "cell_type": "markdown",
   "metadata": {},
   "source": [
    "#### Top repositories "
   ]
  },
  {
   "cell_type": "code",
   "execution_count": 566,
   "metadata": {
    "collapsed": false
   },
   "outputs": [
    {
     "data": {
      "text/html": [
       "<div>\n",
       "<table border=\"1\" class=\"dataframe\">\n",
       "  <thead>\n",
       "    <tr style=\"text-align: right;\">\n",
       "      <th></th>\n",
       "      <th>repo</th>\n",
       "      <th>count</th>\n",
       "      <th>contributions</th>\n",
       "    </tr>\n",
       "  </thead>\n",
       "  <tbody>\n",
       "    <tr>\n",
       "      <th>8</th>\n",
       "      <td>django-calaccess-raw-data</td>\n",
       "      <td>132</td>\n",
       "      <td>2391</td>\n",
       "    </tr>\n",
       "    <tr>\n",
       "      <th>0</th>\n",
       "      <td>california-civic-data-coalition.github.io</td>\n",
       "      <td>7</td>\n",
       "      <td>806</td>\n",
       "    </tr>\n",
       "    <tr>\n",
       "      <th>1</th>\n",
       "      <td>django-calaccess-campaign-browser</td>\n",
       "      <td>18</td>\n",
       "      <td>731</td>\n",
       "    </tr>\n",
       "    <tr>\n",
       "      <th>4</th>\n",
       "      <td>django-calaccess-downloads-website</td>\n",
       "      <td>7</td>\n",
       "      <td>718</td>\n",
       "    </tr>\n",
       "    <tr>\n",
       "      <th>6</th>\n",
       "      <td>django-calaccess-processed-data</td>\n",
       "      <td>3</td>\n",
       "      <td>288</td>\n",
       "    </tr>\n",
       "    <tr>\n",
       "      <th>9</th>\n",
       "      <td>django-calaccess-technical-documentation</td>\n",
       "      <td>5</td>\n",
       "      <td>229</td>\n",
       "    </tr>\n",
       "    <tr>\n",
       "      <th>10</th>\n",
       "      <td>django-postgres-copy</td>\n",
       "      <td>3</td>\n",
       "      <td>101</td>\n",
       "    </tr>\n",
       "    <tr>\n",
       "      <th>11</th>\n",
       "      <td>python-calaccess-notebooks</td>\n",
       "      <td>2</td>\n",
       "      <td>62</td>\n",
       "    </tr>\n",
       "    <tr>\n",
       "      <th>2</th>\n",
       "      <td>django-calaccess-cookbook</td>\n",
       "      <td>1</td>\n",
       "      <td>30</td>\n",
       "    </tr>\n",
       "    <tr>\n",
       "      <th>3</th>\n",
       "      <td>django-calaccess-docker</td>\n",
       "      <td>1</td>\n",
       "      <td>29</td>\n",
       "    </tr>\n",
       "    <tr>\n",
       "      <th>5</th>\n",
       "      <td>django-calaccess-lobbying-browser</td>\n",
       "      <td>3</td>\n",
       "      <td>23</td>\n",
       "    </tr>\n",
       "    <tr>\n",
       "      <th>7</th>\n",
       "      <td>django-calaccess-project-template</td>\n",
       "      <td>1</td>\n",
       "      <td>8</td>\n",
       "    </tr>\n",
       "  </tbody>\n",
       "</table>\n",
       "</div>"
      ],
      "text/plain": [
       "                                         repo  count  contributions\n",
       "8                   django-calaccess-raw-data    132           2391\n",
       "0   california-civic-data-coalition.github.io      7            806\n",
       "1           django-calaccess-campaign-browser     18            731\n",
       "4          django-calaccess-downloads-website      7            718\n",
       "6             django-calaccess-processed-data      3            288\n",
       "9    django-calaccess-technical-documentation      5            229\n",
       "10                       django-postgres-copy      3            101\n",
       "11                 python-calaccess-notebooks      2             62\n",
       "2                   django-calaccess-cookbook      1             30\n",
       "3                     django-calaccess-docker      1             29\n",
       "5           django-calaccess-lobbying-browser      3             23\n",
       "7           django-calaccess-project-template      1              8"
      ]
     },
     "execution_count": 566,
     "metadata": {},
     "output_type": "execute_result"
    }
   ],
   "source": [
    "create_ranking(table, 'repo').head(20)"
   ]
  },
  {
   "cell_type": "markdown",
   "metadata": {},
   "source": [
    "#### Top names"
   ]
  },
  {
   "cell_type": "code",
   "execution_count": 567,
   "metadata": {
    "collapsed": false
   },
   "outputs": [
    {
     "data": {
      "text/html": [
       "<div>\n",
       "<table border=\"1\" class=\"dataframe\">\n",
       "  <thead>\n",
       "    <tr style=\"text-align: right;\">\n",
       "      <th></th>\n",
       "      <th>name</th>\n",
       "      <th>count</th>\n",
       "      <th>contributions</th>\n",
       "    </tr>\n",
       "  </thead>\n",
       "  <tbody>\n",
       "    <tr>\n",
       "      <th>19</th>\n",
       "      <td>Ben Welsh</td>\n",
       "      <td>1</td>\n",
       "      <td>2932</td>\n",
       "    </tr>\n",
       "    <tr>\n",
       "      <th>59</th>\n",
       "      <td>James Gordon</td>\n",
       "      <td>1</td>\n",
       "      <td>1329</td>\n",
       "    </tr>\n",
       "    <tr>\n",
       "      <th>1</th>\n",
       "      <td>Aaron Williams</td>\n",
       "      <td>1</td>\n",
       "      <td>379</td>\n",
       "    </tr>\n",
       "    <tr>\n",
       "      <th>116</th>\n",
       "      <td>Sahil Chinoy</td>\n",
       "      <td>1</td>\n",
       "      <td>126</td>\n",
       "    </tr>\n",
       "    <tr>\n",
       "      <th>2</th>\n",
       "      <td>Agustin Armendariz</td>\n",
       "      <td>1</td>\n",
       "      <td>69</td>\n",
       "    </tr>\n",
       "    <tr>\n",
       "      <th>21</th>\n",
       "      <td>Bill Chambers</td>\n",
       "      <td>1</td>\n",
       "      <td>47</td>\n",
       "    </tr>\n",
       "    <tr>\n",
       "      <th>14</th>\n",
       "      <td>Anthony Pesce</td>\n",
       "      <td>1</td>\n",
       "      <td>40</td>\n",
       "    </tr>\n",
       "    <tr>\n",
       "      <th>25</th>\n",
       "      <td>Casey Miller</td>\n",
       "      <td>1</td>\n",
       "      <td>33</td>\n",
       "    </tr>\n",
       "    <tr>\n",
       "      <th>71</th>\n",
       "      <td>Juan Elosua</td>\n",
       "      <td>1</td>\n",
       "      <td>29</td>\n",
       "    </tr>\n",
       "    <tr>\n",
       "      <th>0</th>\n",
       "      <td></td>\n",
       "      <td>13</td>\n",
       "      <td>29</td>\n",
       "    </tr>\n",
       "    <tr>\n",
       "      <th>87</th>\n",
       "      <td>Luciana Godoy</td>\n",
       "      <td>1</td>\n",
       "      <td>25</td>\n",
       "    </tr>\n",
       "    <tr>\n",
       "      <th>28</th>\n",
       "      <td>Charley Bodkin</td>\n",
       "      <td>1</td>\n",
       "      <td>23</td>\n",
       "    </tr>\n",
       "    <tr>\n",
       "      <th>53</th>\n",
       "      <td>Francis Tseng</td>\n",
       "      <td>1</td>\n",
       "      <td>21</td>\n",
       "    </tr>\n",
       "    <tr>\n",
       "      <th>17</th>\n",
       "      <td>Ben Cipollini</td>\n",
       "      <td>1</td>\n",
       "      <td>20</td>\n",
       "    </tr>\n",
       "    <tr>\n",
       "      <th>99</th>\n",
       "      <td>Michael Keller</td>\n",
       "      <td>1</td>\n",
       "      <td>19</td>\n",
       "    </tr>\n",
       "    <tr>\n",
       "      <th>74</th>\n",
       "      <td>Justin Myers</td>\n",
       "      <td>1</td>\n",
       "      <td>18</td>\n",
       "    </tr>\n",
       "    <tr>\n",
       "      <th>72</th>\n",
       "      <td>Julia Smith</td>\n",
       "      <td>1</td>\n",
       "      <td>12</td>\n",
       "    </tr>\n",
       "    <tr>\n",
       "      <th>23</th>\n",
       "      <td>Burt Herman</td>\n",
       "      <td>1</td>\n",
       "      <td>11</td>\n",
       "    </tr>\n",
       "    <tr>\n",
       "      <th>38</th>\n",
       "      <td>Dan Hill</td>\n",
       "      <td>1</td>\n",
       "      <td>11</td>\n",
       "    </tr>\n",
       "    <tr>\n",
       "      <th>86</th>\n",
       "      <td>Livia Labate</td>\n",
       "      <td>1</td>\n",
       "      <td>11</td>\n",
       "    </tr>\n",
       "  </tbody>\n",
       "</table>\n",
       "</div>"
      ],
      "text/plain": [
       "                   name  count  contributions\n",
       "19            Ben Welsh      1           2932\n",
       "59         James Gordon      1           1329\n",
       "1        Aaron Williams      1            379\n",
       "116        Sahil Chinoy      1            126\n",
       "2    Agustin Armendariz      1             69\n",
       "21        Bill Chambers      1             47\n",
       "14        Anthony Pesce      1             40\n",
       "25         Casey Miller      1             33\n",
       "71          Juan Elosua      1             29\n",
       "0                           13             29\n",
       "87        Luciana Godoy      1             25\n",
       "28       Charley Bodkin      1             23\n",
       "53        Francis Tseng      1             21\n",
       "17        Ben Cipollini      1             20\n",
       "99       Michael Keller      1             19\n",
       "74         Justin Myers      1             18\n",
       "72          Julia Smith      1             12\n",
       "23          Burt Herman      1             11\n",
       "38             Dan Hill      1             11\n",
       "86         Livia Labate      1             11"
      ]
     },
     "execution_count": 567,
     "metadata": {},
     "output_type": "execute_result"
    }
   ],
   "source": [
    "create_ranking(unique_contributors, 'name').head(20)"
   ]
  },
  {
   "cell_type": "markdown",
   "metadata": {},
   "source": [
    "#### Top companies"
   ]
  },
  {
   "cell_type": "code",
   "execution_count": 568,
   "metadata": {
    "collapsed": false
   },
   "outputs": [
    {
     "data": {
      "text/html": [
       "<div>\n",
       "<table border=\"1\" class=\"dataframe\">\n",
       "  <thead>\n",
       "    <tr style=\"text-align: right;\">\n",
       "      <th></th>\n",
       "      <th>company</th>\n",
       "      <th>count</th>\n",
       "      <th>contributions</th>\n",
       "    </tr>\n",
       "  </thead>\n",
       "  <tbody>\n",
       "    <tr>\n",
       "      <th>43</th>\n",
       "      <td>Los Angeles Times</td>\n",
       "      <td>16</td>\n",
       "      <td>3016</td>\n",
       "    </tr>\n",
       "    <tr>\n",
       "      <th>15</th>\n",
       "      <td>California Civic Data Coalition</td>\n",
       "      <td>1</td>\n",
       "      <td>1329</td>\n",
       "    </tr>\n",
       "    <tr>\n",
       "      <th>79</th>\n",
       "      <td>Washington Post</td>\n",
       "      <td>3</td>\n",
       "      <td>387</td>\n",
       "    </tr>\n",
       "    <tr>\n",
       "      <th>70</th>\n",
       "      <td>UC Berkeley</td>\n",
       "      <td>1</td>\n",
       "      <td>126</td>\n",
       "    </tr>\n",
       "    <tr>\n",
       "      <th>50</th>\n",
       "      <td>New York Times</td>\n",
       "      <td>4</td>\n",
       "      <td>73</td>\n",
       "    </tr>\n",
       "    <tr>\n",
       "      <th>0</th>\n",
       "      <td></td>\n",
       "      <td>15</td>\n",
       "      <td>55</td>\n",
       "    </tr>\n",
       "    <tr>\n",
       "      <th>45</th>\n",
       "      <td>Mozilla OpenNews</td>\n",
       "      <td>7</td>\n",
       "      <td>47</td>\n",
       "    </tr>\n",
       "    <tr>\n",
       "      <th>23</th>\n",
       "      <td>Databricks</td>\n",
       "      <td>1</td>\n",
       "      <td>47</td>\n",
       "    </tr>\n",
       "    <tr>\n",
       "      <th>77</th>\n",
       "      <td>Vox Media</td>\n",
       "      <td>2</td>\n",
       "      <td>36</td>\n",
       "    </tr>\n",
       "    <tr>\n",
       "      <th>47</th>\n",
       "      <td>NPR</td>\n",
       "      <td>1</td>\n",
       "      <td>29</td>\n",
       "    </tr>\n",
       "    <tr>\n",
       "      <th>71</th>\n",
       "      <td>UC San Diego</td>\n",
       "      <td>1</td>\n",
       "      <td>20</td>\n",
       "    </tr>\n",
       "    <tr>\n",
       "      <th>6</th>\n",
       "      <td>Associated Press</td>\n",
       "      <td>2</td>\n",
       "      <td>19</td>\n",
       "    </tr>\n",
       "    <tr>\n",
       "      <th>39</th>\n",
       "      <td>Institute for Nonprofit News</td>\n",
       "      <td>2</td>\n",
       "      <td>19</td>\n",
       "    </tr>\n",
       "    <tr>\n",
       "      <th>11</th>\n",
       "      <td>Bloomberg</td>\n",
       "      <td>1</td>\n",
       "      <td>19</td>\n",
       "    </tr>\n",
       "    <tr>\n",
       "      <th>8</th>\n",
       "      <td>Austin American-Statesman</td>\n",
       "      <td>3</td>\n",
       "      <td>13</td>\n",
       "    </tr>\n",
       "    <tr>\n",
       "      <th>62</th>\n",
       "      <td>Stanford University</td>\n",
       "      <td>2</td>\n",
       "      <td>11</td>\n",
       "    </tr>\n",
       "    <tr>\n",
       "      <th>53</th>\n",
       "      <td>Northwestern</td>\n",
       "      <td>4</td>\n",
       "      <td>11</td>\n",
       "    </tr>\n",
       "    <tr>\n",
       "      <th>36</th>\n",
       "      <td>Hacks/Hackers</td>\n",
       "      <td>1</td>\n",
       "      <td>11</td>\n",
       "    </tr>\n",
       "    <tr>\n",
       "      <th>60</th>\n",
       "      <td>Sourcefabric</td>\n",
       "      <td>1</td>\n",
       "      <td>9</td>\n",
       "    </tr>\n",
       "    <tr>\n",
       "      <th>65</th>\n",
       "      <td>Tampa Bay Times</td>\n",
       "      <td>1</td>\n",
       "      <td>9</td>\n",
       "    </tr>\n",
       "  </tbody>\n",
       "</table>\n",
       "</div>"
      ],
      "text/plain": [
       "                            company  count  contributions\n",
       "43                Los Angeles Times     16           3016\n",
       "15  California Civic Data Coalition      1           1329\n",
       "79                  Washington Post      3            387\n",
       "70                      UC Berkeley      1            126\n",
       "50                   New York Times      4             73\n",
       "0                                       15             55\n",
       "45                 Mozilla OpenNews      7             47\n",
       "23                       Databricks      1             47\n",
       "77                        Vox Media      2             36\n",
       "47                              NPR      1             29\n",
       "71                     UC San Diego      1             20\n",
       "6                  Associated Press      2             19\n",
       "39     Institute for Nonprofit News      2             19\n",
       "11                        Bloomberg      1             19\n",
       "8         Austin American-Statesman      3             13\n",
       "62              Stanford University      2             11\n",
       "53                     Northwestern      4             11\n",
       "36                    Hacks/Hackers      1             11\n",
       "60                     Sourcefabric      1              9\n",
       "65                  Tampa Bay Times      1              9"
      ]
     },
     "execution_count": 568,
     "metadata": {},
     "output_type": "execute_result"
    }
   ],
   "source": [
    "create_ranking(unique_contributors, 'company').head(20)"
   ]
  },
  {
   "cell_type": "markdown",
   "metadata": {},
   "source": [
    "#### Top locations "
   ]
  },
  {
   "cell_type": "code",
   "execution_count": 569,
   "metadata": {},
   "outputs": [
    {
     "data": {
      "text/html": [
       "<div>\n",
       "<table border=\"1\" class=\"dataframe\">\n",
       "  <thead>\n",
       "    <tr style=\"text-align: right;\">\n",
       "      <th></th>\n",
       "      <th>location</th>\n",
       "      <th>count</th>\n",
       "      <th>contributions</th>\n",
       "    </tr>\n",
       "  </thead>\n",
       "  <tbody>\n",
       "    <tr>\n",
       "      <th>26</th>\n",
       "      <td>Los Angeles, CA</td>\n",
       "      <td>19</td>\n",
       "      <td>3023</td>\n",
       "    </tr>\n",
       "    <tr>\n",
       "      <th>12</th>\n",
       "      <td>Columbia, MO</td>\n",
       "      <td>3</td>\n",
       "      <td>1331</td>\n",
       "    </tr>\n",
       "    <tr>\n",
       "      <th>48</th>\n",
       "      <td>Washington, DC</td>\n",
       "      <td>15</td>\n",
       "      <td>428</td>\n",
       "    </tr>\n",
       "    <tr>\n",
       "      <th>5</th>\n",
       "      <td>Berkeley, CA</td>\n",
       "      <td>4</td>\n",
       "      <td>176</td>\n",
       "    </tr>\n",
       "    <tr>\n",
       "      <th>29</th>\n",
       "      <td>New York, NY</td>\n",
       "      <td>19</td>\n",
       "      <td>167</td>\n",
       "    </tr>\n",
       "    <tr>\n",
       "      <th>11</th>\n",
       "      <td>Chicago, IL</td>\n",
       "      <td>6</td>\n",
       "      <td>31</td>\n",
       "    </tr>\n",
       "    <tr>\n",
       "      <th>8</th>\n",
       "      <td>Buenos Aires, Argentina</td>\n",
       "      <td>5</td>\n",
       "      <td>30</td>\n",
       "    </tr>\n",
       "    <tr>\n",
       "      <th>0</th>\n",
       "      <td></td>\n",
       "      <td>14</td>\n",
       "      <td>30</td>\n",
       "    </tr>\n",
       "    <tr>\n",
       "      <th>38</th>\n",
       "      <td>San Francisco, CA</td>\n",
       "      <td>8</td>\n",
       "      <td>27</td>\n",
       "    </tr>\n",
       "    <tr>\n",
       "      <th>37</th>\n",
       "      <td>San Diego, CA</td>\n",
       "      <td>1</td>\n",
       "      <td>20</td>\n",
       "    </tr>\n",
       "    <tr>\n",
       "      <th>4</th>\n",
       "      <td>Austin, TX</td>\n",
       "      <td>4</td>\n",
       "      <td>15</td>\n",
       "    </tr>\n",
       "    <tr>\n",
       "      <th>31</th>\n",
       "      <td>Omaha, NE</td>\n",
       "      <td>1</td>\n",
       "      <td>12</td>\n",
       "    </tr>\n",
       "    <tr>\n",
       "      <th>32</th>\n",
       "      <td>Palo Alto, CA</td>\n",
       "      <td>2</td>\n",
       "      <td>11</td>\n",
       "    </tr>\n",
       "    <tr>\n",
       "      <th>21</th>\n",
       "      <td>Kigali, Rwanda</td>\n",
       "      <td>1</td>\n",
       "      <td>11</td>\n",
       "    </tr>\n",
       "    <tr>\n",
       "      <th>35</th>\n",
       "      <td>Prague, Czech Republic</td>\n",
       "      <td>1</td>\n",
       "      <td>9</td>\n",
       "    </tr>\n",
       "    <tr>\n",
       "      <th>45</th>\n",
       "      <td>Tampa, FL</td>\n",
       "      <td>1</td>\n",
       "      <td>9</td>\n",
       "    </tr>\n",
       "    <tr>\n",
       "      <th>13</th>\n",
       "      <td>Columbus, OH</td>\n",
       "      <td>1</td>\n",
       "      <td>7</td>\n",
       "    </tr>\n",
       "    <tr>\n",
       "      <th>17</th>\n",
       "      <td>Evanston, IL</td>\n",
       "      <td>3</td>\n",
       "      <td>7</td>\n",
       "    </tr>\n",
       "    <tr>\n",
       "      <th>24</th>\n",
       "      <td>London, UK</td>\n",
       "      <td>1</td>\n",
       "      <td>6</td>\n",
       "    </tr>\n",
       "    <tr>\n",
       "      <th>3</th>\n",
       "      <td>Atlanta, GA</td>\n",
       "      <td>2</td>\n",
       "      <td>6</td>\n",
       "    </tr>\n",
       "  </tbody>\n",
       "</table>\n",
       "</div>"
      ],
      "text/plain": [
       "                   location  count  contributions\n",
       "26          Los Angeles, CA     19           3023\n",
       "12             Columbia, MO      3           1331\n",
       "48           Washington, DC     15            428\n",
       "5              Berkeley, CA      4            176\n",
       "29             New York, NY     19            167\n",
       "11              Chicago, IL      6             31\n",
       "8   Buenos Aires, Argentina      5             30\n",
       "0                               14             30\n",
       "38        San Francisco, CA      8             27\n",
       "37            San Diego, CA      1             20\n",
       "4                Austin, TX      4             15\n",
       "31                Omaha, NE      1             12\n",
       "32            Palo Alto, CA      2             11\n",
       "21           Kigali, Rwanda      1             11\n",
       "35   Prague, Czech Republic      1              9\n",
       "45                Tampa, FL      1              9\n",
       "13             Columbus, OH      1              7\n",
       "17             Evanston, IL      3              7\n",
       "24               London, UK      1              6\n",
       "3               Atlanta, GA      2              6"
      ]
     },
     "execution_count": 569,
     "metadata": {},
     "output_type": "execute_result"
    }
   ],
   "source": [
    "create_ranking(unique_contributors, 'location').head(20)"
   ]
  },
  {
   "cell_type": "markdown",
   "metadata": {},
   "source": [
    "### Contributions from inside coalition vs. outside of coalition"
   ]
  },
  {
   "cell_type": "code",
   "execution_count": 531,
   "metadata": {
    "collapsed": true
   },
   "outputs": [],
   "source": [
    "login_list = [\n",
    "    'palewire',\n",
    "    'gordonje',\n",
    "    'sahilchinoy',\n",
    "    'aboutaaron',\n",
    "    'armendariz',\n",
    "    'cephillips',\n",
    "    'jlagetz'\n",
    "]\n",
    "unique_contributors['in_coalition'] = unique_contributors.login.isin(login_list)"
   ]
  },
  {
   "cell_type": "code",
   "execution_count": 532,
   "metadata": {
    "collapsed": false
   },
   "outputs": [],
   "source": [
    "coalition_table = unique_contributors.groupby('in_coalition').size().reset_index()\n",
    "coalition_table.columns = ['in_coalition', 'count']"
   ]
  },
  {
   "cell_type": "code",
   "execution_count": 533,
   "metadata": {},
   "outputs": [],
   "source": [
    "coalition_table['count_percent'] = coalition_table['count'] / total_contributors"
   ]
  },
  {
   "cell_type": "code",
   "execution_count": 534,
   "metadata": {
    "collapsed": false
   },
   "outputs": [],
   "source": [
    "coalition_table = coalition_table.merge(unique_contributors.groupby('in_coalition').contributions.sum().reset_index())"
   ]
  },
  {
   "cell_type": "code",
   "execution_count": 535,
   "metadata": {
    "collapsed": false
   },
   "outputs": [],
   "source": [
    "coalition_table['contributions_percent'] = coalition_table['contributions'] / total_contributions"
   ]
  },
  {
   "cell_type": "code",
   "execution_count": 536,
   "metadata": {},
   "outputs": [
    {
     "data": {
      "text/html": [
       "<div>\n",
       "<table border=\"1\" class=\"dataframe\">\n",
       "  <thead>\n",
       "    <tr style=\"text-align: right;\">\n",
       "      <th></th>\n",
       "      <th>in_coalition</th>\n",
       "      <th>count</th>\n",
       "      <th>count_percent</th>\n",
       "      <th>contributions</th>\n",
       "      <th>contributions_percent</th>\n",
       "    </tr>\n",
       "  </thead>\n",
       "  <tbody>\n",
       "    <tr>\n",
       "      <th>1</th>\n",
       "      <td>True</td>\n",
       "      <td>7</td>\n",
       "      <td>0.048611</td>\n",
       "      <td>4847</td>\n",
       "      <td>0.894941</td>\n",
       "    </tr>\n",
       "    <tr>\n",
       "      <th>0</th>\n",
       "      <td>False</td>\n",
       "      <td>137</td>\n",
       "      <td>0.951389</td>\n",
       "      <td>569</td>\n",
       "      <td>0.105059</td>\n",
       "    </tr>\n",
       "  </tbody>\n",
       "</table>\n",
       "</div>"
      ],
      "text/plain": [
       "  in_coalition  count  count_percent  contributions  contributions_percent\n",
       "1         True      7       0.048611           4847               0.894941\n",
       "0        False    137       0.951389            569               0.105059"
      ]
     },
     "execution_count": 536,
     "metadata": {},
     "output_type": "execute_result"
    }
   ],
   "source": [
    "coalition_table.sort_values(\"in_coalition\", ascending=False)"
   ]
  },
  {
   "cell_type": "markdown",
   "metadata": {},
   "source": [
    "### California v. everybody"
   ]
  },
  {
   "cell_type": "code",
   "execution_count": 537,
   "metadata": {},
   "outputs": [],
   "source": [
    "unique_contributors['in_california'] = False\n",
    "unique_contributors.loc[unique_contributors.location.str.endswith(\", CA\"), 'in_california'] = True"
   ]
  },
  {
   "cell_type": "code",
   "execution_count": 538,
   "metadata": {},
   "outputs": [],
   "source": [
    "california_table = unique_contributors.groupby('in_california').size().reset_index()\n",
    "california_table.columns = ['in_california', 'count']"
   ]
  },
  {
   "cell_type": "code",
   "execution_count": 539,
   "metadata": {},
   "outputs": [],
   "source": [
    "california_table['count_percent'] = california_table['count'] / total_contributors"
   ]
  },
  {
   "cell_type": "code",
   "execution_count": 540,
   "metadata": {},
   "outputs": [],
   "source": [
    "california_table = california_table.merge(unique_contributors.groupby('in_california').contributions.sum().reset_index())"
   ]
  },
  {
   "cell_type": "code",
   "execution_count": 541,
   "metadata": {},
   "outputs": [],
   "source": [
    "california_table['contributions_percent'] = california_table['contributions'] / total_contributions"
   ]
  },
  {
   "cell_type": "code",
   "execution_count": 542,
   "metadata": {},
   "outputs": [
    {
     "data": {
      "text/html": [
       "<div>\n",
       "<table border=\"1\" class=\"dataframe\">\n",
       "  <thead>\n",
       "    <tr style=\"text-align: right;\">\n",
       "      <th></th>\n",
       "      <th>in_california</th>\n",
       "      <th>count</th>\n",
       "      <th>count_percent</th>\n",
       "      <th>contributions</th>\n",
       "      <th>contributions_percent</th>\n",
       "    </tr>\n",
       "  </thead>\n",
       "  <tbody>\n",
       "    <tr>\n",
       "      <th>1</th>\n",
       "      <td>True</td>\n",
       "      <td>41</td>\n",
       "      <td>0.284722</td>\n",
       "      <td>3271</td>\n",
       "      <td>0.603951</td>\n",
       "    </tr>\n",
       "    <tr>\n",
       "      <th>0</th>\n",
       "      <td>False</td>\n",
       "      <td>103</td>\n",
       "      <td>0.715278</td>\n",
       "      <td>2145</td>\n",
       "      <td>0.396049</td>\n",
       "    </tr>\n",
       "  </tbody>\n",
       "</table>\n",
       "</div>"
      ],
      "text/plain": [
       "  in_california  count  count_percent  contributions  contributions_percent\n",
       "1          True     41       0.284722           3271               0.603951\n",
       "0         False    103       0.715278           2145               0.396049"
      ]
     },
     "execution_count": 542,
     "metadata": {},
     "output_type": "execute_result"
    }
   ],
   "source": [
    "california_table.sort_values(\"in_california\", ascending=False)"
   ]
  },
  {
   "cell_type": "markdown",
   "metadata": {},
   "source": [
    "## Output data"
   ]
  },
  {
   "cell_type": "code",
   "execution_count": 543,
   "metadata": {
    "collapsed": true
   },
   "outputs": [],
   "source": [
    "unique_contributors.to_csv(\"./output/unique-contributors.csv\")"
   ]
  }
 ],
 "metadata": {
  "kernelspec": {
   "display_name": "Python 2",
   "language": "python",
   "name": "python2"
  },
  "language_info": {
   "codemirror_mode": {
    "name": "ipython",
    "version": 2
   },
   "file_extension": ".py",
   "mimetype": "text/x-python",
   "name": "python",
   "nbconvert_exporter": "python",
   "pygments_lexer": "ipython2",
   "version": "2.7.12"
  }
 },
 "nbformat": 4,
 "nbformat_minor": 0
}
