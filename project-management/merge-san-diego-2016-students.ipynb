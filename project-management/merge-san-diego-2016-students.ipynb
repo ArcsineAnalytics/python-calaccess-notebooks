{
 "cells": [
  {
   "cell_type": "markdown",
   "metadata": {},
   "source": [
    "# Merge San Diego 2016 students\n",
    "\n",
    "By Ben Welsh\n",
    "\n",
    "Add the list of students from the 2016 IRE Watchdog Workshop training in San Diego to the participants list."
   ]
  },
  {
   "cell_type": "code",
   "execution_count": 20,
   "metadata": {},
   "outputs": [],
   "source": [
    "import pandas as pd"
   ]
  },
  {
   "cell_type": "code",
   "execution_count": 21,
   "metadata": {},
   "outputs": [],
   "source": [
    "students = pd.read_csv(\"./input/san-diego-2016-students.csv\")"
   ]
  },
  {
   "cell_type": "code",
   "execution_count": 33,
   "metadata": {},
   "outputs": [],
   "source": [
    "students['in_coalition'] = False\n",
    "students['contributions'] = 0\n",
    "students['at_san_diego_2016_training'] = True"
   ]
  },
  {
   "cell_type": "code",
   "execution_count": 34,
   "metadata": {},
   "outputs": [
    {
     "name": "stdout",
     "output_type": "stream",
     "text": [
      "<class 'pandas.core.frame.DataFrame'>\n",
      "RangeIndex: 14 entries, 0 to 13\n",
      "Data columns (total 11 columns):\n",
      "name                          14 non-null object\n",
      "location                      14 non-null object\n",
      "company                       14 non-null object\n",
      "email                         14 non-null object\n",
      "state                         13 non-null object\n",
      "country                       14 non-null object\n",
      "in_california                 14 non-null bool\n",
      "in_usa                        14 non-null bool\n",
      "in_coalition                  14 non-null bool\n",
      "contributions                 14 non-null int64\n",
      "at_san_diego_2016_training    14 non-null bool\n",
      "dtypes: bool(4), int64(1), object(6)\n",
      "memory usage: 912.0+ bytes\n"
     ]
    }
   ],
   "source": [
    "students.info()"
   ]
  },
  {
   "cell_type": "code",
   "execution_count": 35,
   "metadata": {},
   "outputs": [],
   "source": [
    "participants = pd.read_csv(\"./output/participants.csv\")"
   ]
  },
  {
   "cell_type": "code",
   "execution_count": 36,
   "metadata": {},
   "outputs": [],
   "source": [
    "participants['at_san_diego_2016_training'] = False"
   ]
  },
  {
   "cell_type": "code",
   "execution_count": 37,
   "metadata": {},
   "outputs": [
    {
     "name": "stdout",
     "output_type": "stream",
     "text": [
      "<class 'pandas.core.frame.DataFrame'>\n",
      "RangeIndex: 144 entries, 0 to 143\n",
      "Data columns (total 16 columns):\n",
      "login                         144 non-null object\n",
      "name                          131 non-null object\n",
      "email                         114 non-null object\n",
      "company                       129 non-null object\n",
      "in_coalition                  144 non-null bool\n",
      "location                      130 non-null object\n",
      "state                         114 non-null object\n",
      "country                       130 non-null object\n",
      "location_x                    130 non-null float64\n",
      "location_y                    130 non-null float64\n",
      "in_california                 144 non-null bool\n",
      "in_usa                        129 non-null object\n",
      "contributions                 144 non-null int64\n",
      "bio                           15 non-null object\n",
      "avatar_url                    144 non-null object\n",
      "at_san_diego_2016_training    144 non-null bool\n",
      "dtypes: bool(3), float64(2), int64(1), object(10)\n",
      "memory usage: 15.1+ KB\n"
     ]
    }
   ],
   "source": [
    "participants.info()"
   ]
  },
  {
   "cell_type": "code",
   "execution_count": 39,
   "metadata": {},
   "outputs": [],
   "source": [
    "merged = pd.concat([participants, students])"
   ]
  },
  {
   "cell_type": "code",
   "execution_count": 41,
   "metadata": {},
   "outputs": [
    {
     "data": {
      "text/html": [
       "<div>\n",
       "<table border=\"1\" class=\"dataframe\">\n",
       "  <thead>\n",
       "    <tr style=\"text-align: right;\">\n",
       "      <th></th>\n",
       "      <th>at_san_diego_2016_training</th>\n",
       "      <th>avatar_url</th>\n",
       "      <th>bio</th>\n",
       "      <th>company</th>\n",
       "      <th>contributions</th>\n",
       "      <th>country</th>\n",
       "      <th>email</th>\n",
       "      <th>in_california</th>\n",
       "      <th>in_coalition</th>\n",
       "      <th>in_usa</th>\n",
       "      <th>location</th>\n",
       "      <th>location_x</th>\n",
       "      <th>location_y</th>\n",
       "      <th>login</th>\n",
       "      <th>name</th>\n",
       "      <th>state</th>\n",
       "    </tr>\n",
       "  </thead>\n",
       "  <tbody>\n",
       "    <tr>\n",
       "      <th>9</th>\n",
       "      <td>True</td>\n",
       "      <td>NaN</td>\n",
       "      <td>NaN</td>\n",
       "      <td>San Diego State University</td>\n",
       "      <td>0</td>\n",
       "      <td>United States of America</td>\n",
       "      <td>caityleary@hotmail.com</td>\n",
       "      <td>True</td>\n",
       "      <td>False</td>\n",
       "      <td>True</td>\n",
       "      <td>San Diego, CA</td>\n",
       "      <td>NaN</td>\n",
       "      <td>NaN</td>\n",
       "      <td>NaN</td>\n",
       "      <td>Caitlynne Leary</td>\n",
       "      <td>CA</td>\n",
       "    </tr>\n",
       "    <tr>\n",
       "      <th>10</th>\n",
       "      <td>True</td>\n",
       "      <td>NaN</td>\n",
       "      <td>NaN</td>\n",
       "      <td>inewsource</td>\n",
       "      <td>0</td>\n",
       "      <td>United States of America</td>\n",
       "      <td>yeyelobet@gmail.com</td>\n",
       "      <td>True</td>\n",
       "      <td>False</td>\n",
       "      <td>True</td>\n",
       "      <td>San Diego, CA</td>\n",
       "      <td>NaN</td>\n",
       "      <td>NaN</td>\n",
       "      <td>NaN</td>\n",
       "      <td>Ingrid Lobet</td>\n",
       "      <td>CA</td>\n",
       "    </tr>\n",
       "    <tr>\n",
       "      <th>11</th>\n",
       "      <td>True</td>\n",
       "      <td>NaN</td>\n",
       "      <td>NaN</td>\n",
       "      <td>San Diego State University</td>\n",
       "      <td>0</td>\n",
       "      <td>United States of America</td>\n",
       "      <td>aschmitz@mail.sdsu.edu</td>\n",
       "      <td>True</td>\n",
       "      <td>False</td>\n",
       "      <td>True</td>\n",
       "      <td>San Diego, CA</td>\n",
       "      <td>NaN</td>\n",
       "      <td>NaN</td>\n",
       "      <td>NaN</td>\n",
       "      <td>Amy Schmitz Weiss</td>\n",
       "      <td>CA</td>\n",
       "    </tr>\n",
       "    <tr>\n",
       "      <th>12</th>\n",
       "      <td>True</td>\n",
       "      <td>NaN</td>\n",
       "      <td>NaN</td>\n",
       "      <td>San Diego State University</td>\n",
       "      <td>0</td>\n",
       "      <td>United States of America</td>\n",
       "      <td>jacob.sisneros@yahoo.com</td>\n",
       "      <td>True</td>\n",
       "      <td>False</td>\n",
       "      <td>True</td>\n",
       "      <td>San Diego, CA</td>\n",
       "      <td>NaN</td>\n",
       "      <td>NaN</td>\n",
       "      <td>NaN</td>\n",
       "      <td>Jacob Sisneros</td>\n",
       "      <td>CA</td>\n",
       "    </tr>\n",
       "    <tr>\n",
       "      <th>13</th>\n",
       "      <td>True</td>\n",
       "      <td>NaN</td>\n",
       "      <td>NaN</td>\n",
       "      <td>Freelancer</td>\n",
       "      <td>0</td>\n",
       "      <td>United States of America</td>\n",
       "      <td>noyster@gmail.com</td>\n",
       "      <td>True</td>\n",
       "      <td>False</td>\n",
       "      <td>True</td>\n",
       "      <td>Los Angeles, CA</td>\n",
       "      <td>NaN</td>\n",
       "      <td>NaN</td>\n",
       "      <td>NaN</td>\n",
       "      <td>Noy Thrupkaew</td>\n",
       "      <td>CA</td>\n",
       "    </tr>\n",
       "  </tbody>\n",
       "</table>\n",
       "</div>"
      ],
      "text/plain": [
       "   at_san_diego_2016_training avatar_url  bio                     company  \\\n",
       "9                        True        NaN  NaN  San Diego State University   \n",
       "10                       True        NaN  NaN                  inewsource   \n",
       "11                       True        NaN  NaN  San Diego State University   \n",
       "12                       True        NaN  NaN  San Diego State University   \n",
       "13                       True        NaN  NaN                  Freelancer   \n",
       "\n",
       "    contributions                   country                     email  \\\n",
       "9               0  United States of America    caityleary@hotmail.com   \n",
       "10              0  United States of America       yeyelobet@gmail.com   \n",
       "11              0  United States of America    aschmitz@mail.sdsu.edu   \n",
       "12              0  United States of America  jacob.sisneros@yahoo.com   \n",
       "13              0  United States of America         noyster@gmail.com   \n",
       "\n",
       "   in_california in_coalition in_usa         location  location_x  location_y  \\\n",
       "9           True        False   True    San Diego, CA         NaN         NaN   \n",
       "10          True        False   True    San Diego, CA         NaN         NaN   \n",
       "11          True        False   True    San Diego, CA         NaN         NaN   \n",
       "12          True        False   True    San Diego, CA         NaN         NaN   \n",
       "13          True        False   True  Los Angeles, CA         NaN         NaN   \n",
       "\n",
       "   login               name state  \n",
       "9    NaN    Caitlynne Leary    CA  \n",
       "10   NaN       Ingrid Lobet    CA  \n",
       "11   NaN  Amy Schmitz Weiss    CA  \n",
       "12   NaN     Jacob Sisneros    CA  \n",
       "13   NaN      Noy Thrupkaew    CA  "
      ]
     },
     "execution_count": 41,
     "metadata": {},
     "output_type": "execute_result"
    }
   ],
   "source": [
    "merged.tail(5)"
   ]
  },
  {
   "cell_type": "code",
   "execution_count": 42,
   "metadata": {},
   "outputs": [],
   "source": [
    "merged.to_csv(\"./output/participants.csv\", index=False)"
   ]
  }
 ],
 "metadata": {
  "kernelspec": {
   "display_name": "Python 2",
   "language": "python",
   "name": "python2"
  },
  "language_info": {
   "codemirror_mode": {
    "name": "ipython",
    "version": 2
   },
   "file_extension": ".py",
   "mimetype": "text/x-python",
   "name": "python",
   "nbconvert_exporter": "python",
   "pygments_lexer": "ipython2",
   "version": "2.7.12"
  }
 },
 "nbformat": 4,
 "nbformat_minor": 0
}
