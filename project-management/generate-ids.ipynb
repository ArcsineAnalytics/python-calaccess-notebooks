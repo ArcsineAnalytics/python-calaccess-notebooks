{
 "cells": [
  {
   "cell_type": "markdown",
   "metadata": {},
   "source": [
    "# Generate IDs\n",
    "\n",
    "By Ben Welsh\n",
    "\n",
    "Generates unique identifiers for our participants independent of their Github login and email address."
   ]
  },
  {
   "cell_type": "code",
   "execution_count": 10,
   "metadata": {},
   "outputs": [],
   "source": [
    "import csv\n",
    "import hashlib"
   ]
  },
  {
   "cell_type": "code",
   "execution_count": 11,
   "metadata": {},
   "outputs": [],
   "source": [
    "reader = list(csv.DictReader(open(\"./output/participants.csv\", 'r')))"
   ]
  },
  {
   "cell_type": "code",
   "execution_count": 18,
   "metadata": {},
   "outputs": [],
   "source": [
    "row_list = []"
   ]
  },
  {
   "cell_type": "code",
   "execution_count": 19,
   "metadata": {},
   "outputs": [],
   "source": [
    "for row in reader:\n",
    "    m = hashlib.md5()\n",
    "    s = \"\".join([row['name'], row['login'], row['email']])\n",
    "    m.update(s)\n",
    "    row['id'] = m.hexdigest()\n",
    "    row_list.append(row)"
   ]
  },
  {
   "cell_type": "code",
   "execution_count": 20,
   "metadata": {},
   "outputs": [
    {
     "data": {
      "text/plain": [
       "{'at_san_diego_2016_training': 'False',\n",
       " 'avatar_url': 'https://avatars.githubusercontent.com/u/856628?v=3',\n",
       " 'company': 'Washington Post',\n",
       " 'contributions': '379',\n",
       " 'country': 'United States of America',\n",
       " 'email': 'aaron.colby.williams@gmail.com',\n",
       " 'first_name': 'Aaron ',\n",
       " 'id': '9c79f1fbdb9ddab50e010722fb091df8',\n",
       " 'in_california': 'False',\n",
       " 'in_coalition': 'True',\n",
       " 'in_usa': 'True',\n",
       " 'last_name': 'Williams',\n",
       " 'location': 'Washington, DC',\n",
       " 'location_x': '-77.0368707',\n",
       " 'location_y': '38.9071923',\n",
       " 'login': 'aboutaaron',\n",
       " 'name': 'Aaron Williams',\n",
       " 'state': 'DC'}"
      ]
     },
     "execution_count": 20,
     "metadata": {},
     "output_type": "execute_result"
    }
   ],
   "source": [
    "row_list[0]"
   ]
  },
  {
   "cell_type": "code",
   "execution_count": 21,
   "metadata": {},
   "outputs": [
    {
     "data": {
      "text/plain": [
       "167"
      ]
     },
     "execution_count": 21,
     "metadata": {},
     "output_type": "execute_result"
    }
   ],
   "source": [
    "len(reader)"
   ]
  },
  {
   "cell_type": "code",
   "execution_count": 22,
   "metadata": {},
   "outputs": [
    {
     "data": {
      "text/plain": [
       "167"
      ]
     },
     "execution_count": 22,
     "metadata": {},
     "output_type": "execute_result"
    }
   ],
   "source": [
    "len(row_list)"
   ]
  },
  {
   "cell_type": "code",
   "execution_count": 27,
   "metadata": {},
   "outputs": [],
   "source": [
    "fieldnames = [\n",
    "    'id',\n",
    "    'name',\n",
    "    'first_name',\n",
    "    'last_name',\n",
    "    'login',\n",
    "    'email',\n",
    "    'company',\n",
    "    'in_coalition',\n",
    "    'location',\n",
    "    'state',\n",
    "    'country',\n",
    "    'location_x',\n",
    "    'location_y',\n",
    "    'in_california',\n",
    "    'in_usa',\n",
    "    'contributions',\n",
    "    'avatar_url',\n",
    "    'at_san_diego_2016_training'\n",
    "]"
   ]
  },
  {
   "cell_type": "code",
   "execution_count": 28,
   "metadata": {},
   "outputs": [],
   "source": [
    "writer = csv.DictWriter(open(\"./output/participants.csv\", 'w'), fieldnames=fieldnames)"
   ]
  },
  {
   "cell_type": "code",
   "execution_count": 29,
   "metadata": {},
   "outputs": [],
   "source": [
    "writer.writeheader()"
   ]
  },
  {
   "cell_type": "code",
   "execution_count": 30,
   "metadata": {},
   "outputs": [],
   "source": [
    "writer.writerows(row_list)"
   ]
  }
 ],
 "metadata": {
  "kernelspec": {
   "display_name": "Python 2",
   "language": "python",
   "name": "python2"
  },
  "language_info": {
   "codemirror_mode": {
    "name": "ipython",
    "version": 2
   },
   "file_extension": ".py",
   "mimetype": "text/x-python",
   "name": "python",
   "nbconvert_exporter": "python",
   "pygments_lexer": "ipython2",
   "version": "2.7.12"
  }
 },
 "nbformat": 4,
 "nbformat_minor": 0
}
