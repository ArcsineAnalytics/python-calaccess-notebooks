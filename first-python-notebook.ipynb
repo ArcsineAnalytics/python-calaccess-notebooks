{
 "cells": [
  {
   "cell_type": "markdown",
   "metadata": {},
   "source": [
    "# First Python Notebook: Scripting your way to the story\n",
    "\n",
    "By Ben Welsh\n",
    "\n",
    "This notebook is the script for a class scheduled to be taught for the first time at the [Oct. 2 2016 \"watchdog workshop\" organized by Investigative Reporters and Editors](http://ire.org/events-and-training/event/2819/2841/) at San Diego State University's school of journalism.\n",
    "\n",
    "It focuses on teaching the basic skills of Python by analyzing the contributors to Proposition 64, a ballot measure asking California voters to decide if the growth and sale of marijuana should be legalized."
   ]
  },
  {
   "cell_type": "markdown",
   "metadata": {},
   "source": [
    "### What is Prop. 64?\n",
    "\n",
    "The use and sale of marijuana for recreational purposes is illegal in California. [Proposition 64](http://www.oag.ca.gov/system/files/initiatives/pdfs/15-0103%20%28Marijuana%29_1.pdf), scheduled to appear on the November 8 ballot, asks voters if it ought to be legalized. A \"yes\" vote would support legalization. A \"no\" vote would oppose it.\n",
    "\n",
    "[According to California's Secretary of State](http://www.sos.ca.gov/campaign-lobbying/cal-access-resources/measure-contributions/marijuana-legalization-initiative-statute/), more than 16 million dollars have been raised to campaign in support as of September 20. Just over 2 million has been raised to oppose it. "
   ]
  },
  {
   "cell_type": "code",
   "execution_count": null,
   "metadata": {
    "collapsed": true
   },
   "outputs": [],
   "source": []
  }
 ],
 "metadata": {
  "kernelspec": {
   "display_name": "Python 2",
   "language": "python",
   "name": "python2"
  },
  "language_info": {
   "codemirror_mode": {
    "name": "ipython",
    "version": 2
   },
   "file_extension": ".py",
   "mimetype": "text/x-python",
   "name": "python",
   "nbconvert_exporter": "python",
   "pygments_lexer": "ipython2",
   "version": "2.7.6"
  }
 },
 "nbformat": 4,
 "nbformat_minor": 1
}
