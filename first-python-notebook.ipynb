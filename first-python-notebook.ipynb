{
 "cells": [
  {
   "cell_type": "markdown",
   "metadata": {},
   "source": [
    "# First Python Notebook: Scripting your way to the story\n",
    "\n",
    "By Ben Welsh\n",
    "\n",
    "A step-by-step guide to analyzing data with Python and the Jupyter Notebook.\n",
    "\n",
    "This tutorial will teach you how to use computer programming tools to analyze data by exploring contributors to campaigns for and again Proposition 64, a ballot measure asking California voters to decide if recreational marijuana should be legalized.\n",
    "\n",
    "This guide was developed by Ben Welsh for a [Oct. 2, 2016, \"watchdog workshop\" organized by Investigative Reporters and Editors](http://ire.org/events-and-training/event/2819/2841/) at San Diego State University's school of journalism.\n",
    "\n"
   ]
  },
  {
   "cell_type": "markdown",
   "metadata": {},
   "source": [
    "## Prelude: Prequisites"
   ]
  },
  {
   "cell_type": "markdown",
   "metadata": {},
   "source": [
    "Before you can begin, your computer needs the following tools installed and working to participate.\n",
    "\n",
    "1. A [command-line interface](https://en.wikipedia.org/wiki/Command-line_interface) to interact with your computer\n",
    "2. Version 2.7 of the [Python](http://python.org/download/releases/2.7.6/) programming language\n",
    "3. The [pip](https://pip.pypa.io/en/latest/installing.html) package manager and [virtualenv](http://www.virtualenv.org/en/latest/) environment manager for Python"
   ]
  },
  {
   "cell_type": "markdown",
   "metadata": {},
   "source": [
    "### Command-line interface\n",
    "\n",
    "Unless something is wrong with your computer, there should be a way to open a window that lets you type in commands. Different operating systems give this tool slightly different names, but they all have some form of it, and there are alternative programs you can install as well.\n",
    "\n",
    "On Windows you can find the command-line interface by opening the \"command prompt.\" Here are instructions for [Windows 8](http://windows.microsoft.com/en-us/windows/command-prompt-faq#1TC=windows-8) and [earlier versions](http://windows.microsoft.com/en-us/windows-vista/open-a-command-prompt-window). On Apple computers, you open the [\"Terminal\" application](http://blog.teamtreehouse.com/introduction-to-the-mac-os-x-command-line). Ubuntu Linux comes with a program of the [same name](http://askubuntu.com/questions/38162/what-is-a-terminal-and-how-do-i-open-and-use-it)."
   ]
  },
  {
   "cell_type": "markdown",
   "metadata": {},
   "source": [
    "### Python\n",
    "\n",
    "If you are using Mac OSX or a common flavor of Linux, Python is probably already installed and you can test to see what version, if any, is there waiting for you by typing the following into your terminal.\n",
    "\n",
    "```bash\n",
    "python -V\n",
    "```\n",
    "\n",
    "If you don't have Python installed (a more likely fate for Windows users) try downloading and installing it from\n",
    "[here](https://www.python.org/downloads/release/python-2712/).\n",
    "\n",
    "In Windows, it's also crucial to make sure that the Python program is available on your system's ``PATH`` so it can be called from anywhere on the command line. [This screencast](http://showmedo.com/videotutorials/video?name=960000&fromSeriesID=96) can guide you through that process.\n",
    "\n",
    "Python 2.7 is preferred but you can probably find a way to make most of this tutorial work with other versions if you futz a little."
   ]
  },
  {
   "cell_type": "markdown",
   "metadata": {},
   "source": [
    "### pip and virtualenv\n",
    "\n",
    "The [pip package manager](https://pip.pypa.io/en/latest/) makes it easy to install open-source libraries that expand what you're able to do with Python. Later, we will use it to install everything needed to create a working web application.\n",
    "\n",
    "If you don't have it already, you can get pip by following [these instructions](https://phttps://pip.pypa.io/en/latest/ip.pypa.io/en/latest/installing.html). In Windows, it's necessary to make sure that the Python ``Scripts`` directory is available on your system's ``PATH`` so it can be called from anywhere on the command line. [This screencast](http://showmedo.com/videotutorials/video?name=960000&fromSeriesID=96) can help.\n",
    "\n",
    "Verify pip is installed with the following.\n",
    "\n",
    "```bash\n",
    "pip -V\n",
    "```\n",
    "\n",
    "The [virtualenv environment manager](http://www.virtualenv.org/en/latest/) makes it possible to create an isolated corner of your computer where all the different tools you use to build an application are sealed off.\n",
    "\n",
    "It might not be obvious why you need this, but it quickly becomes important when you need to juggle different tools\n",
    "for different projects on one computer. By developing your applications inside separate virtualenv environments, you can use different versions of the same third-party Python libraries without a conflict. You can also more easily recreate your project on another machine, handy when you want to copy your code to a server that publishes pages on the Internet.\n",
    "\n",
    "You can check if virtualenv is installed with the following.\n",
    "\n",
    "```bash\n",
    "virtualenv --version\n",
    "```\n",
    "\n",
    "If you don't have it, install it with pip.\n",
    "\n",
    "```bash\n",
    "pip install virtualenv\n",
    "# If you're on a Mac or Linux and get an error saying you lack permissions, try again as a superuser.\n",
    "sudo pip install virtualenv\n",
    "```\n",
    "\n",
    "If that doesn't work, [try following this advice](http://virtualenv.readthedocs.org/en/latest/installation.html)."
   ]
  },
  {
   "cell_type": "markdown",
   "metadata": {},
   "source": [
    "## Act 1: Hello Jupyter Notebook"
   ]
  },
  {
   "cell_type": "markdown",
   "metadata": {},
   "source": [
    "Start by creating a new development environment with virtualenv in your terminal. Name it after our application.\n",
    "\n",
    "```bash\n",
    "virtualenv first-python-notebook\n",
    "```"
   ]
  },
  {
   "cell_type": "markdown",
   "metadata": {},
   "source": [
    "Jump into the directory it created.\n",
    "\n",
    "```bash\n",
    "cd first-django-admin\n",
    "```"
   ]
  },
  {
   "cell_type": "markdown",
   "metadata": {},
   "source": [
    "Turn on the new virtualenv, which will instruct your terminal to only use those libraries installed\n",
    "inside its sealed space. You only need to create the virtualenv once, but you'll need to repeat these\n",
    "\"activation\" steps each time you return to working on this project.\n",
    "\n",
    "```bash\n",
    "# In Linux or Mac OSX try this...\n",
    ". bin/activate\n",
    "# In Windows it might take something more like...\n",
    "cd Scripts\n",
    "activate\n",
    "cd ..\n",
    "```"
   ]
  },
  {
   "cell_type": "markdown",
   "metadata": {},
   "source": [
    "Use ``pip`` on the command line to install [Jupyter Notebook](http://jupyter.org/), an open-source tool for writing and sharing Python scripts.\n",
    "\n",
    "```bash\n",
    "pip install jupyter\n",
    "```"
   ]
  },
  {
   "cell_type": "markdown",
   "metadata": {},
   "source": [
    "Start up the notebook from your terminal.\n",
    "\n",
    "```bash\n",
    "jupyter notebook\n",
    "```"
   ]
  },
  {
   "cell_type": "markdown",
   "metadata": {},
   "source": [
    "That will open up a new tab in your default web browser that looks something like this:\n",
    "\n",
    "![](http://jupyter.readthedocs.io/en/latest/_images/tryjupyter_file.png)"
   ]
  },
  {
   "cell_type": "markdown",
   "metadata": {},
   "source": [
    "Click the \"New\" button in the upper right and create a new Python 2 notebook. Now you're all setup and ready to start writing code."
   ]
  },
  {
   "cell_type": "markdown",
   "metadata": {},
   "source": [
    "## Act 2: Hello Python"
   ]
  },
  {
   "cell_type": "code",
   "execution_count": null,
   "metadata": {
    "collapsed": true
   },
   "outputs": [],
   "source": [
    "# 2+2\n",
    "# basic variable assignment foo+bar\n",
    "# download the CSV of Prop. 64 data\n",
    "# Read it into with open()\n",
    "# for loop to print it out line by line"
   ]
  },
  {
   "cell_type": "markdown",
   "metadata": {},
   "source": [
    "You are now ready to roll within the Jupyter Notebook's framework for writing Python. Don't stress. There's nothing too fancy about it. You can start by just doing a little simple math. Type the following into the first box, then hit the play button in the toolbox (or hit SHIFT+ENTER on your keyboard)."
   ]
  },
  {
   "cell_type": "code",
   "execution_count": 9,
   "metadata": {
    "collapsed": false
   },
   "outputs": [
    {
     "data": {
      "text/plain": [
       "4"
      ]
     },
     "execution_count": 9,
     "metadata": {},
     "output_type": "execute_result"
    }
   ],
   "source": [
    "2+2"
   ]
  },
  {
   "cell_type": "markdown",
   "metadata": {},
   "source": [
    "There. You've just written your first Python code. You've entered two integers (the 2's) and added them together using the plus sign operator. "
   ]
  },
  {
   "cell_type": "markdown",
   "metadata": {},
   "source": [
    "Next, let's introduce one of the basics of computer programming, a variable.\n",
    "\n",
    "Variables are like containers that hold different types of data so you can go back and refer to them later. They’re fundamental to programming in any language, and you’ll use them all the time.\n",
    "\n",
    "Move down to the next box. Now let's put that number two into our first variable. "
   ]
  },
  {
   "cell_type": "code",
   "execution_count": 5,
   "metadata": {
    "collapsed": true
   },
   "outputs": [],
   "source": [
    "san = 2"
   ]
  },
  {
   "cell_type": "markdown",
   "metadata": {},
   "source": [
    "In this case, we’ve created a variable called greeting and assigned it the integer value 2.\n",
    "\n",
    "In Python, variable assignment is done with the = sign. On the left is the name of the variable you want to create (it can be anything) and on the right is the value that you want to assign to that variable.\n",
    "\n",
    "If we use the ``print`` command on the variable, Python will output its contents to the terminal because that value is stored in the variable. Let's try it."
   ]
  },
  {
   "cell_type": "code",
   "execution_count": 6,
   "metadata": {
    "collapsed": false
   },
   "outputs": [
    {
     "name": "stdout",
     "output_type": "stream",
     "text": [
      "2\n"
     ]
    }
   ],
   "source": [
    "print san"
   ]
  },
  {
   "cell_type": "markdown",
   "metadata": {},
   "source": [
    "We can do the same thing again with a different variable name"
   ]
  },
  {
   "cell_type": "code",
   "execution_count": 7,
   "metadata": {
    "collapsed": true
   },
   "outputs": [],
   "source": [
    "diego = 2"
   ]
  },
  {
   "cell_type": "markdown",
   "metadata": {},
   "source": [
    "Then add those two together the same way we added the numbers at the top."
   ]
  },
  {
   "cell_type": "code",
   "execution_count": 8,
   "metadata": {
    "collapsed": false
   },
   "outputs": [
    {
     "data": {
      "text/plain": [
       "4"
      ]
     },
     "execution_count": 8,
     "metadata": {},
     "output_type": "execute_result"
    }
   ],
   "source": [
    "san + diego"
   ]
  },
  {
   "cell_type": "markdown",
   "metadata": {},
   "source": [
    "Variables can contain many different kinds of data types. There are integers, strings, floating point numbers (decimals), lists and dictionaries."
   ]
  },
  {
   "cell_type": "code",
   "execution_count": 10,
   "metadata": {
    "collapsed": true
   },
   "outputs": [],
   "source": [
    "string = \"Hello\""
   ]
  },
  {
   "cell_type": "code",
   "execution_count": 11,
   "metadata": {
    "collapsed": true
   },
   "outputs": [],
   "source": [
    "decimal = 1.2"
   ]
  },
  {
   "cell_type": "code",
   "execution_count": 12,
   "metadata": {
    "collapsed": true
   },
   "outputs": [],
   "source": [
    "list_of_strings = [\"a\", \"b\", \"c\", \"d\"]\n",
    "list_of_integers = [1, 2, 3, 4]\n",
    "list_of_whatever = [\"a\", 2, \"c\", 4]"
   ]
  },
  {
   "cell_type": "code",
   "execution_count": 13,
   "metadata": {
    "collapsed": true
   },
   "outputs": [],
   "source": [
    "my_phonebook = {'Mom': '713-555-5555', 'Chinese Takeout': '573-555-5555'}"
   ]
  },
  {
   "cell_type": "markdown",
   "metadata": {},
   "source": [
    "Playing with data we invent can be fun, but it's a long way from investigative journalism. Now's the time for us to get our hands on some real data and get some work done.\n",
    "\n",
    "Your assignment: Proposition 64. \n",
    "\n",
    "The use and sale of marijuana for recreational purposes is illegal in California. [Proposition 64](http://www.oag.ca.gov/system/files/initiatives/pdfs/15-0103%20%28Marijuana%29_1.pdf), scheduled to appear on the November 8 ballot, asks voters if it ought to be legalized. A \"yes\" vote would support legalization. A \"no\" vote would oppose it. A similar measure, [Proposition 19](http://articles.latimes.com/print/2010/nov/03/local/la-me-pot-20101103-1), was defeated in 2010.\n",
    "\n",
    "[According to California's Secretary of State](http://www.sos.ca.gov/campaign-lobbying/cal-access-resources/measure-contributions/marijuana-legalization-initiative-statute/), more than 16 million dollars have been raised to campaign in support of Prop. 64 as of September 20. Just over 2 million has been raised to oppose it.\n",
    "\n",
    "Your mission, should you choose to accept it, is to download a list of campaign contributors and figure out the biggest donors both for and against the measure.\n",
    "\n",
    "[Click here](https://docs.google.com/spreadsheets/d/1Zsxlq01Wqu9D1qLLesjA7aGwclYTGeNsPY4Ax_jwtYI/pub?gid=0&single=true&output=csv) to download the file as a list of comma-separate values. This is known as a CSV file, it is the most common way you will find data published online. Save the file with the name ``first-python-notebok.csv`` in the same directory where you made this notebook. "
   ]
  },
  {
   "cell_type": "markdown",
   "metadata": {},
   "source": [
    "Python can read in files using the built-in ``open`` function. You feed two things into it: 1) The path to the file; 2) What type of operation you'd like it to execute on the file. \"r\" stands for read."
   ]
  },
  {
   "cell_type": "code",
   "execution_count": 17,
   "metadata": {
    "collapsed": false
   },
   "outputs": [],
   "source": [
    "data_file = open(\"./first-python-notebook.csv\", \"r\")"
   ]
  },
  {
   "cell_type": "markdown",
   "metadata": {},
   "source": [
    "Print that variable and you see that ``open`` has created a file \"object\" that offers a number of different ways to interact with the contents of the file."
   ]
  },
  {
   "cell_type": "code",
   "execution_count": 20,
   "metadata": {
    "collapsed": false
   },
   "outputs": [
    {
     "name": "stdout",
     "output_type": "stream",
     "text": [
      "<open file './first-python-notebook.csv', mode 'r' at 0x7f3f1c593390>\n"
     ]
    }
   ],
   "source": [
    "print data_file"
   ]
  },
  {
   "cell_type": "markdown",
   "metadata": {},
   "source": [
    "One thing a file object can do it read in all of the data from the file. Let's do that next and store the contents in a new variable."
   ]
  },
  {
   "cell_type": "code",
   "execution_count": 21,
   "metadata": {
    "collapsed": true
   },
   "outputs": [],
   "source": [
    "data = data_file.read()"
   ]
  },
  {
   "cell_type": "code",
   "execution_count": 22,
   "metadata": {
    "collapsed": false
   },
   "outputs": [
    {
     "name": "stdout",
     "output_type": "stream",
     "text": [
      "FILING_ID,COMMITTEE_ID,COMMITTEE_NAME,COMMITTEE_POSITION,AMEND_ID,FIRST_NAME,LAST_NAME,CITY,STATE,ZIPCODE,EMPLOYER,OCCUPATION,DATE,AMOUNT\r\n",
      "1680042,1343793,\"Californians for Responsible Marijuana Reform, Sponsored by Drug Policy Action, Yes on Prop. 64\",SUPPORT,0,,Drug Policy Action Committee to Tax and Regulate Marijuana,Sacramento,CA,95815,,,1/3/2012 12:00:00 AM,10975.5\r\n",
      "1937009,1343793,\"Californians for Responsible Marijuana Reform, Sponsored by Drug Policy Action, Yes on Prop. 64\",SUPPORT,0,Luke,Sinquefield,Pacific Palisades,CA,90272,Luke Sinquefield,Realtor,7/25/2014 12:00:00 AM,15000\r\n",
      "2038717,1343793,\"Californians for Responsible Marijuana Reform, Sponsored by Drug Policy Action, Yes on Prop. 64\",SUPPORT,1,Susan,Podolsky,Modesto,CA,95350,Ontario Base Hospital Group,Physician,3/21/2016 12:00:00 AM,100\r\n",
      "2038717,1343793,\"Californians for Responsible Marijuana Reform, Sponsored by Drug Policy Action, Yes on Prop. 64\",SUPPORT,1,Philip,Davis,Salinas,CA,93901,Monterey County Office of Education,Education,3/21/2016 12:00:00 AM,250\r\n",
      "2038717,1343793,\"Californians for Responsible Marijuana Reform, Sponsored by Drug Policy Action, Yes on Prop. 64\",SUPPORT,1,Kevin,Herbert,San Francisco,CA,94110,Platina Systems Corporation,Principal Software Engineer,3/31/2016 12:00:00 AM,100\r\n",
      "2063970,1343793,\"Californians for Responsible Marijuana Reform, Sponsored by Drug Policy Action, Yes on Prop. 64\",SUPPORT,0,Jessica,McElfresh,Rancho Santa Fe,CA,92019,Jessica McElfresh,Attorney,6/7/2016 12:00:00 AM,100\r\n",
      "2063970,1343793,\"Californians for Responsible Marijuana Reform, Sponsored by Drug Policy Action, Yes on Prop. 64\",SUPPORT,0,Patrick,McManamon,Westlake,OH,44145,\"Cannasure Insurance Services, LLC\",Chief Executive Officer,6/17/2016 12:00:00 AM,2500\r\n",
      "2063970,1343793,\"Californians for Responsible Marijuana Reform, Sponsored by Drug Policy Action, Yes on Prop. 64\",SUPPORT,0,Maureen,McNamara,Denver,CO,80211,Cannabis Trainers,Training,6/27/2016 12:00:00 AM,100\r\n",
      "2063970,1343793,\"Californians for Responsible Marijuana Reform, Sponsored by Drug Policy Action, Yes on Prop. 64\",SUPPORT,0,Evan,Metz,Miami,FL,33179,ECA Solutions,Business Development,6/27/2016 12:00:00 AM,100\r\n",
      "2063970,1343793,\"Californians for Responsible Marijuana Reform, Sponsored by Drug Policy Action, Yes on Prop. 64\",SUPPORT,0,Bruce,Milligan,Bellevue,WA,98005,Mobius Beverage Corporation,Founder,6/17/2016 12:00:00 AM,25\r\n",
      "2063970,1343793,\"Californians for Responsible Marijuana Reform, Sponsored by Drug Policy Action, Yes on Prop. 64\",SUPPORT,0,Bruce,Milligan,Bellevue,WA,98005,Mobius Beverage Corporation,Founder,6/19/2016 12:00:00 AM,75\r\n",
      "2063970,1343793,\"Californians for Responsible Marijuana Reform, Sponsored by Drug Policy Action, Yes on Prop. 64\",SUPPORT,0,,\"MJ Freeway, LLC\",Denver,CO,80202,,,6/13/2016 12:00:00 AM,2500\r\n",
      "2063970,1343793,\"Californians for Responsible Marijuana Reform, Sponsored by Drug Policy Action, Yes on Prop. 64\",SUPPORT,0,Bob,Morgan,Chicago,IL,60015,\"Much Shelist, P.C.\",Attorney,6/20/2016 12:00:00 AM,100\r\n",
      "2063970,1343793,\"Californians for Responsible Marijuana Reform, Sponsored by Drug Policy Action, Yes on Prop. 64\",SUPPORT,0,,Mountain High Suckers,Denver,CO,80223,,,6/24/2016 12:00:00 AM,200\r\n",
      "2063970,1343793,\"Californians for Responsible Marijuana Reform, Sponsored by Drug Policy Action, Yes on Prop. 64\",SUPPORT,0,Ellen,Moy,Torrance,CA,90504,Ellen Moy,Attorney,6/24/2016 12:00:00 AM,100\r\n",
      "2063970,1343793,\"Californians for Responsible Marijuana Reform, Sponsored by Drug Policy Action, Yes on Prop. 64\",SUPPORT,0,Thomas,Mundell,Bridgeton,MO,63044,n/a,Retired,6/14/2016 12:00:00 AM,100\r\n",
      "2063970,1343793,\"Californians for Responsible Marijuana Reform, Sponsored by Drug Policy Action, Yes on Prop. 64\",SUPPORT,0,David,Muret,Seattle,WA,98104,Viridian Staffing,Co-Founder,6/16/2016 12:00:00 AM,100\r\n",
      "2063970,1343793,\"Californians for Responsible Marijuana Reform, Sponsored by Drug Policy Action, Yes on Prop. 64\",SUPPORT,0,Genifer,Murray,Scottsdale,AZ,85260,Carbon Blue Consulting,Owner,6/27/2016 12:00:00 AM,100\r\n",
      "2063970,1343793,\"Californians for Responsible Marijuana Reform, Sponsored by Drug Policy Action, Yes on Prop. 64\",SUPPORT,0,Ethan,Nadelmann,New York,NY,10023,Drug Policy Alliance,Executive Director,5/5/2016 12:00:00 AM,110\r\n",
      "2063970,1343793,\"Californians for Responsible Marijuana Reform, Sponsored by Drug Policy Action, Yes on Prop. 64\",SUPPORT,0,Ethan,Nadelmann,New York,NY,10023,Drug Policy Alliance,Executive Director,6/7/2016 12:00:00 AM,75\r\n",
      "2063970,1343793,\"Californians for Responsible Marijuana Reform, Sponsored by Drug Policy Action, Yes on Prop. 64\",SUPPORT,0,Elizabeth,Nichols,Edmond,OK,73034,Rosebud,Attorney,6/24/2016 12:00:00 AM,100\r\n",
      "2063970,1343793,\"Californians for Responsible Marijuana Reform, Sponsored by Drug Policy Action, Yes on Prop. 64\",SUPPORT,0,Ken,Novak,Palo Alto,CA,94303,Ken Novak,Consultant,6/7/2016 12:00:00 AM,100\r\n",
      "2063970,1343793,\"Californians for Responsible Marijuana Reform, Sponsored by Drug Policy Action, Yes on Prop. 64\",SUPPORT,0,Katie,O'Block,Boulder,CO,80301,\"Surna, Inc.\",Marketing,6/17/2016 12:00:00 AM,200\r\n",
      "2063970,1343793,\"Californians for Responsible Marijuana Reform, Sponsored by Drug Policy Action, Yes on Prop. 64\",SUPPORT,0,Adam,Orens,Denver,CO,80202,Marijuana Policy Group,Consultant,6/20/2016 12:00:00 AM,100\r\n",
      "2063970,1343793,\"Californians for Responsible Marijuana Reform, Sponsored by Drug Policy Action, Yes on Prop. 64\",SUPPORT,0,Milan,Patel,Scottsdale,AZ,85260,Pathogen DX,Chief Executive Officer,6/24/2016 12:00:00 AM,100\r\n",
      "2063970,1343793,\"Californians for Responsible Marijuana Reform, Sponsored by Drug Policy Action, Yes on Prop. 64\",SUPPORT,0,Emily,Paxhia,San Francisco,CA,94117,Poseidon Asset Management,Investments,6/17/2016 12:00:00 AM,2500\r\n",
      "2063970,1343793,\"Californians for Responsible Marijuana Reform, Sponsored by Drug Policy Action, Yes on Prop. 64\",SUPPORT,0,Nancy,Pemberton,Sebastopol,CA,95473,Nancy Pemberton,Analyst,6/29/2016 12:00:00 AM,100\r\n",
      "2063970,1343793,\"Californians for Responsible Marijuana Reform, Sponsored by Drug Policy Action, Yes on Prop. 64\",SUPPORT,0,Jon,Perri,San Francisco,CA,94115,Change.org,Campaigns Director,6/9/2016 12:00:00 AM,100\r\n",
      "2063970,1343793,\"Californians for Responsible Marijuana Reform, Sponsored by Drug Policy Action, Yes on Prop. 64\",SUPPORT,0,Jessica,Peters,Oakland,CA,94601,Moxie Meds,President,6/16/2016 12:00:00 AM,200\r\n",
      "2063970,1343793,\"Californians for Responsible Marijuana Reform, Sponsored by Drug Policy Action, Yes on Prop. 64\",SUPPORT,0,William,Pletcher,Downers Grove,IL,60516,\"MCAH, LTD.\",President,6/27/2016 12:00:00 AM,100\r\n",
      "2063970,1343793,\"Californians for Responsible Marijuana Reform, Sponsored by Drug Policy Action, Yes on Prop. 64\",SUPPORT,0,Amy,Poinsett,Denver,CO,80202,MJ Freeway,Marketing Manager,6/13/2016 12:00:00 AM,250\r\n",
      "2063970,1343793,\"Californians for Responsible Marijuana Reform, Sponsored by Drug Policy Action, Yes on Prop. 64\",SUPPORT,0,Joshua,Pollack,Oakland,CA,94609,Rolling Oaks,Chief Executive Officer,6/27/2016 12:00:00 AM,200\r\n",
      "2063970,1343793,\"Californians for Responsible Marijuana Reform, Sponsored by Drug Policy Action, Yes on Prop. 64\",SUPPORT,0,Cate,Powers,San Francisco,CA,94111,Recurrent Energy,Director of Communications,6/20/2016 12:00:00 AM,250\r\n",
      "2063970,1343793,\"Californians for Responsible Marijuana Reform, Sponsored by Drug Policy Action, Yes on Prop. 64\",SUPPORT,0,Richard,Probst,Los Altos,CA,94024,\"SAP Labs, LLP\",Executive,6/8/2016 12:00:00 AM,100\r\n",
      "2063970,1343793,\"Californians for Responsible Marijuana Reform, Sponsored by Drug Policy Action, Yes on Prop. 64\",SUPPORT,0,Monica,Quattrin,San Francisco,CA,94123,n/a,Not Employed,5/20/2016 12:00:00 AM,100\r\n",
      "2063970,1343793,\"Californians for Responsible Marijuana Reform, Sponsored by Drug Policy Action, Yes on Prop. 64\",SUPPORT,0,John,Rasmussen,Tampa,FL,33602,John Rasmussen,Physician,6/27/2016 12:00:00 AM,100\r\n",
      "2063970,1343793,\"Californians for Responsible Marijuana Reform, Sponsored by Drug Policy Action, Yes on Prop. 64\",SUPPORT,0,Michael,Ray,San Francisco,CA,94107,Bloom Farms,Director,6/24/2016 12:00:00 AM,300\r\n",
      "2063970,1343793,\"Californians for Responsible Marijuana Reform, Sponsored by Drug Policy Action, Yes on Prop. 64\",SUPPORT,0,Patrick,Rea,Boulder,CO,80304,Canopy,Chief Executive Officer,6/10/2016 12:00:00 AM,100\r\n",
      "2063970,1343793,\"Californians for Responsible Marijuana Reform, Sponsored by Drug Policy Action, Yes on Prop. 64\",SUPPORT,0,Patrick,Rea,Boulder,CO,80304,Canopy,Chief Executive Officer,6/17/2016 12:00:00 AM,1000\r\n",
      "2063970,1343793,\"Californians for Responsible Marijuana Reform, Sponsored by Drug Policy Action, Yes on Prop. 64\",SUPPORT,0,David,Reagan,Oakland,CA,94607,David Reagan,Attorney,6/16/2016 12:00:00 AM,100\r\n",
      "2063970,1343793,\"Californians for Responsible Marijuana Reform, Sponsored by Drug Policy Action, Yes on Prop. 64\",SUPPORT,0,Thomas J.,Reiman,Highland Park,IL,60035,n/a,Retired,6/14/2016 12:00:00 AM,2500\r\n",
      "2063970,1343793,\"Californians for Responsible Marijuana Reform, Sponsored by Drug Policy Action, Yes on Prop. 64\",SUPPORT,0,Craig,Reinarman,Santa Cruz,CA,95060,\"University of California, Santa Cruz\",Professor,6/7/2016 12:00:00 AM,100\r\n",
      "2063970,1343793,\"Californians for Responsible Marijuana Reform, Sponsored by Drug Policy Action, Yes on Prop. 64\",SUPPORT,0,Craig,Reinarman,Santa Cruz,CA,95060,\"University of California, Santa Cruz\",Professor,6/23/2016 12:00:00 AM,100\r\n",
      "2063970,1343793,\"Californians for Responsible Marijuana Reform, Sponsored by Drug Policy Action, Yes on Prop. 64\",SUPPORT,0,Linda,Rhine,Oakland,CA,94612,Linda Rhine,Planner,6/15/2016 12:00:00 AM,100\r\n",
      "2063970,1343793,\"Californians for Responsible Marijuana Reform, Sponsored by Drug Policy Action, Yes on Prop. 64\",SUPPORT,0,Joshua,Rich,Ben Lomond,CA,95005,\"Apex Consultants, Inc.\",Chief Executive Officer,6/20/2016 12:00:00 AM,300\r\n",
      "2063970,1343793,\"Californians for Responsible Marijuana Reform, Sponsored by Drug Policy Action, Yes on Prop. 64\",SUPPORT,0,Dominic,Ripoli,San Francisco,CA,94110,San Francisco Cannabis Legalization Task Force,Project Manager,6/13/2016 12:00:00 AM,100\r\n",
      "2063970,1343793,\"Californians for Responsible Marijuana Reform, Sponsored by Drug Policy Action, Yes on Prop. 64\",SUPPORT,0,Ralph,Risch,Portland,OR,97229,Phylos,Business Development,6/24/2016 12:00:00 AM,100\r\n",
      "2063970,1343793,\"Californians for Responsible Marijuana Reform, Sponsored by Drug Policy Action, Yes on Prop. 64\",SUPPORT,0,Doug,Robinson,Kirkwood,CA,95646,Doug Robinson,Writer,6/16/2016 12:00:00 AM,100\r\n",
      "2063970,1343793,\"Californians for Responsible Marijuana Reform, Sponsored by Drug Policy Action, Yes on Prop. 64\",SUPPORT,0,Tim,Roegge,Boulder Creek,CA,95006,Tim Roegge,Extraction,6/13/2016 12:00:00 AM,200\r\n",
      "2063970,1343793,\"Californians for Responsible Marijuana Reform, Sponsored by Drug Policy Action, Yes on Prop. 64\",SUPPORT,0,Lauren,Rudick,New York,NY,10011,\"Hiller, PC\",Attorney,6/14/2016 12:00:00 AM,100\r\n",
      "2063970,1343793,\"Californians for Responsible Marijuana Reform, Sponsored by Drug Policy Action, Yes on Prop. 64\",SUPPORT,0,Liz,Rudner,San Francisco,CA,94117,BellyWell Kitchen,Co-Founder,6/19/2016 12:00:00 AM,200\r\n",
      "2063970,1343793,\"Californians for Responsible Marijuana Reform, Sponsored by Drug Policy Action, Yes on Prop. 64\",SUPPORT,0,Scot,Rutlede,Las Vegas,NV,89106,Argentum Partners,Fundraiser,6/24/2016 12:00:00 AM,100\r\n",
      "2063970,1343793,\"Californians for Responsible Marijuana Reform, Sponsored by Drug Policy Action, Yes on Prop. 64\",SUPPORT,0,Amirghasem,Samimi-Ardestan,North Vancouver,BC,V7J1V2,MediGreen,Chief Executive Officer,6/29/2016 12:00:00 AM,100\r\n",
      "2063970,1343793,\"Californians for Responsible Marijuana Reform, Sponsored by Drug Policy Action, Yes on Prop. 64\",SUPPORT,0,Alan,Saunders,Oakland,CA,94601,Green Rush Consulting,Chief Executive Officer,6/20/2016 12:00:00 AM,100\r\n",
      "2063970,1343793,\"Californians for Responsible Marijuana Reform, Sponsored by Drug Policy Action, Yes on Prop. 64\",SUPPORT,0,Peter,Schorsch,Jenkintown,PA,19046,Diamond Equity Partners,Founder,6/27/2016 12:00:00 AM,100\r\n",
      "2063970,1343793,\"Californians for Responsible Marijuana Reform, Sponsored by Drug Policy Action, Yes on Prop. 64\",SUPPORT,0,Danielle,Schumacher,El Cerrito,CA,94530,\"Frank Lucido, M.D\",Office Manager,6/13/2016 12:00:00 AM,100\r\n",
      "2063970,1343793,\"Californians for Responsible Marijuana Reform, Sponsored by Drug Policy Action, Yes on Prop. 64\",SUPPORT,0,David,Selsky,Oakland,CA,94610,VolunteerMatch,Director,6/19/2016 12:00:00 AM,100\r\n",
      "2063970,1343793,\"Californians for Responsible Marijuana Reform, Sponsored by Drug Policy Action, Yes on Prop. 64\",SUPPORT,0,Niles,Smith,Fremont,CA,94538,n/a,Not Employed,6/18/2016 12:00:00 AM,100\r\n",
      "2063970,1343793,\"Californians for Responsible Marijuana Reform, Sponsored by Drug Policy Action, Yes on Prop. 64\",SUPPORT,0,Yvette,Smith,Santa Cruz,CA,95062,\"Avedica Nutraceutical, Inc.\",Director,6/20/2016 12:00:00 AM,200\r\n",
      "2063970,1343793,\"Californians for Responsible Marijuana Reform, Sponsored by Drug Policy Action, Yes on Prop. 64\",SUPPORT,0,Michael,Steinmetz,San Francisco,CA,94111,Flow Kana,Chief Executive Officer,6/10/2016 12:00:00 AM,2500\r\n",
      "2063970,1343793,\"Californians for Responsible Marijuana Reform, Sponsored by Drug Policy Action, Yes on Prop. 64\",SUPPORT,0,Keith,Stephenson,Oakland,CA,94011,Purple Heart,Owner,6/21/2016 12:00:00 AM,100\r\n",
      "2063970,1343793,\"Californians for Responsible Marijuana Reform, Sponsored by Drug Policy Action, Yes on Prop. 64\",SUPPORT,0,Erin,Sullivan,Solana Beach,CA,92705,Tradiv,Wholesale,6/27/2016 12:00:00 AM,100\r\n",
      "2063970,1343793,\"Californians for Responsible Marijuana Reform, Sponsored by Drug Policy Action, Yes on Prop. 64\",SUPPORT,0,Jeanne,Sullivan,New York,NY,10023,Jeanne Sullivan,Advisory Services,6/10/2016 12:00:00 AM,200\r\n",
      "2063970,1343793,\"Californians for Responsible Marijuana Reform, Sponsored by Drug Policy Action, Yes on Prop. 64\",SUPPORT,0,David,Taggart,Oakland,CA,94612,n/a,Not Employed,6/8/2016 12:00:00 AM,100\r\n",
      "2063970,1343793,\"Californians for Responsible Marijuana Reform, Sponsored by Drug Policy Action, Yes on Prop. 64\",SUPPORT,0,Roxane,Thompson,Oakland,CA,94612,\"MC Finance & Management, LLC\",Director,6/13/2016 12:00:00 AM,300\r\n",
      "2063970,1343793,\"Californians for Responsible Marijuana Reform, Sponsored by Drug Policy Action, Yes on Prop. 64\",SUPPORT,0,Sam,Tracy,Somerville,MA,2143,4Front Ventures,Business Development,6/20/2016 12:00:00 AM,100\r\n",
      "2063970,1343793,\"Californians for Responsible Marijuana Reform, Sponsored by Drug Policy Action, Yes on Prop. 64\",SUPPORT,0,Steve,Trenk,Scottsdale,AZ,85255,Lizada Capital,Executive,6/24/2016 12:00:00 AM,100\r\n",
      "2063970,1343793,\"Californians for Responsible Marijuana Reform, Sponsored by Drug Policy Action, Yes on Prop. 64\",SUPPORT,0,Terry,Turner,Landers,CA,92285,n/a,Retired,6/29/2016 12:00:00 AM,500\r\n",
      "2063970,1343793,\"Californians for Responsible Marijuana Reform, Sponsored by Drug Policy Action, Yes on Prop. 64\",SUPPORT,0,Robert,Van Roo,Palm Springs,CA,92264,Palm Springs Safe Access,Alternative Medicine,6/14/2016 12:00:00 AM,300\r\n",
      "2063970,1343793,\"Californians for Responsible Marijuana Reform, Sponsored by Drug Policy Action, Yes on Prop. 64\",SUPPORT,0,Lauren,Vazquez,Alameda,CA,94501,Lauren Vazquez,Attorney,6/14/2016 12:00:00 AM,100\r\n",
      "2063970,1343793,\"Californians for Responsible Marijuana Reform, Sponsored by Drug Policy Action, Yes on Prop. 64\",SUPPORT,0,Carol,Venezia,Boston,MA,2111,Agzaar,Owner,6/27/2016 12:00:00 AM,200\r\n",
      "2063970,1343793,\"Californians for Responsible Marijuana Reform, Sponsored by Drug Policy Action, Yes on Prop. 64\",SUPPORT,0,,\"Vicente Sederberg, LLC\",Denver,CO,80203,,,6/27/2016 12:00:00 AM,5000\r\n",
      "2063970,1343793,\"Californians for Responsible Marijuana Reform, Sponsored by Drug Policy Action, Yes on Prop. 64\",SUPPORT,0,Beth,Waterfall,Rockland,MA,2370,Beth Waterfall Creative Marketing,Owner,6/17/2016 12:00:00 AM,100\r\n",
      "2063970,1343793,\"Californians for Responsible Marijuana Reform, Sponsored by Drug Policy Action, Yes on Prop. 64\",SUPPORT,0,Norman,Weekes,Castro Valley,CA,94546,Norman Weekes,Consultant,6/19/2016 12:00:00 AM,100\r\n",
      "2063970,1343793,\"Californians for Responsible Marijuana Reform, Sponsored by Drug Policy Action, Yes on Prop. 64\",SUPPORT,0,David,Weidenbach,Costa Mesa,CA,92626,Collective Supply,Chief Executive Officer,6/16/2016 12:00:00 AM,200\r\n",
      "2063970,1343793,\"Californians for Responsible Marijuana Reform, Sponsored by Drug Policy Action, Yes on Prop. 64\",SUPPORT,0,Michael,Weiss,Thousand Oaks,CA,91362,Nature's Dream,President,6/16/2016 12:00:00 AM,200\r\n",
      "2063970,1343793,\"Californians for Responsible Marijuana Reform, Sponsored by Drug Policy Action, Yes on Prop. 64\",SUPPORT,0,Norman,Weiss,Santa Cruz,CA,95060,\"Design Octaves, Inc.\",Chief Executive Officer,6/7/2016 12:00:00 AM,50\r\n",
      "2063970,1343793,\"Californians for Responsible Marijuana Reform, Sponsored by Drug Policy Action, Yes on Prop. 64\",SUPPORT,0,Norman,Weiss,Santa Cruz,CA,95060,\"Design Octaves, Inc.\",Chief Executive Officer,6/23/2016 12:00:00 AM,50\r\n",
      "2063970,1343793,\"Californians for Responsible Marijuana Reform, Sponsored by Drug Policy Action, Yes on Prop. 64\",SUPPORT,0,William H.,Wellman,Santa Barbara,CA,93102,n/a,Retired,6/30/2016 12:00:00 AM,500\r\n",
      "2063970,1343793,\"Californians for Responsible Marijuana Reform, Sponsored by Drug Policy Action, Yes on Prop. 64\",SUPPORT,0,Eric,White,Westminster,CO,80021,Sansal,Vice President of Revenue,6/28/2016 12:00:00 AM,100\r\n",
      "2063970,1343793,\"Californians for Responsible Marijuana Reform, Sponsored by Drug Policy Action, Yes on Prop. 64\",SUPPORT,0,Gail,Whitty,Birmingham,MI,48009,n/a,Retired,6/15/2016 12:00:00 AM,200\r\n",
      "2063970,1343793,\"Californians for Responsible Marijuana Reform, Sponsored by Drug Policy Action, Yes on Prop. 64\",SUPPORT,0,Joe,Wilde,Ventura,CA,93001,\"CZA, Inc.\",Chief Executive Officer,6/24/2016 12:00:00 AM,100\r\n",
      "2063970,1343793,\"Californians for Responsible Marijuana Reform, Sponsored by Drug Policy Action, Yes on Prop. 64\",SUPPORT,0,Todd,Winter,Costa Mesa,CA,92627,\"Winter, LLP\",Attorney,6/15/2016 12:00:00 AM,100\r\n",
      "2063970,1343793,\"Californians for Responsible Marijuana Reform, Sponsored by Drug Policy Action, Yes on Prop. 64\",SUPPORT,0,,Withered Tree,Richmond,CA,94804,,,5/27/2016 12:00:00 AM,200\r\n",
      "2063970,1343793,\"Californians for Responsible Marijuana Reform, Sponsored by Drug Policy Action, Yes on Prop. 64\",SUPPORT,0,David,Wood,Calgary,AB,T2P0R3,Borden Ladner Gervais,Attorney,6/17/2016 12:00:00 AM,100\r\n",
      "2063970,1343793,\"Californians for Responsible Marijuana Reform, Sponsored by Drug Policy Action, Yes on Prop. 64\",SUPPORT,0,Henry,Wykowski,San Francisco,CA,94104,Wykowski Law,Attorney,6/17/2016 12:00:00 AM,200\r\n",
      "2063970,1343793,\"Californians for Responsible Marijuana Reform, Sponsored by Drug Policy Action, Yes on Prop. 64\",SUPPORT,0,Jeremy,Zachary,Corona,CA,92879,Culture Magazine,Publisher,6/9/2016 12:00:00 AM,5000\r\n",
      "2063970,1343793,\"Californians for Responsible Marijuana Reform, Sponsored by Drug Policy Action, Yes on Prop. 64\",SUPPORT,0,Jeremy,Zachary,Los Angeles,CA,90045,n/a,Not Employed,6/13/2016 12:00:00 AM,2500\r\n",
      "2063970,1343793,\"Californians for Responsible Marijuana Reform, Sponsored by Drug Policy Action, Yes on Prop. 64\",SUPPORT,0,Jon,Zimmerman,Boca Raton,FL,33487,Jane PT Compliance,Director,6/27/2016 12:00:00 AM,200\r\n",
      "2063970,1343793,\"Californians for Responsible Marijuana Reform, Sponsored by Drug Policy Action, Yes on Prop. 64\",SUPPORT,0,Jeffrey,Zucker,Denver,CO,80205,Green Lion Partners,President,6/8/2016 12:00:00 AM,625\r\n",
      "2063970,1343793,\"Californians for Responsible Marijuana Reform, Sponsored by Drug Policy Action, Yes on Prop. 64\",SUPPORT,0,Matthew,Abel,Detroit,MI,48207,Cannabis Counsel PLC,Attorney,6/28/2016 12:00:00 AM,200\r\n",
      "2063970,1343793,\"Californians for Responsible Marijuana Reform, Sponsored by Drug Policy Action, Yes on Prop. 64\",SUPPORT,0,Kristina,Aguirre,Oakland,CA,94607,\"AD Productions, LLC\",Administrative Assistant,6/17/2016 12:00:00 AM,100\r\n",
      "2063970,1343793,\"Californians for Responsible Marijuana Reform, Sponsored by Drug Policy Action, Yes on Prop. 64\",SUPPORT,0,Mark,Ainsworth,Salinas,CA,93901,Indies Holdings,Cannabis,6/20/2016 12:00:00 AM,500\r\n",
      "2063970,1343793,\"Californians for Responsible Marijuana Reform, Sponsored by Drug Policy Action, Yes on Prop. 64\",SUPPORT,0,Mark,Ainsworth,Salinas,CA,93901,Indies Holdings,Cannabis,6/20/2016 12:00:00 AM,100\r\n",
      "2063970,1343793,\"Californians for Responsible Marijuana Reform, Sponsored by Drug Policy Action, Yes on Prop. 64\",SUPPORT,0,Anton,Albrand,Boulder,CO,80302,Privateer Holdings,Vice President Business Development,6/21/2016 12:00:00 AM,100\r\n",
      "2063970,1343793,\"Californians for Responsible Marijuana Reform, Sponsored by Drug Policy Action, Yes on Prop. 64\",SUPPORT,0,Garyn,Angel,Port Richey,FL,34668,Magical Butter,Chief Executive Officer,6/28/2016 12:00:00 AM,100\r\n",
      "2063970,1343793,\"Californians for Responsible Marijuana Reform, Sponsored by Drug Policy Action, Yes on Prop. 64\",SUPPORT,0,Cesar,Anguhaldo,Oakland,CA,94610,Magnolia Wellness,Business Advisor,6/24/2016 12:00:00 AM,100\r\n",
      "2063970,1343793,\"Californians for Responsible Marijuana Reform, Sponsored by Drug Policy Action, Yes on Prop. 64\",SUPPORT,0,James,Anthony,Oakland,CA,94601,James Anthony,Attorney,6/16/2016 12:00:00 AM,150\r\n",
      "2063970,1343793,\"Californians for Responsible Marijuana Reform, Sponsored by Drug Policy Action, Yes on Prop. 64\",SUPPORT,0,John,Arbour,Seattle,WA,98104,ReUp,Co-Founder,6/19/2016 12:00:00 AM,100\r\n",
      "2063970,1343793,\"Californians for Responsible Marijuana Reform, Sponsored by Drug Policy Action, Yes on Prop. 64\",SUPPORT,0,Joshua,Arce,San Francisco,CA,94110,\"Joshua Arce, Attorney At Law\",Attorney,6/27/2016 12:00:00 AM,100\r\n",
      "2063970,1343793,\"Californians for Responsible Marijuana Reform, Sponsored by Drug Policy Action, Yes on Prop. 64\",SUPPORT,0,Corey,Barnette,Washington,DC,20012,\"District Growers, LLC\",Chief Executive Officer Cultivator,6/20/2016 12:00:00 AM,100\r\n",
      "2063970,1343793,\"Californians for Responsible Marijuana Reform, Sponsored by Drug Policy Action, Yes on Prop. 64\",SUPPORT,0,Courtney,Barrett,Oakland,CA,94621,Dark Heart,Executive Assistant,6/16/2016 12:00:00 AM,300\r\n",
      "2063970,1343793,\"Californians for Responsible Marijuana Reform, Sponsored by Drug Policy Action, Yes on Prop. 64\",SUPPORT,0,Courtney,Barrett,Oakland,CA,94621,Dark Heart,Executive Assistant,6/16/2016 12:00:00 AM,100\r\n",
      "2063970,1343793,\"Californians for Responsible Marijuana Reform, Sponsored by Drug Policy Action, Yes on Prop. 64\",SUPPORT,0,Jim,Baudino,Los Angeles,CA,90066,Merry Jane,Marketer,6/24/2016 12:00:00 AM,100\r\n",
      "2063970,1343793,\"Californians for Responsible Marijuana Reform, Sponsored by Drug Policy Action, Yes on Prop. 64\",SUPPORT,0,Karen,Bernstein,Brooklyn,NY,11231,Bernstein IP,Attorney,6/24/2016 12:00:00 AM,100\r\n",
      "2063970,1343793,\"Californians for Responsible Marijuana Reform, Sponsored by Drug Policy Action, Yes on Prop. 64\",SUPPORT,0,Roy,Bingham,Boulder,CO,80302,BDS Analytics,Chief Executive Officer,6/16/2016 12:00:00 AM,200\r\n",
      "2063970,1343793,\"Californians for Responsible Marijuana Reform, Sponsored by Drug Policy Action, Yes on Prop. 64\",SUPPORT,0,Anthony,Bocanegra,Watsonville,CA,95076,Ethnobotanica,Manager,6/17/2016 12:00:00 AM,300\r\n",
      "2063970,1343793,\"Californians for Responsible Marijuana Reform, Sponsored by Drug Policy Action, Yes on Prop. 64\",SUPPORT,0,Leslie,Bocskor,Las Vegas,NV,89102,Electrum Partners,President/Managing Member,6/27/2016 12:00:00 AM,400\r\n",
      "2063970,1343793,\"Californians for Responsible Marijuana Reform, Sponsored by Drug Policy Action, Yes on Prop. 64\",SUPPORT,0,Cameron,Bowman,Campbell,CA,95008,\"Valencia, Ippolito & Bowman Law\",Attorney,6/17/2016 12:00:00 AM,200\r\n",
      "2063970,1343793,\"Californians for Responsible Marijuana Reform, Sponsored by Drug Policy Action, Yes on Prop. 64\",SUPPORT,0,Barry,Brilliant,Santa Rosa,CA,95404,n/a,Retired,6/21/2016 12:00:00 AM,100\r\n",
      "2063970,1343793,\"Californians for Responsible Marijuana Reform, Sponsored by Drug Policy Action, Yes on Prop. 64\",SUPPORT,0,Rebecca,Brinegar,Dover,DE,19904,Apop Media,Founder,6/28/2016 12:00:00 AM,100\r\n",
      "2063970,1343793,\"Californians for Responsible Marijuana Reform, Sponsored by Drug Policy Action, Yes on Prop. 64\",SUPPORT,0,Karen,Byars,Ukiah,CA,95482,Karen Byars,Event Organizer,6/11/2016 12:00:00 AM,100\r\n",
      "2063970,1343793,\"Californians for Responsible Marijuana Reform, Sponsored by Drug Policy Action, Yes on Prop. 64\",SUPPORT,0,Jan Carlos,Byl,Denver,CO,80209,Medcanna,Chief Executive Officer,6/21/2016 12:00:00 AM,100\r\n",
      "2063970,1343793,\"Californians for Responsible Marijuana Reform, Sponsored by Drug Policy Action, Yes on Prop. 64\",SUPPORT,0,Brian,Caldwell,Tacoma,WA,98406,Triple C Cannabis,Owner,6/21/2016 12:00:00 AM,100\r\n",
      "2063970,1343793,\"Californians for Responsible Marijuana Reform, Sponsored by Drug Policy Action, Yes on Prop. 64\",SUPPORT,0,David,Campen,Arcadia,CA,91007,Los Angeles Department of Water & Power,Engineer,5/22/2016 12:00:00 AM,100\r\n",
      "2063970,1343793,\"Californians for Responsible Marijuana Reform, Sponsored by Drug Policy Action, Yes on Prop. 64\",SUPPORT,0,Annette,Cayot,Berkeley,CA,94707,n/a,Retired,6/20/2016 12:00:00 AM,200\r\n",
      "2063970,1343793,\"Californians for Responsible Marijuana Reform, Sponsored by Drug Policy Action, Yes on Prop. 64\",SUPPORT,0,Brian,Christie,Bethesda,MD,20814,\"Brainsy, Inc.\",Chief Executive Officer,6/20/2016 12:00:00 AM,100\r\n",
      "2063970,1343793,\"Californians for Responsible Marijuana Reform, Sponsored by Drug Policy Action, Yes on Prop. 64\",SUPPORT,0,Lindsey,Cimino,San Francisco,CA,94117,Uber,Public Policy,6/16/2016 12:00:00 AM,500\r\n",
      "2063970,1343793,\"Californians for Responsible Marijuana Reform, Sponsored by Drug Policy Action, Yes on Prop. 64\",SUPPORT,0,Amanda,Conley,Oakland,CA,94612,\"Brand & Branch, LLP\",Attorney,6/24/2016 12:00:00 AM,100\r\n",
      "2063970,1343793,\"Californians for Responsible Marijuana Reform, Sponsored by Drug Policy Action, Yes on Prop. 64\",SUPPORT,0,Alex,Cooley,Seattle,WA,98124,Solstice,Executive,6/24/2016 12:00:00 AM,100\r\n",
      "2063970,1343793,\"Californians for Responsible Marijuana Reform, Sponsored by Drug Policy Action, Yes on Prop. 64\",SUPPORT,0,Jessica,Cosca,Oakland,CA,94607,Treatibles,Business Development,6/16/2016 12:00:00 AM,200\r\n",
      "2063970,1343793,\"Californians for Responsible Marijuana Reform, Sponsored by Drug Policy Action, Yes on Prop. 64\",SUPPORT,0,Katey,Cox,Brooklyn,NY,11215,Gold Drop,Business Development,6/16/2016 12:00:00 AM,100\r\n",
      "2063970,1343793,\"Californians for Responsible Marijuana Reform, Sponsored by Drug Policy Action, Yes on Prop. 64\",SUPPORT,0,Scot,Crow,Canal Winchester,OH,43110,Dickinson Wright,Attorney,6/24/2016 12:00:00 AM,100\r\n",
      "2063970,1343793,\"Californians for Responsible Marijuana Reform, Sponsored by Drug Policy Action, Yes on Prop. 64\",SUPPORT,0,Michael,Cuthriell,Scottsdale,AZ,85258,Metropolitan Wellness Center,President,6/20/2016 12:00:00 AM,100\r\n",
      "2063970,1343793,\"Californians for Responsible Marijuana Reform, Sponsored by Drug Policy Action, Yes on Prop. 64\",SUPPORT,0,Jonatan,Cvetko,Redondo Beach,CA,90277,Apple,Sales Associate,6/24/2016 12:00:00 AM,200\r\n",
      "2063970,1343793,\"Californians for Responsible Marijuana Reform, Sponsored by Drug Policy Action, Yes on Prop. 64\",SUPPORT,0,Vincent,D'Accolti,Dix Hills,NY,11746,SHOProducts,Manufacturing,6/24/2016 12:00:00 AM,100\r\n",
      "2063970,1343793,\"Californians for Responsible Marijuana Reform, Sponsored by Drug Policy Action, Yes on Prop. 64\",SUPPORT,0,Bryna,Dahlin,Chicago,IL,60618,Rollman & Dahlin,Attorney,6/28/2016 12:00:00 AM,100\r\n",
      "2063970,1343793,\"Californians for Responsible Marijuana Reform, Sponsored by Drug Policy Action, Yes on Prop. 64\",SUPPORT,0,Danny,Davis,Rancho Santa Margarita,CA,92688,Convectium,President,6/21/2016 12:00:00 AM,100\r\n",
      "2063970,1343793,\"Californians for Responsible Marijuana Reform, Sponsored by Drug Policy Action, Yes on Prop. 64\",SUPPORT,0,James,Depeyster,San Rafael,CA,94903,n/a,Retired,6/7/2016 12:00:00 AM,100\r\n",
      "2063970,1343793,\"Californians for Responsible Marijuana Reform, Sponsored by Drug Policy Action, Yes on Prop. 64\",SUPPORT,0,Robert,Deprez,Chicago,IL,60640,Deprez Leadership,Executive,6/27/2016 12:00:00 AM,100\r\n",
      "2063970,1343793,\"Californians for Responsible Marijuana Reform, Sponsored by Drug Policy Action, Yes on Prop. 64\",SUPPORT,0,Sotero,Diaz III,Capistrano Beach,CA,92624,Heritage Freedom,Chief Executive Officer,6/20/2016 12:00:00 AM,100\r\n",
      "2063970,1343793,\"Californians for Responsible Marijuana Reform, Sponsored by Drug Policy Action, Yes on Prop. 64\",SUPPORT,0,Alec,Dixon,Santa Cruz,CA,95060,SC Labs,Director of Sales & Outreach,6/27/2016 12:00:00 AM,100\r\n",
      "2063970,1343793,\"Californians for Responsible Marijuana Reform, Sponsored by Drug Policy Action, Yes on Prop. 64\",SUPPORT,0,Julie,Dooley,Denver,CO,80207,Julies Natural Edibles,Owner,6/28/2016 12:00:00 AM,100\r\n",
      "2063970,1343793,\"Californians for Responsible Marijuana Reform, Sponsored by Drug Policy Action, Yes on Prop. 64\",SUPPORT,0,,\"Drug Policy Action - Non-Profit 501c4, Yes on Prop. 64\",Sacramento,CA,95815,,,5/3/2016 12:00:00 AM,300000\r\n",
      "2063970,1343793,\"Californians for Responsible Marijuana Reform, Sponsored by Drug Policy Action, Yes on Prop. 64\",SUPPORT,0,,\"Drug Policy Action - Non-Profit 501c4, Yes on Prop. 64\",Sacramento,CA,95815,,,5/26/2016 12:00:00 AM,420000\r\n",
      "2063970,1343793,\"Californians for Responsible Marijuana Reform, Sponsored by Drug Policy Action, Yes on Prop. 64\",SUPPORT,0,Nic,Easley,Denver,CO,80211,3C - Comprehensive Cannabis Consulting,Chief Executive Officer,6/20/2016 12:00:00 AM,100\r\n",
      "2063970,1343793,\"Californians for Responsible Marijuana Reform, Sponsored by Drug Policy Action, Yes on Prop. 64\",SUPPORT,0,Evan,Enenman,Hewlett,NY,11557,Casa Verde Capital,Partner,6/24/2016 12:00:00 AM,100\r\n",
      "2063970,1343793,\"Californians for Responsible Marijuana Reform, Sponsored by Drug Policy Action, Yes on Prop. 64\",SUPPORT,0,Max,Esdale,Berkeley,CA,94702,n/a,Not Employed,6/4/2016 12:00:00 AM,100\r\n",
      "2063970,1343793,\"Californians for Responsible Marijuana Reform, Sponsored by Drug Policy Action, Yes on Prop. 64\",SUPPORT,0,Alison,Ettel,San Francisco,CA,94158,TreatWell,Chief Executive Officer/Founder,6/14/2016 12:00:00 AM,100\r\n",
      "2063970,1343793,\"Californians for Responsible Marijuana Reform, Sponsored by Drug Policy Action, Yes on Prop. 64\",SUPPORT,0,Liesl,Finkler,Arcata,CA,95521,The Humboldt California Association,Dispensary Director,6/14/2016 12:00:00 AM,200\r\n",
      "2063970,1343793,\"Californians for Responsible Marijuana Reform, Sponsored by Drug Policy Action, Yes on Prop. 64\",SUPPORT,0,Malcolm,Fleschner,Palo Alto,CA,94303,Malcolm Fleschner,Producer,6/24/2016 12:00:00 AM,100\r\n",
      "2063970,1343793,\"Californians for Responsible Marijuana Reform, Sponsored by Drug Policy Action, Yes on Prop. 64\",SUPPORT,0,Anna,Gandelmann,Greenwich,CT,6831,Anna Gandelmann,Fundraiser,6/27/2016 12:00:00 AM,100\r\n",
      "2063970,1343793,\"Californians for Responsible Marijuana Reform, Sponsored by Drug Policy Action, Yes on Prop. 64\",SUPPORT,0,Rachel,Giraudo,Sherman Oaks,CA,91423,\"University of California, Northridge\",Assistant Professor of Anthropology,6/11/2016 12:00:00 AM,200\r\n",
      "2063970,1343793,\"Californians for Responsible Marijuana Reform, Sponsored by Drug Policy Action, Yes on Prop. 64\",SUPPORT,0,Diane,Goldstein,Santa Ana,CA,92705,Diane Goldstein,Consulting,6/10/2016 12:00:00 AM,500\r\n",
      "2063970,1343793,\"Californians for Responsible Marijuana Reform, Sponsored by Drug Policy Action, Yes on Prop. 64\",SUPPORT,0,Nick,Gordon,Golden,CO,80401,Sansal CBD,Sales,6/27/2016 12:00:00 AM,100\r\n",
      "2063970,1343793,\"Californians for Responsible Marijuana Reform, Sponsored by Drug Policy Action, Yes on Prop. 64\",SUPPORT,0,Erin,Gore,Healdsburg,CA,95448,Gore Farms,Owner,6/24/2016 12:00:00 AM,100\r\n",
      "2063970,1343793,\"Californians for Responsible Marijuana Reform, Sponsored by Drug Policy Action, Yes on Prop. 64\",SUPPORT,0,,\"Greenspoon Marder, LLP\",San Diego,CA,92101,,,6/15/2016 12:00:00 AM,100\r\n",
      "2063970,1343793,\"Californians for Responsible Marijuana Reform, Sponsored by Drug Policy Action, Yes on Prop. 64\",SUPPORT,0,Dennis,Grettner,Capistrano Beach,CA,92624,American Hempire,President,6/20/2016 12:00:00 AM,100\r\n",
      "2063970,1343793,\"Californians for Responsible Marijuana Reform, Sponsored by Drug Policy Action, Yes on Prop. 64\",SUPPORT,0,Jennifer,Gunn,Superior,CO,80027,\"CCC, LTD\",Branding & Packaging,6/29/2016 12:00:00 AM,500\r\n",
      "2063970,1343793,\"Californians for Responsible Marijuana Reform, Sponsored by Drug Policy Action, Yes on Prop. 64\",SUPPORT,0,Alex,Halperin,Denver,CO,80211,Alex Halperin,Writer,6/27/2016 12:00:00 AM,100\r\n",
      "2063970,1343793,\"Californians for Responsible Marijuana Reform, Sponsored by Drug Policy Action, Yes on Prop. 64\",SUPPORT,0,Chris,Hempel,Reno,NV,89571,Strainz,Owner,6/24/2016 12:00:00 AM,200\r\n",
      "2063970,1343793,\"Californians for Responsible Marijuana Reform, Sponsored by Drug Policy Action, Yes on Prop. 64\",SUPPORT,0,Hugh,Hempel,Reno,NV,89511,Strainz,Chief Executive Officer,6/24/2016 12:00:00 AM,100\r\n",
      "2063970,1343793,\"Californians for Responsible Marijuana Reform, Sponsored by Drug Policy Action, Yes on Prop. 64\",SUPPORT,0,Randolph,Hencken,El Cerrito,CA,94530,The Seasteading Institute,Executive Director,6/16/2016 12:00:00 AM,100\r\n",
      "2063970,1343793,\"Californians for Responsible Marijuana Reform, Sponsored by Drug Policy Action, Yes on Prop. 64\",SUPPORT,0,Laurie,Holcomb,Newport Beach,CA,92660,\"Blackstar Financial, Inc.\",Real Estate,6/7/2016 12:00:00 AM,200\r\n",
      "2063970,1343793,\"Californians for Responsible Marijuana Reform, Sponsored by Drug Policy Action, Yes on Prop. 64\",SUPPORT,0,John,Holt,Oakview,CA,93023,n/a,Retired,6/2/2016 12:00:00 AM,100\r\n",
      "2063970,1343793,\"Californians for Responsible Marijuana Reform, Sponsored by Drug Policy Action, Yes on Prop. 64\",SUPPORT,0,Sarah,Holyhead,Washington,DC,20009,Marijuana Policy Project,Fundraiser,6/16/2016 12:00:00 AM,400\r\n",
      "2063970,1343793,\"Californians for Responsible Marijuana Reform, Sponsored by Drug Policy Action, Yes on Prop. 64\",SUPPORT,0,Peter,Holzworth,Fort Lauderdale,FL,33301,\"7th Point, LLC\",Private Equity,6/20/2016 12:00:00 AM,100\r\n",
      "2063970,1343793,\"Californians for Responsible Marijuana Reform, Sponsored by Drug Policy Action, Yes on Prop. 64\",SUPPORT,0,Ryan,Hudson,San Francisco,CA,94115,Apothecarium,Executive Director,6/24/2016 12:00:00 AM,500\r\n",
      "2063970,1343793,\"Californians for Responsible Marijuana Reform, Sponsored by Drug Policy Action, Yes on Prop. 64\",SUPPORT,0,David,Hults,Parker,CO,80134,Sansal CBD,Vice President of Marketing,6/27/2016 12:00:00 AM,100\r\n",
      "2063970,1343793,\"Californians for Responsible Marijuana Reform, Sponsored by Drug Policy Action, Yes on Prop. 64\",SUPPORT,0,Jazmin,Hupp,Oakland,CA,94601,Women Grow,Principle,6/20/2016 12:00:00 AM,100\r\n",
      "2063970,1343793,\"Californians for Responsible Marijuana Reform, Sponsored by Drug Policy Action, Yes on Prop. 64\",SUPPORT,0,Ryan,Hurley,Scottsdale,AZ,85251,Rose Law Group,Attorney,6/20/2016 12:00:00 AM,100\r\n",
      "2063970,1343793,\"Californians for Responsible Marijuana Reform, Sponsored by Drug Policy Action, Yes on Prop. 64\",SUPPORT,0,Natasha,Irizarry,Charlotte,NC,28217,Stashbox,Executive,6/17/2016 12:00:00 AM,200\r\n",
      "2063970,1343793,\"Californians for Responsible Marijuana Reform, Sponsored by Drug Policy Action, Yes on Prop. 64\",SUPPORT,0,David,Kaiser,Atlanta,GA,30338,Flipside Capital,Managing Director,6/19/2016 12:00:00 AM,100\r\n",
      "2063970,1343793,\"Californians for Responsible Marijuana Reform, Sponsored by Drug Policy Action, Yes on Prop. 64\",SUPPORT,0,Tony,Karian,Ventura,CA,93003,Southern California Edison,Engineer,6/30/2016 12:00:00 AM,100\r\n",
      "2063970,1343793,\"Californians for Responsible Marijuana Reform, Sponsored by Drug Policy Action, Yes on Prop. 64\",SUPPORT,0,Brad,Ketcher,Saint Louis,MO,63119,Brad Ketcher,Attorney,6/28/2016 12:00:00 AM,100\r\n",
      "2063970,1343793,\"Californians for Responsible Marijuana Reform, Sponsored by Drug Policy Action, Yes on Prop. 64\",SUPPORT,0,Khurshid,Khoja,Sacramento,CA,95819,Khursid Khoja,Attorney,6/6/2016 12:00:00 AM,3000\r\n",
      "2063970,1343793,\"Californians for Responsible Marijuana Reform, Sponsored by Drug Policy Action, Yes on Prop. 64\",SUPPORT,0,Khurshid,Khoja,Sacramento,CA,95819,Khursid Khoja,Attorney,6/20/2016 12:00:00 AM,250\r\n",
      "2063970,1343793,\"Californians for Responsible Marijuana Reform, Sponsored by Drug Policy Action, Yes on Prop. 64\",SUPPORT,0,Stephanie,Kiel,Watsonville,CA,95076,Ethnobotanica,Director,6/8/2016 12:00:00 AM,500\r\n",
      "2063970,1343793,\"Californians for Responsible Marijuana Reform, Sponsored by Drug Policy Action, Yes on Prop. 64\",SUPPORT,0,Richard,Kimball,New York,NY,10003,n/a,Not Employed,6/13/2016 12:00:00 AM,100\r\n",
      "2063970,1343793,\"Californians for Responsible Marijuana Reform, Sponsored by Drug Policy Action, Yes on Prop. 64\",SUPPORT,0,Michael,Klein,Santa Rosa,CA,95409,\"Bio365, LLC\",Managing Member,6/20/2016 12:00:00 AM,2500\r\n",
      "2063970,1343793,\"Californians for Responsible Marijuana Reform, Sponsored by Drug Policy Action, Yes on Prop. 64\",SUPPORT,0,Jeffrey,Kolsky,San Francisco,CA,94118,Jolly Meds Cannabis Edibles,Director,6/11/2016 12:00:00 AM,200\r\n",
      "2063970,1343793,\"Californians for Responsible Marijuana Reform, Sponsored by Drug Policy Action, Yes on Prop. 64\",SUPPORT,0,Bret,Kravitz,Columbus,OH,43202,n/a,Not Employed,6/24/2016 12:00:00 AM,100\r\n",
      "2063970,1343793,\"Californians for Responsible Marijuana Reform, Sponsored by Drug Policy Action, Yes on Prop. 64\",SUPPORT,0,Roger,LaChance,El Cerrito,CA,94530,Berkeley Patients Group,Director of Operations,6/24/2016 12:00:00 AM,1000\r\n",
      "2063970,1343793,\"Californians for Responsible Marijuana Reform, Sponsored by Drug Policy Action, Yes on Prop. 64\",SUPPORT,0,Joy,Langley,Mercer Island,WA,98040,MedCanna,Lobbyist/Vice President,6/27/2016 12:00:00 AM,100\r\n",
      "2063970,1343793,\"Californians for Responsible Marijuana Reform, Sponsored by Drug Policy Action, Yes on Prop. 64\",SUPPORT,0,Doug,Lanphere,Lake Elsinore,CA,92532,Green Oregon Enterprise,Chief Executive Officer,5/23/2016 12:00:00 AM,2500\r\n",
      "2063970,1343793,\"Californians for Responsible Marijuana Reform, Sponsored by Drug Policy Action, Yes on Prop. 64\",SUPPORT,0,Daylin,Leach,Wayne,PA,19087,Commonwealth of Pennsylvania,Senator,6/27/2016 12:00:00 AM,200\r\n",
      "2063970,1343793,\"Californians for Responsible Marijuana Reform, Sponsored by Drug Policy Action, Yes on Prop. 64\",SUPPORT,0,Marc,Levine,Fort Washington,PA,19034,Calyx Brands,Vice President of Operations,6/19/2016 12:00:00 AM,300\r\n",
      "2063970,1343793,\"Californians for Responsible Marijuana Reform, Sponsored by Drug Policy Action, Yes on Prop. 64\",SUPPORT,0,Amanda,Lewis,Los Angeles,CA,90004,Buzzfeed,Writer,6/9/2016 12:00:00 AM,100\r\n",
      "2063970,1343793,\"Californians for Responsible Marijuana Reform, Sponsored by Drug Policy Action, Yes on Prop. 64\",SUPPORT,0,Sean,Luse,Berkeley,CA,94710,Berkeley Patients Group,Manager,6/15/2016 12:00:00 AM,100\r\n",
      "2063970,1343793,\"Californians for Responsible Marijuana Reform, Sponsored by Drug Policy Action, Yes on Prop. 64\",SUPPORT,0,Amy,Margolis,Portland,OR,97205,Emerge Law Group,Attorney,6/18/2016 12:00:00 AM,200\r\n",
      "2063970,1343793,\"Californians for Responsible Marijuana Reform, Sponsored by Drug Policy Action, Yes on Prop. 64\",SUPPORT,0,Kyle,Marshall,Oakland,CA,94606,\"Brick, Inc.\",Owner,6/20/2016 12:00:00 AM,500\r\n",
      "2063970,1343793,\"Californians for Responsible Marijuana Reform, Sponsored by Drug Policy Action, Yes on Prop. 64\",SUPPORT,0,Zach,Marvurger,Chicago,IL,60654,Cresco Labs,Executive,6/20/2016 12:00:00 AM,300\r\n",
      "1998126,1371855,Marijuana Policy Project of California,SUPPORT,1,,Marijuana Policy Project,Washington,DC,20009,,,8/19/2015 12:00:00 AM,2000\r\n",
      "2009762,1371855,Marijuana Policy Project of California,SUPPORT,0,,Novak Media Group,San Bruno,CA,9.40E+08,,,12/15/2015 12:00:00 AM,100\r\n",
      "2009762,1371855,Marijuana Policy Project of California,SUPPORT,0,Randolph,Hencken,Oakland,CA,9.50E+08,The Seasteading Institute,Executive Director,12/15/2015 12:00:00 AM,100\r\n",
      "2009762,1371855,Marijuana Policy Project of California,SUPPORT,0,Jerry,Rosenbaum,San Rafael,CA,9.50E+08,Retired,Retired,12/15/2015 12:00:00 AM,100\r\n",
      "2009762,1371855,Marijuana Policy Project of California,SUPPORT,0,Terry,Turner,Landers,CA,9.20E+08,Retired,Retired,12/16/2015 12:00:00 AM,1000\r\n",
      "2009762,1371855,Marijuana Policy Project of California,SUPPORT,0,Robert,Sullivan,Sacramento,CA,9.60E+08,Self,Physician,12/16/2015 12:00:00 AM,200\r\n",
      "2009762,1371855,Marijuana Policy Project of California,SUPPORT,0,Stuart,Resnick,Berkeley,CA,9.50E+08,TEK Systems,Information Technology (IT),12/18/2015 12:00:00 AM,100\r\n",
      "2009762,1371855,Marijuana Policy Project of California,SUPPORT,0,Chris,Lovenko,Los Angeles,CA,9.00E+08,Pan Opticom Film,Writer,12/31/2015 12:00:00 AM,1000\r\n",
      "2009762,1371855,Marijuana Policy Project of California,SUPPORT,0,Sean,Parker,Palo Alto,CA,94301,Sean N Parker Foundation,Chairman,12/30/2015 12:00:00 AM,250000\r\n",
      "2009762,1371855,Marijuana Policy Project of California,SUPPORT,0,Eric,Garris,San Francisco,CA,9.40E+08,Randolph Bourne Institute/Antiwar.com,Director,12/28/2015 12:00:00 AM,100\r\n",
      "2034099,1371855,Marijuana Policy Project of California,SUPPORT,1,Daniel,Gallen,Chattaroy,WA,99003,Retired,Retired,3/22/2016 12:00:00 AM,100\r\n",
      "2034099,1371855,Marijuana Policy Project of California,SUPPORT,1,,The Werc Shop,Pasadena,CA,91107,,,3/21/2016 12:00:00 AM,5000\r\n",
      "2034099,1371855,Marijuana Policy Project of California,SUPPORT,1,,Gro Cal Cooperative,Wildomar,CA,92595,,,3/29/2016 12:00:00 AM,1000\r\n",
      "2060277,1371855,Marijuana Policy Project of California,SUPPORT,0,,Pineapple Express,Los Angeles,CA,90067,,,4/4/2016 12:00:00 AM,5000\r\n",
      "2060277,1371855,Marijuana Policy Project of California,SUPPORT,0,,Supreme Organics,New York,NY,10016,,,4/19/2016 12:00:00 AM,5000\r\n",
      "2060277,1371855,Marijuana Policy Project of California,SUPPORT,0,Nicholas,Pritzker,San Fransisco,CA,94129,TAO CAPITAL PARTNERS LLC,Chairman,4/19/2016 12:00:00 AM,250000\r\n",
      "2060277,1371855,Marijuana Policy Project of California,SUPPORT,0,Steve,Hitter,Los Angeles,CA,9.00E+08,Hitter Family Foundation,Managing Partner,4/29/2016 12:00:00 AM,2500\r\n",
      "2060277,1371855,Marijuana Policy Project of California,SUPPORT,0,Timothy,Hand,Palos Verdes Peninsula,CA,90274,Kelley Blue Book,Sales,6/7/2016 12:00:00 AM,100\r\n",
      "2060277,1371855,Marijuana Policy Project of California,SUPPORT,0,,Poseidon Asset Management,San Francisco,CA,9.40E+08,,,4/15/2016 12:00:00 AM,1800\r\n",
      "2060277,1371855,Marijuana Policy Project of California,SUPPORT,0,Les,Whiddon,Newville,AL,3.60E+08,Saints Industries,Owner,6/17/2016 12:00:00 AM,100\r\n",
      "1982136,1376077,\"Californians for Sensible Reform, Sponsored by Ghost Management Group, LLC dba Weedmaps\",SUPPORT,0,,\"Ghost Management Group, LLC dba Weedmaps\",Irvine,CA,92618,,,4/16/2015 12:00:00 AM,1000000\r\n",
      "2038581,1381808,\"Yes on 64, Californians to Control, Regulate and Tax Adult Use of Marijuana While Protecting Children, Sponsored by Business, Physicians, Environmental and Social-Justice Advocate Organizations\",SUPPORT,1,Laura,Braden Quigley,Sacramento,CA,95825,LBQ Strategies,Consultant,2/4/2016 12:00:00 AM,100\r\n",
      "2038581,1381808,\"Yes on 64, Californians to Control, Regulate and Tax Adult Use of Marijuana While Protecting Children, Sponsored by Business, Physicians, Environmental and Social-Justice Advocate Organizations\",SUPPORT,1,,\"Californians for Sensible Reform, Sponsored by Ghost Management Group, LLC dba Weedmaps\",Irvine,CA,92618,,,1/5/2016 12:00:00 AM,250000\r\n",
      "2038581,1381808,\"Yes on 64, Californians to Control, Regulate and Tax Adult Use of Marijuana While Protecting Children, Sponsored by Business, Physicians, Environmental and Social-Justice Advocate Organizations\",SUPPORT,1,,\"Californians for Sensible Reform, Sponsored by Ghost Management Group, LLC dba Weedmaps\",Irvine,CA,92618,,,1/29/2016 12:00:00 AM,250000\r\n",
      "2038581,1381808,\"Yes on 64, Californians to Control, Regulate and Tax Adult Use of Marijuana While Protecting Children, Sponsored by Business, Physicians, Environmental and Social-Justice Advocate Organizations\",SUPPORT,1,,\"Californians for Sensible Reform, Sponsored by Ghost Management Group, LLC dba Weedmaps\",Irvine,CA,92618,,,3/28/2016 12:00:00 AM,250000\r\n",
      "2038581,1381808,\"Yes on 64, Californians to Control, Regulate and Tax Adult Use of Marijuana While Protecting Children, Sponsored by Business, Physicians, Environmental and Social-Justice Advocate Organizations\",SUPPORT,1,,Drug Policy Action,New York,NY,10001,,,1/5/2016 12:00:00 AM,250000\r\n",
      "2038581,1381808,\"Yes on 64, Californians to Control, Regulate and Tax Adult Use of Marijuana While Protecting Children, Sponsored by Business, Physicians, Environmental and Social-Justice Advocate Organizations\",SUPPORT,1,,Drug Policy Action,New York,NY,10001,,,2/2/2016 12:00:00 AM,250000\r\n",
      "2038581,1381808,\"Yes on 64, Californians to Control, Regulate and Tax Adult Use of Marijuana While Protecting Children, Sponsored by Business, Physicians, Environmental and Social-Justice Advocate Organizations\",SUPPORT,1,Dewight,Emery,San Jose,CA,95121,Appliance Tech Now,Appliance Technician,3/24/2016 12:00:00 AM,100\r\n",
      "2038581,1381808,\"Yes on 64, Californians to Control, Regulate and Tax Adult Use of Marijuana While Protecting Children, Sponsored by Business, Physicians, Environmental and Social-Justice Advocate Organizations\",SUPPORT,1,Gregory,Gilbert,San Diego,CA,92108,None,Unemployed,3/11/2016 12:00:00 AM,100\r\n",
      "2038581,1381808,\"Yes on 64, Californians to Control, Regulate and Tax Adult Use of Marijuana While Protecting Children, Sponsored by Business, Physicians, Environmental and Social-Justice Advocate Organizations\",SUPPORT,1,Richard,Hedrick,Claremont,CA,91711,imortgage,Mortgage Banking,3/20/2016 12:00:00 AM,100\r\n",
      "2038581,1381808,\"Yes on 64, Californians to Control, Regulate and Tax Adult Use of Marijuana While Protecting Children, Sponsored by Business, Physicians, Environmental and Social-Justice Advocate Organizations\",SUPPORT,1,,New Approach PAC (MPO),Washington,DC,20036,,,1/6/2016 12:00:00 AM,250000\r\n",
      "2038581,1381808,\"Yes on 64, Californians to Control, Regulate and Tax Adult Use of Marijuana While Protecting Children, Sponsored by Business, Physicians, Environmental and Social-Justice Advocate Organizations\",SUPPORT,1,Sean,Parker and affiliated entities,Palo Alto,CA,94301,,,1/5/2016 12:00:00 AM,250000\r\n",
      "2038581,1381808,\"Yes on 64, Californians to Control, Regulate and Tax Adult Use of Marijuana While Protecting Children, Sponsored by Business, Physicians, Environmental and Social-Justice Advocate Organizations\",SUPPORT,1,Sean,Parker and affiliated entities,Palo Alto,CA,94301,,,1/5/2016 12:00:00 AM,250000\r\n",
      "2038581,1381808,\"Yes on 64, Californians to Control, Regulate and Tax Adult Use of Marijuana While Protecting Children, Sponsored by Business, Physicians, Environmental and Social-Justice Advocate Organizations\",SUPPORT,1,Sean,Parker and affiliated entities,Palo Alto,CA,94301,,,2/2/2016 12:00:00 AM,250000\r\n",
      "2038581,1381808,\"Yes on 64, Californians to Control, Regulate and Tax Adult Use of Marijuana While Protecting Children, Sponsored by Business, Physicians, Environmental and Social-Justice Advocate Organizations\",SUPPORT,1,Sean,Parker and affiliated entities,Palo Alto,CA,94301,,,2/3/2016 12:00:00 AM,250000\r\n",
      "2038581,1381808,\"Yes on 64, Californians to Control, Regulate and Tax Adult Use of Marijuana While Protecting Children, Sponsored by Business, Physicians, Environmental and Social-Justice Advocate Organizations\",SUPPORT,1,Kenneth,Potstada,Walnut Creek,CA,94595,None,Unemployed,3/9/2016 12:00:00 AM,1000\r\n",
      "2038581,1381808,\"Yes on 64, Californians to Control, Regulate and Tax Adult Use of Marijuana While Protecting Children, Sponsored by Business, Physicians, Environmental and Social-Justice Advocate Organizations\",SUPPORT,1,Will,Risseeuw,Redwood City,CA,94062,None,Unemployed,3/15/2016 12:00:00 AM,100\r\n",
      "2064423,1381808,\"Yes on 64, Californians to Control, Regulate and Tax Adult Use of Marijuana While Protecting Children, Sponsored by Business, Physicians, Environmental and Social-Justice Advocate Organizations\",SUPPORT,1,Abdul,Ahmed,San Dimas,CA,91773,Babcock Welding Company Inc.,Manager,4/28/2016 12:00:00 AM,100\r\n",
      "2064423,1381808,\"Yes on 64, Californians to Control, Regulate and Tax Adult Use of Marijuana While Protecting Children, Sponsored by Business, Physicians, Environmental and Social-Justice Advocate Organizations\",SUPPORT,1,Rich,Beadle,Red Bluff,CA,96080,GWW Ranch,Rancher,4/6/2016 12:00:00 AM,100\r\n",
      "2064423,1381808,\"Yes on 64, Californians to Control, Regulate and Tax Adult Use of Marijuana While Protecting Children, Sponsored by Business, Physicians, Environmental and Social-Justice Advocate Organizations\",SUPPORT,1,Rich,Beadle,Red Bluff,CA,96080,GWW Ranch,Rancher,5/4/2016 12:00:00 AM,25\r\n",
      "2064423,1381808,\"Yes on 64, Californians to Control, Regulate and Tax Adult Use of Marijuana While Protecting Children, Sponsored by Business, Physicians, Environmental and Social-Justice Advocate Organizations\",SUPPORT,1,Gordon,Brownell,Calistoga,CA,94515,\"Gordon S. Brownell, Attorney at Law\",Attorney,6/30/2016 12:00:00 AM,100\r\n",
      "2064423,1381808,\"Yes on 64, Californians to Control, Regulate and Tax Adult Use of Marijuana While Protecting Children, Sponsored by Business, Physicians, Environmental and Social-Justice Advocate Organizations\",SUPPORT,1,Brian,Burhans,Seattle,WA,98115,King County,Light Rail Train Operator,6/30/2016 12:00:00 AM,100\r\n",
      "2064423,1381808,\"Yes on 64, Californians to Control, Regulate and Tax Adult Use of Marijuana While Protecting Children, Sponsored by Business, Physicians, Environmental and Social-Justice Advocate Organizations\",SUPPORT,1,Marco,Chavarin,San Jose,CA,95110,CIWP,Program Director,6/29/2016 12:00:00 AM,100\r\n",
      "2064423,1381808,\"Yes on 64, Californians to Control, Regulate and Tax Adult Use of Marijuana While Protecting Children, Sponsored by Business, Physicians, Environmental and Social-Justice Advocate Organizations\",SUPPORT,1,Rosanne,Christensen,Martinez,CA,94553,Tides Foundation,Office Manager,5/5/2016 12:00:00 AM,100\r\n",
      "2064423,1381808,\"Yes on 64, Californians to Control, Regulate and Tax Adult Use of Marijuana While Protecting Children, Sponsored by Business, Physicians, Environmental and Social-Justice Advocate Organizations\",SUPPORT,1,Stuart,Cianos,Redwood City,CA,94061,Yahoo,Infrastructure Engineering,5/4/2016 12:00:00 AM,100\r\n",
      "2064423,1381808,\"Yes on 64, Californians to Control, Regulate and Tax Adult Use of Marijuana While Protecting Children, Sponsored by Business, Physicians, Environmental and Social-Justice Advocate Organizations\",SUPPORT,1,,Drug Policy Action - Non-Profit 501c4,Sacramento,CA,95815,,,5/4/2016 12:00:00 AM,250000\r\n",
      "2064423,1381808,\"Yes on 64, Californians to Control, Regulate and Tax Adult Use of Marijuana While Protecting Children, Sponsored by Business, Physicians, Environmental and Social-Justice Advocate Organizations\",SUPPORT,1,Dewight,Emery,San Jose,CA,95121,Appliance Tech Now,Appliance Technician,5/5/2016 12:00:00 AM,100\r\n",
      "2064423,1381808,\"Yes on 64, Californians to Control, Regulate and Tax Adult Use of Marijuana While Protecting Children, Sponsored by Business, Physicians, Environmental and Social-Justice Advocate Organizations\",SUPPORT,1,Bill,Gillispie,Santa Rosa,CA,95401,\"Bill Gillispie, Graphic Design\",Graphic Design,5/9/2016 12:00:00 AM,100\r\n",
      "2064423,1381808,\"Yes on 64, Californians to Control, Regulate and Tax Adult Use of Marijuana While Protecting Children, Sponsored by Business, Physicians, Environmental and Social-Justice Advocate Organizations\",SUPPORT,1,Larry,Hannan,Redding,CA,96003,None,Unemployed,5/4/2016 12:00:00 AM,100\r\n",
      "2064423,1381808,\"Yes on 64, Californians to Control, Regulate and Tax Adult Use of Marijuana While Protecting Children, Sponsored by Business, Physicians, Environmental and Social-Justice Advocate Organizations\",SUPPORT,1,Larry,Hannan,Redding,CA,96003,None,Unemployed,6/29/2016 12:00:00 AM,20\r\n",
      "2064423,1381808,\"Yes on 64, Californians to Control, Regulate and Tax Adult Use of Marijuana While Protecting Children, Sponsored by Business, Physicians, Environmental and Social-Justice Advocate Organizations\",SUPPORT,1,Beth,Herman,Encinitas,CA,92024,None,Unemployed,5/16/2016 12:00:00 AM,1000\r\n",
      "2064423,1381808,\"Yes on 64, Californians to Control, Regulate and Tax Adult Use of Marijuana While Protecting Children, Sponsored by Business, Physicians, Environmental and Social-Justice Advocate Organizations\",SUPPORT,1,Matthew,Heyman,Pacific Palisades,CA,90272,None,Unemployed,5/11/2016 12:00:00 AM,100\r\n",
      "2064423,1381808,\"Yes on 64, Californians to Control, Regulate and Tax Adult Use of Marijuana While Protecting Children, Sponsored by Business, Physicians, Environmental and Social-Justice Advocate Organizations\",SUPPORT,1,Lee,House,McKinleyville,CA,95519,None,Unemployed,5/5/2016 12:00:00 AM,100\r\n",
      "2064423,1381808,\"Yes on 64, Californians to Control, Regulate and Tax Adult Use of Marijuana While Protecting Children, Sponsored by Business, Physicians, Environmental and Social-Justice Advocate Organizations\",SUPPORT,1,Lee,House,McKinleyville,CA,95519,None,Unemployed,6/29/2016 12:00:00 AM,100\r\n",
      "2064423,1381808,\"Yes on 64, Californians to Control, Regulate and Tax Adult Use of Marijuana While Protecting Children, Sponsored by Business, Physicians, Environmental and Social-Justice Advocate Organizations\",SUPPORT,1,Tony,Karian,Ventura,CA,93003,Southern California Edison,Engineer,5/10/2016 12:00:00 AM,100\r\n",
      "2064423,1381808,\"Yes on 64, Californians to Control, Regulate and Tax Adult Use of Marijuana While Protecting Children, Sponsored by Business, Physicians, Environmental and Social-Justice Advocate Organizations\",SUPPORT,1,John,Kelsoe,Del Mar,CA,92014,\"University of California, San Diego\",Physician,6/6/2016 12:00:00 AM,100\r\n",
      "2064423,1381808,\"Yes on 64, Californians to Control, Regulate and Tax Adult Use of Marijuana While Protecting Children, Sponsored by Business, Physicians, Environmental and Social-Justice Advocate Organizations\",SUPPORT,1,Brian,Key,San Francisco,CA,94114,None,Unemployed,5/14/2016 12:00:00 AM,100\r\n",
      "2064423,1381808,\"Yes on 64, Californians to Control, Regulate and Tax Adult Use of Marijuana While Protecting Children, Sponsored by Business, Physicians, Environmental and Social-Justice Advocate Organizations\",SUPPORT,1,Roger,Kranz,Palm Desert,CA,92211,None,Unemployed,6/22/2016 12:00:00 AM,100\r\n",
      "2064423,1381808,\"Yes on 64, Californians to Control, Regulate and Tax Adult Use of Marijuana While Protecting Children, Sponsored by Business, Physicians, Environmental and Social-Justice Advocate Organizations\",SUPPORT,1,David,Larson,Malibu,CA,90265,None,Unemployed,5/3/2016 12:00:00 AM,100\r\n",
      "2064423,1381808,\"Yes on 64, Californians to Control, Regulate and Tax Adult Use of Marijuana While Protecting Children, Sponsored by Business, Physicians, Environmental and Social-Justice Advocate Organizations\",SUPPORT,1,John,Malmo,Fresno,CA,9.37E+04,Netzer & Malmo,Attorney,6/7/2016 12:00:00 AM,100\r\n",
      "2064423,1381808,\"Yes on 64, Californians to Control, Regulate and Tax Adult Use of Marijuana While Protecting Children, Sponsored by Business, Physicians, Environmental and Social-Justice Advocate Organizations\",SUPPORT,1,Dion,Markgraaff,Vista,CA,9.21E+04,\"Dion Markgraaff, Consultant\",Consultant,5/4/2016 12:00:00 AM,100\r\n",
      "2064423,1381808,\"Yes on 64, Californians to Control, Regulate and Tax Adult Use of Marijuana While Protecting Children, Sponsored by Business, Physicians, Environmental and Social-Justice Advocate Organizations\",SUPPORT,1,Richard,Matthew,Fair Oaks,CA,9.56E+04,None,Unemployed,6/30/2016 12:00:00 AM,100\r\n",
      "2064423,1381808,\"Yes on 64, Californians to Control, Regulate and Tax Adult Use of Marijuana While Protecting Children, Sponsored by Business, Physicians, Environmental and Social-Justice Advocate Organizations\",SUPPORT,1,James,Merrill,Los Angeles,CA,9.00E+04,Riot Games,Software Engineer,4/13/2016 12:00:00 AM,250\r\n",
      "2064423,1381808,\"Yes on 64, Californians to Control, Regulate and Tax Adult Use of Marijuana While Protecting Children, Sponsored by Business, Physicians, Environmental and Social-Justice Advocate Organizations\",SUPPORT,1,Jeffery,Mills,Grover Beach,CA,9.34E+04,None,Unemployed,5/4/2016 12:00:00 AM,100\r\n",
      "2064423,1381808,\"Yes on 64, Californians to Control, Regulate and Tax Adult Use of Marijuana While Protecting Children, Sponsored by Business, Physicians, Environmental and Social-Justice Advocate Organizations\",SUPPORT,1,Steven,Morrison,Pasadena,CA,9.11E+04,None,Unemployed,6/29/2016 12:00:00 AM,100\r\n",
      "2064423,1381808,\"Yes on 64, Californians to Control, Regulate and Tax Adult Use of Marijuana While Protecting Children, Sponsored by Business, Physicians, Environmental and Social-Justice Advocate Organizations\",SUPPORT,1,,New Approach PAC (MPO),Washington,DC,2.00E+04,,,4/1/2016 12:00:00 AM,500000\r\n",
      "2064423,1381808,\"Yes on 64, Californians to Control, Regulate and Tax Adult Use of Marijuana While Protecting Children, Sponsored by Business, Physicians, Environmental and Social-Justice Advocate Organizations\",SUPPORT,1,Rob,Orsburn,Tujunga,CA,91042,None,Unemployed,6/28/2016 12:00:00 AM,100\r\n",
      "2064423,1381808,\"Yes on 64, Californians to Control, Regulate and Tax Adult Use of Marijuana While Protecting Children, Sponsored by Business, Physicians, Environmental and Social-Justice Advocate Organizations\",SUPPORT,1,Innokenty,Oshmansky,Daly City,CA,9.40E+04,\"University of California, San Francisco\",Registered Nurse,6/10/2016 12:00:00 AM,100\r\n",
      "2064423,1381808,\"Yes on 64, Californians to Control, Regulate and Tax Adult Use of Marijuana While Protecting Children, Sponsored by Business, Physicians, Environmental and Social-Justice Advocate Organizations\",SUPPORT,1,Simon,Plant,Goleta,CA,93117,None,Unemployed,5/6/2016 12:00:00 AM,100\r\n",
      "2064423,1381808,\"Yes on 64, Californians to Control, Regulate and Tax Adult Use of Marijuana While Protecting Children, Sponsored by Business, Physicians, Environmental and Social-Justice Advocate Organizations\",SUPPORT,1,Nicholas,Pritzker,San Francisco,CA,94129,\"Tao Capital Partners, LLC\",Chairman,4/18/2016 12:00:00 AM,250000\r\n",
      "2064423,1381808,\"Yes on 64, Californians to Control, Regulate and Tax Adult Use of Marijuana While Protecting Children, Sponsored by Business, Physicians, Environmental and Social-Justice Advocate Organizations\",SUPPORT,1,Richard,Probst,Los Altos,CA,94024,SAP,Executive,5/12/2016 12:00:00 AM,100\r\n",
      "2064423,1381808,\"Yes on 64, Californians to Control, Regulate and Tax Adult Use of Marijuana While Protecting Children, Sponsored by Business, Physicians, Environmental and Social-Justice Advocate Organizations\",SUPPORT,1,Jonathan,Richter,Auburn,CA,95603,Richard A. Ciummo & Associates,Attorney,5/9/2016 12:00:00 AM,100\r\n",
      "2064423,1381808,\"Yes on 64, Californians to Control, Regulate and Tax Adult Use of Marijuana While Protecting Children, Sponsored by Business, Physicians, Environmental and Social-Justice Advocate Organizations\",SUPPORT,1,Barry,Rubinow,West Hills,CA,91304,None,Film Editor,5/5/2016 12:00:00 AM,100\r\n",
      "2064423,1381808,\"Yes on 64, Californians to Control, Regulate and Tax Adult Use of Marijuana While Protecting Children, Sponsored by Business, Physicians, Environmental and Social-Justice Advocate Organizations\",SUPPORT,1,Harris,Schneiderman,Las Vegas,NV,89169,H Tech Solutions,Chief Executive Officer,6/29/2016 12:00:00 AM,500\r\n",
      "2064423,1381808,\"Yes on 64, Californians to Control, Regulate and Tax Adult Use of Marijuana While Protecting Children, Sponsored by Business, Physicians, Environmental and Social-Justice Advocate Organizations\",SUPPORT,1,David,Shirley,Oakland,CA,94609,Apteligent,Engineer,5/5/2016 12:00:00 AM,100\r\n",
      "2064423,1381808,\"Yes on 64, Californians to Control, Regulate and Tax Adult Use of Marijuana While Protecting Children, Sponsored by Business, Physicians, Environmental and Social-Justice Advocate Organizations\",SUPPORT,1,Kent,Sokolow,Pasadena,CA,91105,KenCott Manor,Honda Dealer,5/15/2016 12:00:00 AM,100\r\n",
      "2064423,1381808,\"Yes on 64, Californians to Control, Regulate and Tax Adult Use of Marijuana While Protecting Children, Sponsored by Business, Physicians, Environmental and Social-Justice Advocate Organizations\",SUPPORT,1,Marc,Steigleder,Santa Monica,CA,90404,\"Marc Steigleder, Handyman\",Handyman,5/2/2016 12:00:00 AM,25\r\n",
      "2064423,1381808,\"Yes on 64, Californians to Control, Regulate and Tax Adult Use of Marijuana While Protecting Children, Sponsored by Business, Physicians, Environmental and Social-Justice Advocate Organizations\",SUPPORT,1,Marc,Steigleder,Santa Monica,CA,90404,\"Marc Steigleder, Handyman\",Handyman,6/30/2016 12:00:00 AM,100\r\n",
      "2064423,1381808,\"Yes on 64, Californians to Control, Regulate and Tax Adult Use of Marijuana While Protecting Children, Sponsored by Business, Physicians, Environmental and Social-Justice Advocate Organizations\",SUPPORT,1,Lane,Stewart,Metairie,LA,70005,None,Unemployed,4/6/2016 12:00:00 AM,100\r\n",
      "2064423,1381808,\"Yes on 64, Californians to Control, Regulate and Tax Adult Use of Marijuana While Protecting Children, Sponsored by Business, Physicians, Environmental and Social-Justice Advocate Organizations\",SUPPORT,1,Robert,Sullivan,Sacramento,CA,95816,None,Unemployed,4/5/2016 12:00:00 AM,100\r\n",
      "2064423,1381808,\"Yes on 64, Californians to Control, Regulate and Tax Adult Use of Marijuana While Protecting Children, Sponsored by Business, Physicians, Environmental and Social-Justice Advocate Organizations\",SUPPORT,1,Carl,Tennenbaum,Sebastopol,CA,95472,None,Unemployed,5/5/2016 12:00:00 AM,100\r\n",
      "2064423,1381808,\"Yes on 64, Californians to Control, Regulate and Tax Adult Use of Marijuana While Protecting Children, Sponsored by Business, Physicians, Environmental and Social-Justice Advocate Organizations\",SUPPORT,1,Terry,Turner,Landers,CA,92285,None,Unemployed,5/10/2016 12:00:00 AM,250\r\n",
      "2064423,1381808,\"Yes on 64, Californians to Control, Regulate and Tax Adult Use of Marijuana While Protecting Children, Sponsored by Business, Physicians, Environmental and Social-Justice Advocate Organizations\",SUPPORT,1,Dan,Viets,Columbia,MO,65201,Dan Viets Attorney at Law,Attorney,4/8/2016 12:00:00 AM,25\r\n",
      "2064423,1381808,\"Yes on 64, Californians to Control, Regulate and Tax Adult Use of Marijuana While Protecting Children, Sponsored by Business, Physicians, Environmental and Social-Justice Advocate Organizations\",SUPPORT,1,Dan,Viets,Columbia,MO,6.52E+04,Dan Viets Attorney at Law,Attorney,4/15/2016 12:00:00 AM,25\r\n",
      "2064423,1381808,\"Yes on 64, Californians to Control, Regulate and Tax Adult Use of Marijuana While Protecting Children, Sponsored by Business, Physicians, Environmental and Social-Justice Advocate Organizations\",SUPPORT,1,Dan,Viets,Columbia,MO,65201,Dan Viets Attorney at Law,Attorney,5/17/2016 12:00:00 AM,50\r\n",
      "2064423,1381808,\"Yes on 64, Californians to Control, Regulate and Tax Adult Use of Marijuana While Protecting Children, Sponsored by Business, Physicians, Environmental and Social-Justice Advocate Organizations\",SUPPORT,1,Claude,Waldbaum,West Hills,CA,9.13E+04,None,Unemployed,4/5/2016 12:00:00 AM,100\r\n",
      "2064423,1381808,\"Yes on 64, Californians to Control, Regulate and Tax Adult Use of Marijuana While Protecting Children, Sponsored by Business, Physicians, Environmental and Social-Justice Advocate Organizations\",SUPPORT,1,Claude,Waldbaum,West Hills,CA,9.13E+04,None,Unemployed,5/4/2016 12:00:00 AM,50\r\n",
      "2064423,1381808,\"Yes on 64, Californians to Control, Regulate and Tax Adult Use of Marijuana While Protecting Children, Sponsored by Business, Physicians, Environmental and Social-Justice Advocate Organizations\",SUPPORT,1,Dylan,Winn,San Marcos,CA,92069,First Data,Software Engineer,4/30/2016 12:00:00 AM,100\r\n",
      "2040789,1382568,\"No on Prop. 64, Sponsored by California Public Safety Institute\",OPPOSE,0,,CALIF. POLICE CHIEFS ASSOC.,SACRAMENTO,CA,95865,,,2/8/2016 12:00:00 AM,10000\r\n",
      "2040789,1382568,\"No on Prop. 64, Sponsored by California Public Safety Institute\",OPPOSE,0,,\"CALIF. CORRECTIONAL SUPERVISORS ORGANIZATION, INC.\",ESCALON,CA,95320,,,2/22/2016 12:00:00 AM,5000\r\n",
      "2040789,1382568,\"No on Prop. 64, Sponsored by California Public Safety Institute\",OPPOSE,0,,ASSOC. FOR LOS ANGELES DEPUTY SHERIFFS STATE PAC,MONTEREY PARK,CA,91755,,,2/23/2016 12:00:00 AM,5000\r\n",
      "2040789,1382568,\"No on Prop. 64, Sponsored by California Public Safety Institute\",OPPOSE,0,,RIVERSIDE SHERIFFS ASSOC.,RIVERSIDE,CA,92507,,,2/23/2016 12:00:00 AM,5000\r\n",
      "2040789,1382568,\"No on Prop. 64, Sponsored by California Public Safety Institute\",OPPOSE,0,,CALIF. HOSPITALS COMMITTEE ON ISSUES,SACRAMENTO,CA,95814,,,3/3/2016 12:00:00 AM,5000\r\n",
      "2040789,1382568,\"No on Prop. 64, Sponsored by California Public Safety Institute\",OPPOSE,0,,LOS ANGELES POLICE PROTECTIVE LEAGUE ISSUES PAC,SACRAMENTO,CA,95814,,,3/3/2016 12:00:00 AM,5000\r\n",
      "2040789,1382568,\"No on Prop. 64, Sponsored by California Public Safety Institute\",OPPOSE,0,,CALIF. TEAMSTERS PUBLIC AFFAIRS COUNCIL ISSUES ACCT.,SACRAMENTO,CA,95814,,,3/9/2016 12:00:00 AM,25000\r\n",
      "2064127,1382568,\"No on Prop. 64, Sponsored by California Public Safety Institute\",OPPOSE,0,,\"SAM ACTION, INC.\",NEW YORK,NY,10014,,,4/18/2016 12:00:00 AM,10000\r\n",
      "2064127,1382568,\"No on Prop. 64, Sponsored by California Public Safety Institute\",OPPOSE,0,,GOLDEN STATE LEADERSHIP COUNCIL,SACRAMENTO,CA,95814,,,5/27/2016 12:00:00 AM,1000\r\n",
      "2064127,1382568,\"No on Prop. 64, Sponsored by California Public Safety Institute\",OPPOSE,0,,LOS ANGELES COUNTY PROFESSIONAL PEACE OFFICERS ASSOC. SPECIAL ISSUES COMMITTEE,SAN DIMAS,CA,91773,,,5/27/2016 12:00:00 AM,10000\r\n",
      "2064127,1382568,\"No on Prop. 64, Sponsored by California Public Safety Institute\",OPPOSE,0,Clarence,Stewart,Saugus,CA,91350,CNOA,Mr,6/2/2016 12:00:00 AM,100\r\n",
      "2064127,1382568,\"No on Prop. 64, Sponsored by California Public Safety Institute\",OPPOSE,0,Miguel,Colon Jr,Imperial,CA,92251,City of Imperial,Chief of Police,6/8/2016 12:00:00 AM,200\r\n",
      "2064127,1382568,\"No on Prop. 64, Sponsored by California Public Safety Institute\",OPPOSE,0,Ken,Corney,Ventura,CA,93003,City of Ventura,Police Chief,6/8/2016 12:00:00 AM,300\r\n",
      "2064127,1382568,\"No on Prop. 64, Sponsored by California Public Safety Institute\",OPPOSE,0,Ronald,Lawrence,Rocklin,CA,95677,City of Rocklin,Chief of Police,6/8/2016 12:00:00 AM,300\r\n",
      "2064127,1382568,\"No on Prop. 64, Sponsored by California Public Safety Institute\",OPPOSE,0,Robert,Sanderson,Upland,CA,91784,City of Arcadia,Chief of Police (Retired),6/8/2016 12:00:00 AM,100\r\n",
      "2064127,1382568,\"No on Prop. 64, Sponsored by California Public Safety Institute\",OPPOSE,0,Scott,Seaman,San Jose,CA,95125,Scott Seaman Consulting,Consultant,6/8/2016 12:00:00 AM,100\r\n",
      "2064127,1382568,\"No on Prop. 64, Sponsored by California Public Safety Institute\",OPPOSE,0,,CALIF. PEACE OFFICERS ASSOC.,SACRAMENTO,CA,95814,,,6/9/2016 12:00:00 AM,5000\r\n",
      "2064127,1382568,\"No on Prop. 64, Sponsored by California Public Safety Institute\",OPPOSE,0,DAVID,DARRIN,PLEASANTON,CA,94566,ALAMEDA COUNTY,DEPUTY SHERIFF,6/9/2016 12:00:00 AM,200\r\n",
      "2064127,1382568,\"No on Prop. 64, Sponsored by California Public Safety Institute\",OPPOSE,0,,Laguna Beach Police Employees',Laguna Beach,CA,92652,,,6/9/2016 12:00:00 AM,100\r\n",
      "2064127,1382568,\"No on Prop. 64, Sponsored by California Public Safety Institute\",OPPOSE,0,David,McCartney,Hollister,CA,95023,City of Watsonville,Deputy Chief,6/10/2016 12:00:00 AM,100\r\n",
      "2064127,1382568,\"No on Prop. 64, Sponsored by California Public Safety Institute\",OPPOSE,0,Eric,Nunez,Los Alamitos,CA,90720,City of Los Alamitos Police Department,Chief of Police,6/10/2016 12:00:00 AM,100\r\n",
      "2064127,1382568,\"No on Prop. 64, Sponsored by California Public Safety Institute\",OPPOSE,0,RONALD,JOHNSON,Murrieta,CA,92563,Retired,Chief of Police,6/12/2016 12:00:00 AM,100\r\n",
      "2064127,1382568,\"No on Prop. 64, Sponsored by California Public Safety Institute\",OPPOSE,0,,ASSOC. FOR LOS ANGELES DEPUTY SHERIFFS STATE PIC,MONTEREY PARK,CA,91755,,,6/13/2016 12:00:00 AM,5000\r\n",
      "2064127,1382568,\"No on Prop. 64, Sponsored by California Public Safety Institute\",OPPOSE,0,CECILIA,GALVIN,CLOVIS,CA,93619,,NOT EMPLOYED,6/13/2016 12:00:00 AM,150\r\n",
      "2064127,1382568,\"No on Prop. 64, Sponsored by California Public Safety Institute\",OPPOSE,0,,\"SAM ACTION, INC.\",NEW YORK,NY,10014,,,6/13/2016 12:00:00 AM,36000\r\n",
      "2064127,1382568,\"No on Prop. 64, Sponsored by California Public Safety Institute\",OPPOSE,0,,Tejada Threat Management,Orinda,CA,94563,,,6/14/2016 12:00:00 AM,100\r\n",
      "2064127,1382568,\"No on Prop. 64, Sponsored by California Public Safety Institute\",OPPOSE,0,Robert,Handy,HUNTINGTON Beach,CA,92649,City of Huntington Beach,Police Chief,6/24/2016 12:00:00 AM,100\r\n",
      "2064127,1382568,\"No on Prop. 64, Sponsored by California Public Safety Institute\",OPPOSE,0,Dan,DeSmidt,Belmont,CA,94002,Belmont Police Dept,Chief of Police,6/27/2016 12:00:00 AM,150\r\n",
      "2064127,1382568,\"No on Prop. 64, Sponsored by California Public Safety Institute\",OPPOSE,0,Sam,Spiegel,Folsom,CA,95630,Retired,Chief of Police - Ret.,6/28/2016 12:00:00 AM,200\r\n",
      "2064127,1382568,\"No on Prop. 64, Sponsored by California Public Safety Institute\",OPPOSE,0,,CNOA,Santa Clarita,CA,91355,,,6/29/2016 12:00:00 AM,5000\r\n",
      "2064127,1382568,\"No on Prop. 64, Sponsored by California Public Safety Institute\",OPPOSE,0,,\"SAM ACTION, INC.\",NEW YORK,NY,10014,,,6/29/2016 12:00:00 AM,18150\r\n",
      "2064127,1382568,\"No on Prop. 64, Sponsored by California Public Safety Institute\",OPPOSE,0,,CALIF. STATE SHERIFFS' ASSOC.,SACRAMENTO,CA,95814,,,6/30/2016 12:00:00 AM,10000\r\n",
      "2064127,1382568,\"No on Prop. 64, Sponsored by California Public Safety Institute\",OPPOSE,0,JAMES,DAVIS,SUNNYVALE,CA,94086,CITY OF SUNNYVALE,COUNCIL MEMBER,6/30/2016 12:00:00 AM,100\r\n",
      "2064127,1382568,\"No on Prop. 64, Sponsored by California Public Safety Institute\",OPPOSE,0,,MULDOON FOR NEWPORT BEACH CITY COUNCIL 2016,SANTA ANA,CA,92705,,,6/30/2016 12:00:00 AM,500\r\n",
      "2038497,1382525,New Approach PAC (MPO),SUPPORT,0,Sean,Parker,Palo Alto,CA,94301,Sean Parker Foundation,Chairman,1/28/2016 12:00:00 AM,250000\r\n",
      "2038497,1382525,New Approach PAC (MPO),SUPPORT,0,Daniel,Lewis,Coral Gables,FL,33146,,Retired,3/31/2016 12:00:00 AM,500000\r\n",
      "2038497,1382525,New Approach PAC (MPO),SUPPORT,0,Daniel,Lewis,Coral Gables,FL,33146,,Retired,1/6/2016 12:00:00 AM,250000\r\n",
      "2063087,1382525,New Approach PAC (MPO),SUPPORT,0,Henry,van Ameringen,New York,NY,10011,,Retired,6/30/2016 12:00:00 AM,1000000\r\n",
      "2064069,1385506,\"Drug Policy Action - Non Profit 501c4, Yes on Prop. 64\",SUPPORT,0,,Drug Policy Action,Oakland,CA,94612,,,1/5/2016 12:00:00 AM,250000\r\n",
      "2064069,1385506,\"Drug Policy Action - Non Profit 501c4, Yes on Prop. 64\",SUPPORT,0,,Drug Policy Action,Oakland,CA,94612,,,2/2/2016 12:00:00 AM,250000\r\n",
      "2064069,1385506,\"Drug Policy Action - Non Profit 501c4, Yes on Prop. 64\",SUPPORT,0,,Fund for Policy Reform (nonprofit 501 (c)(4)),New York,NY,10019,,,5/3/2016 12:00:00 AM,550000\r\n",
      "2064069,1385506,\"Drug Policy Action - Non Profit 501c4, Yes on Prop. 64\",SUPPORT,0,,Fund for Policy Reform (nonprofit 501 (c)(4)),New York,NY,10019,,,5/26/2016 12:00:00 AM,420000\r\n",
      "2057298,1385745,Fund for Policy Reform (Nonprofit 501(C)(4)),SUPPORT,0,,Fund for Policy Reform,Wilmington,DE,19809,,,5/3/2016 12:00:00 AM,550000\r\n",
      "2057298,1385745,Fund for Policy Reform (Nonprofit 501(C)(4)),SUPPORT,0,,Fund for Policy Reform,Wilmington,DE,19809,,,5/26/2016 12:00:00 AM,420000\r\n",
      "2064155,1387789,\"Sam Action, Inc., a Committee Against Proposition 64 with Help from Citizens (NonProfit 501(C)(4))\",OPPOSE,1,Julie,Schauer,Oaks,PA,19456,,RETIRED,4/13/2016 12:00:00 AM,14000\r\n",
      "2064155,1387789,\"Sam Action, Inc., a Committee Against Proposition 64 with Help from Citizens (NonProfit 501(C)(4))\",OPPOSE,1,Julie,Schauer,Oaks,PA,19456,,RETIRED,5/20/2016 12:00:00 AM,35000\r\n",
      "2064155,1387789,\"Sam Action, Inc., a Committee Against Proposition 64 with Help from Citizens (NonProfit 501(C)(4))\",OPPOSE,1,Julie,Schauer,Oaks,PA,19456,,RETIRED,6/8/2016 12:00:00 AM,120000\r\n",
      "2064155,1387789,\"Sam Action, Inc., a Committee Against Proposition 64 with Help from Citizens (NonProfit 501(C)(4))\",OPPOSE,1,Julie,Schauer,Oaks,PA,19456,,RETIRED,6/13/2016 12:00:00 AM,45000\n"
     ]
    }
   ],
   "source": [
    "print data"
   ]
  },
  {
   "cell_type": "markdown",
   "metadata": {},
   "source": [
    "That's all good, but the data is printing out as one big long string. If we're going to do some real analysis, we need Python to recognize and respect the structure of our data, in the way an Excel spreadsheet would.\n",
    "\n",
    "To do that, we're going to need something smarter than ``open``. We're going to need something like agate."
   ]
  },
  {
   "cell_type": "markdown",
   "metadata": {},
   "source": [
    "## Act 3: Hello agate "
   ]
  },
  {
   "cell_type": "markdown",
   "metadata": {},
   "source": [
    "Lucky for us, Python already has tools filled with functions to do pretty much anything you’d ever want to do with a programming language: navigate the web, parse data, interact with a database, run fancy statistics, build a pretty website and so much more.\n",
    "\n",
    "Some of those tools are included a toolbox that comes with the language, known as the standard library. Others have been built by members of Python's developer community and need to be downloaded and installed from the web.\n",
    "\n",
    "For this exercise, we're going to install and use [agate](http://agate.readthedocs.io/en/latest/), a tool for accessing and analyzing data maintained by IRE/NICAR members Christopher Groskopf and Neil Bedi.\n",
    "\n",
    "There are several others we could use instead ([pandas](http://pandas.pydata.org/) is the most popular alternative) but we're picking agate here because I think it's easier for beginners."
   ]
  },
  {
   "cell_type": "markdown",
   "metadata": {},
   "source": [
    "We'll install agate the same way we installed the Jupyter Notebook earlier: Our friend ``pip``. Save your notebook, open up your terminal and hit CTRL-C. That will kill your notebook and return you to the command line. There we'll install agate.\n",
    "\n",
    "```bash\n",
    "pip install agate\n",
    "```"
   ]
  },
  {
   "cell_type": "markdown",
   "metadata": {},
   "source": [
    "Now let's restart our notebook and get back to work.\n",
    "\n",
    "```bash\n",
    "jupyter notebook\n",
    "```"
   ]
  },
  {
   "cell_type": "markdown",
   "metadata": {},
   "source": [
    "Now let's use the next open box to import agate into our script, so we can use all its fancy methods here in our script."
   ]
  },
  {
   "cell_type": "code",
   "execution_count": 25,
   "metadata": {
    "collapsed": false
   },
   "outputs": [],
   "source": [
    "import agate"
   ]
  },
  {
   "cell_type": "markdown",
   "metadata": {},
   "source": [
    "Opening our CSV with agate isn't any hard than with ``open``, you just need to know the right trick to make it work."
   ]
  },
  {
   "cell_type": "code",
   "execution_count": 27,
   "metadata": {
    "collapsed": false
   },
   "outputs": [
    {
     "data": {
      "text/plain": [
       "<agate.table.Table at 0x7f3f0cfba610>"
      ]
     },
     "execution_count": 27,
     "metadata": {},
     "output_type": "execute_result"
    }
   ],
   "source": [
    "agate.Table.from_csv(\"./first-python-notebook.csv\")"
   ]
  },
  {
   "cell_type": "markdown",
   "metadata": {},
   "source": [
    "Great now let's do it again and assign it to a variable this time"
   ]
  },
  {
   "cell_type": "code",
   "execution_count": 28,
   "metadata": {
    "collapsed": true
   },
   "outputs": [],
   "source": [
    "table = agate.Table.from_csv(\"./first-python-notebook.csv\")"
   ]
  },
  {
   "cell_type": "code",
   "execution_count": 33,
   "metadata": {
    "collapsed": false
   },
   "outputs": [
    {
     "name": "stdout",
     "output_type": "stream",
     "text": [
      "|---------------------+------------|\n",
      "|  column             | data_type  |\n",
      "|---------------------+------------|\n",
      "|  FILING_ID          | Number     |\n",
      "|  COMMITTEE_ID       | Number     |\n",
      "|  COMMITTEE_NAME     | Text       |\n",
      "|  COMMITTEE_POSITION | Text       |\n",
      "|  AMEND_ID           | Boolean    |\n",
      "|  FIRST_NAME         | Text       |\n",
      "|  LAST_NAME          | Text       |\n",
      "|  CITY               | Text       |\n",
      "|  STATE              | Text       |\n",
      "|  ZIPCODE            | Text       |\n",
      "|  EMPLOYER           | Text       |\n",
      "|  OCCUPATION         | Text       |\n",
      "|  DATE               | DateTime   |\n",
      "|  AMOUNT             | Number     |\n",
      "|---------------------+------------|\n",
      "\n"
     ]
    }
   ],
   "source": [
    "print table"
   ]
  },
  {
   "cell_type": "code",
   "execution_count": 47,
   "metadata": {
    "collapsed": false
   },
   "outputs": [
    {
     "name": "stdout",
     "output_type": "stream",
     "text": [
      "|------------+--------------+----------------------+--------------------+----------+------------+------|\n",
      "|  FILING_ID | COMMITTEE_ID | COMMITTEE_NAME       | COMMITTEE_POSITION | AMEND_ID | FIRST_NAME | ...  |\n",
      "|------------+--------------+----------------------+--------------------+----------+------------+------|\n",
      "|  1,680,042 |    1,343,793 | Californians for ... | SUPPORT            |    False |            | ...  |\n",
      "|  1,937,009 |    1,343,793 | Californians for ... | SUPPORT            |    False | Luke       | ...  |\n",
      "|  2,038,717 |    1,343,793 | Californians for ... | SUPPORT            |     True | Susan      | ...  |\n",
      "|  2,038,717 |    1,343,793 | Californians for ... | SUPPORT            |     True | Philip     | ...  |\n",
      "|  2,038,717 |    1,343,793 | Californians for ... | SUPPORT            |     True | Kevin      | ...  |\n",
      "|  2,063,970 |    1,343,793 | Californians for ... | SUPPORT            |    False | Jessica    | ...  |\n",
      "|  2,063,970 |    1,343,793 | Californians for ... | SUPPORT            |    False | Patrick    | ...  |\n",
      "|  2,063,970 |    1,343,793 | Californians for ... | SUPPORT            |    False | Maureen    | ...  |\n",
      "|  2,063,970 |    1,343,793 | Californians for ... | SUPPORT            |    False | Evan       | ...  |\n",
      "|  2,063,970 |    1,343,793 | Californians for ... | SUPPORT            |    False | Bruce      | ...  |\n",
      "|  2,063,970 |    1,343,793 | Californians for ... | SUPPORT            |    False | Bruce      | ...  |\n",
      "|  2,063,970 |    1,343,793 | Californians for ... | SUPPORT            |    False |            | ...  |\n",
      "|  2,063,970 |    1,343,793 | Californians for ... | SUPPORT            |    False | Bob        | ...  |\n",
      "|  2,063,970 |    1,343,793 | Californians for ... | SUPPORT            |    False |            | ...  |\n",
      "|  2,063,970 |    1,343,793 | Californians for ... | SUPPORT            |    False | Ellen      | ...  |\n",
      "|  2,063,970 |    1,343,793 | Californians for ... | SUPPORT            |    False | Thomas     | ...  |\n",
      "|  2,063,970 |    1,343,793 | Californians for ... | SUPPORT            |    False | David      | ...  |\n",
      "|  2,063,970 |    1,343,793 | Californians for ... | SUPPORT            |    False | Genifer    | ...  |\n",
      "|  2,063,970 |    1,343,793 | Californians for ... | SUPPORT            |    False | Ethan      | ...  |\n",
      "|  2,063,970 |    1,343,793 | Californians for ... | SUPPORT            |    False | Ethan      | ...  |\n",
      "|        ... |          ... | ...                  | ...                |      ... | ...        | ...  |\n",
      "|------------+--------------+----------------------+--------------------+----------+------------+------|\n"
     ]
    }
   ],
   "source": [
    "table.print_table()"
   ]
  },
  {
   "cell_type": "code",
   "execution_count": 37,
   "metadata": {
    "collapsed": false
   },
   "outputs": [
    {
     "name": "stdout",
     "output_type": "stream",
     "text": [
      "318\n"
     ]
    }
   ],
   "source": [
    "print len(table.rows)"
   ]
  },
  {
   "cell_type": "markdown",
   "metadata": {},
   "source": [
    "## Act 4: Hello analysis"
   ]
  },
  {
   "cell_type": "code",
   "execution_count": null,
   "metadata": {
    "collapsed": true
   },
   "outputs": [],
   "source": [
    "# Sort by amount descending and print the top 10\n",
    "# Sum up the total contribution amount\n",
    "# Filter to support/oppose\n",
    "# Sort and print top 10 for each\n",
    "# Sum up the total contribution amount for each\n",
    "# Group and count/sum by committee name\n",
    "# Group and count/sum by the last_name field\n",
    "# SHOULD WE EXPAND THE SOURCE FILE WE START WITH TO BE THAN JUST PROP 64?"
   ]
  },
  {
   "cell_type": "code",
   "execution_count": 45,
   "metadata": {
    "collapsed": false
   },
   "outputs": [
    {
     "name": "stdout",
     "output_type": "stream",
     "text": [
      "|------------+--------------+----------------------+--------------------+----------+------------+------|\n",
      "|  FILING_ID | COMMITTEE_ID | COMMITTEE_NAME       | COMMITTEE_POSITION | AMEND_ID | FIRST_NAME | ...  |\n",
      "|------------+--------------+----------------------+--------------------+----------+------------+------|\n",
      "|  2,064,423 |    1,381,808 | Yes on 64, Califo... | SUPPORT            |     True | Larry      | ...  |\n",
      "|  2,063,970 |    1,343,793 | Californians for ... | SUPPORT            |    False | Bruce      | ...  |\n",
      "|  2,064,423 |    1,381,808 | Yes on 64, Califo... | SUPPORT            |     True | Rich       | ...  |\n",
      "|  2,064,423 |    1,381,808 | Yes on 64, Califo... | SUPPORT            |     True | Marc       | ...  |\n",
      "|  2,064,423 |    1,381,808 | Yes on 64, Califo... | SUPPORT            |     True | Dan        | ...  |\n",
      "|  2,064,423 |    1,381,808 | Yes on 64, Califo... | SUPPORT            |     True | Dan        | ...  |\n",
      "|  2,063,970 |    1,343,793 | Californians for ... | SUPPORT            |    False | Norman     | ...  |\n",
      "|  2,063,970 |    1,343,793 | Californians for ... | SUPPORT            |    False | Norman     | ...  |\n",
      "|  2,064,423 |    1,381,808 | Yes on 64, Califo... | SUPPORT            |     True | Dan        | ...  |\n",
      "|  2,064,423 |    1,381,808 | Yes on 64, Califo... | SUPPORT            |     True | Claude     | ...  |\n",
      "|  2,063,970 |    1,343,793 | Californians for ... | SUPPORT            |    False | Bruce      | ...  |\n",
      "|  2,063,970 |    1,343,793 | Californians for ... | SUPPORT            |    False | Ethan      | ...  |\n",
      "|  2,038,717 |    1,343,793 | Californians for ... | SUPPORT            |     True | Susan      | ...  |\n",
      "|  2,038,717 |    1,343,793 | Californians for ... | SUPPORT            |     True | Kevin      | ...  |\n",
      "|  2,063,970 |    1,343,793 | Californians for ... | SUPPORT            |    False | Jessica    | ...  |\n",
      "|  2,063,970 |    1,343,793 | Californians for ... | SUPPORT            |    False | Maureen    | ...  |\n",
      "|  2,063,970 |    1,343,793 | Californians for ... | SUPPORT            |    False | Evan       | ...  |\n",
      "|  2,063,970 |    1,343,793 | Californians for ... | SUPPORT            |    False | Bob        | ...  |\n",
      "|  2,063,970 |    1,343,793 | Californians for ... | SUPPORT            |    False | Ellen      | ...  |\n",
      "|  2,063,970 |    1,343,793 | Californians for ... | SUPPORT            |    False | Thomas     | ...  |\n",
      "|        ... |          ... | ...                  | ...                |      ... | ...        | ...  |\n",
      "|------------+--------------+----------------------+--------------------+----------+------------+------|\n"
     ]
    }
   ],
   "source": [
    "table.order_by(\"AMOUNT\").print_table()"
   ]
  },
  {
   "cell_type": "markdown",
   "metadata": {},
   "source": [
    "## Act 5: Hello viz"
   ]
  },
  {
   "cell_type": "code",
   "execution_count": null,
   "metadata": {
    "collapsed": true
   },
   "outputs": [],
   "source": [
    "# Install a charting library\n",
    "# Bar chart of the top 10 contributors for each side\n",
    "# Export the data to a CSV for your graphics department"
   ]
  }
 ],
 "metadata": {
  "kernelspec": {
   "display_name": "Python 2",
   "language": "python",
   "name": "python2"
  },
  "language_info": {
   "codemirror_mode": {
    "name": "ipython",
    "version": 2
   },
   "file_extension": ".py",
   "mimetype": "text/x-python",
   "name": "python",
   "nbconvert_exporter": "python",
   "pygments_lexer": "ipython2",
   "version": "2.7.6"
  }
 },
 "nbformat": 4,
 "nbformat_minor": 1
}
