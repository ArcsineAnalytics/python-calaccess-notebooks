{
 "cells": [
  {
   "cell_type": "markdown",
   "metadata": {},
   "source": [
    "# Candidate party classification\n",
    "\n",
    "By Ben Welsh\n",
    "\n",
    "An analysis of what method is ultimately classifying scraped candidate records to a party."
   ]
  },
  {
   "cell_type": "code",
   "execution_count": 1,
   "metadata": {
    "collapsed": true
   },
   "outputs": [],
   "source": [
    "import pandas as pd"
   ]
  },
  {
   "cell_type": "code",
   "execution_count": 2,
   "metadata": {
    "collapsed": true
   },
   "outputs": [],
   "source": [
    "df = pd.read_csv(\"/home/ben/Code/django-calaccess-processed-data/example/django.log\", sep=\"|\")"
   ]
  },
  {
   "cell_type": "code",
   "execution_count": 3,
   "metadata": {},
   "outputs": [
    {
     "data": {
      "text/html": [
       "<div>\n",
       "<table border=\"1\" class=\"dataframe\">\n",
       "  <thead>\n",
       "    <tr style=\"text-align: right;\">\n",
       "      <th></th>\n",
       "      <th>DEBUG</th>\n",
       "      <th>18/Jul/2017 23:38:47</th>\n",
       "      <th>__init__</th>\n",
       "      <th>Flushing 0 Candidacy objects</th>\n",
       "    </tr>\n",
       "  </thead>\n",
       "  <tbody>\n",
       "    <tr>\n",
       "      <th>0</th>\n",
       "      <td>DEBUG</td>\n",
       "      <td>18/Jul/2017 23:38:47</td>\n",
       "      <td>__init__</td>\n",
       "      <td>Flushing 2932 CandidateContest objects</td>\n",
       "    </tr>\n",
       "    <tr>\n",
       "      <th>1</th>\n",
       "      <td>DEBUG</td>\n",
       "      <td>18/Jul/2017 23:39:02</td>\n",
       "      <td>__init__</td>\n",
       "      <td>Flushing 0 Candidacy objects</td>\n",
       "    </tr>\n",
       "    <tr>\n",
       "      <th>2</th>\n",
       "      <td>DEBUG</td>\n",
       "      <td>18/Jul/2017 23:39:02</td>\n",
       "      <td>__init__</td>\n",
       "      <td>Flushing 2932 CandidateContest objects</td>\n",
       "    </tr>\n",
       "    <tr>\n",
       "      <th>3</th>\n",
       "      <td>DEBUG</td>\n",
       "      <td>18/Jul/2017 23:39:02</td>\n",
       "      <td>__init__</td>\n",
       "      <td>Flushing 166 BallotMeasureContest objects</td>\n",
       "    </tr>\n",
       "    <tr>\n",
       "      <th>4</th>\n",
       "      <td>DEBUG</td>\n",
       "      <td>18/Jul/2017 23:39:02</td>\n",
       "      <td>__init__</td>\n",
       "      <td>Flushing 4 RetentionContest objects</td>\n",
       "    </tr>\n",
       "  </tbody>\n",
       "</table>\n",
       "</div>"
      ],
      "text/plain": [
       "   DEBUG  18/Jul/2017 23:38:47  __init__  \\\n",
       "0  DEBUG  18/Jul/2017 23:38:47  __init__   \n",
       "1  DEBUG  18/Jul/2017 23:39:02  __init__   \n",
       "2  DEBUG  18/Jul/2017 23:39:02  __init__   \n",
       "3  DEBUG  18/Jul/2017 23:39:02  __init__   \n",
       "4  DEBUG  18/Jul/2017 23:39:02  __init__   \n",
       "\n",
       "                Flushing 0 Candidacy objects  \n",
       "0     Flushing 2932 CandidateContest objects  \n",
       "1               Flushing 0 Candidacy objects  \n",
       "2     Flushing 2932 CandidateContest objects  \n",
       "3  Flushing 166 BallotMeasureContest objects  \n",
       "4        Flushing 4 RetentionContest objects  "
      ]
     },
     "execution_count": 3,
     "metadata": {},
     "output_type": "execute_result"
    }
   ],
   "source": [
    "df.head()"
   ]
  },
  {
   "cell_type": "code",
   "execution_count": 4,
   "metadata": {
    "collapsed": true
   },
   "outputs": [],
   "source": [
    "df.columns = ['level', 'time', 'logger', 'message']"
   ]
  },
  {
   "cell_type": "code",
   "execution_count": 6,
   "metadata": {},
   "outputs": [],
   "source": [
    "df = df[df.logger == 'candidates']"
   ]
  },
  {
   "cell_type": "code",
   "execution_count": 7,
   "metadata": {
    "collapsed": true
   },
   "outputs": [],
   "source": [
    "def method(message):\n",
    "    if 'based' in message:\n",
    "        return message.split(\"based on\")[-1]\n",
    "    else:\n",
    "        return message.split(\"after\")[-1]"
   ]
  },
  {
   "cell_type": "code",
   "execution_count": 8,
   "metadata": {
    "collapsed": true
   },
   "outputs": [],
   "source": [
    "df['reason'] = df.message.apply(method)"
   ]
  },
  {
   "cell_type": "code",
   "execution_count": 9,
   "metadata": {},
   "outputs": [
    {
     "data": {
      "text/plain": [
       " Form 501 party                   4667\n",
       " failing to find a match           754\n",
       " checking its scraped filer id     405\n",
       " Form 501 filer id                  33\n",
       " office                             31\n",
       "Name: reason, dtype: int64"
      ]
     },
     "execution_count": 9,
     "metadata": {},
     "output_type": "execute_result"
    }
   ],
   "source": [
    "df.reason.value_counts()"
   ]
  }
 ],
 "metadata": {
  "kernelspec": {
   "display_name": "Python 2",
   "language": "python",
   "name": "python2"
  },
  "language_info": {
   "codemirror_mode": {
    "name": "ipython",
    "version": 2
   },
   "file_extension": ".py",
   "mimetype": "text/x-python",
   "name": "python",
   "nbconvert_exporter": "python",
   "pygments_lexer": "ipython2",
   "version": "2.7.12"
  }
 },
 "nbformat": 4,
 "nbformat_minor": 2
}
