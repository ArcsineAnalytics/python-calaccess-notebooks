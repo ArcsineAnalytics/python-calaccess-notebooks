{
 "cells": [
  {
   "cell_type": "markdown",
   "metadata": {},
   "source": [
    "# First Python Notebook data preparation\n",
    "\n",
    "By Ben Welsh\n",
    "\n",
    "Preparing a sample dataset to be used in a forthcoming class entitled \"First Python Notebook: Scripting your way to the story.\" The class is scheduled to be taught as part of [an October 2016 \"watchdog workshop\" organized by Investigative Reporters and Editors](http://ire.org/events-and-training/event/2819/2841/) at San Diego State University's journalism school.\n",
    "\n",
    "The class will focus on analyzing the contributors to one of this November's statewide ballot measures. Because the raw data published at [californiacivicdata.org](http://www.californiacivicdata.org) is still difficult for beginners to navigate, a simplified version for students will be prepared below."
   ]
  },
  {
   "cell_type": "code",
   "execution_count": 1,
   "metadata": {},
   "outputs": [],
   "source": [
    "import os\n",
    "import requests\n",
    "from datetime import datetime\n",
    "from clint.textui import progress"
   ]
  },
  {
   "cell_type": "code",
   "execution_count": 2,
   "metadata": {},
   "outputs": [],
   "source": [
    "import pandas\n",
    "pandas.set_option('display.float_format', lambda x: '%.2f' % x)\n",
    "pandas.set_option('display.max_columns', None)"
   ]
  },
  {
   "cell_type": "code",
   "execution_count": 3,
   "metadata": {},
   "outputs": [],
   "source": [
    "def download_csv_to_dataframe(name):\n",
    "    \"\"\"\n",
    "    Accepts the name of a calaccess.download CSV and returns it as a pandas dataframe.\n",
    "    \"\"\"\n",
    "    path = os.path.join(os.getcwd(), '{}.csv'.format(name))\n",
    "    if not os.path.exists(path):\n",
    "        url = \"http://calaccess.download/latest/{}.csv\".format(name)\n",
    "        r = requests.get(url, stream=True)\n",
    "        with open(path, 'w') as f:\n",
    "            total_length = int(r.headers.get('content-length'))\n",
    "            for chunk in progress.bar(r.iter_content(chunk_size=1024), expected_size=(total_length/1024) + 1): \n",
    "                if chunk:\n",
    "                    f.write(chunk)\n",
    "                    f.flush()\n",
    "    return pandas.read_csv(path)"
   ]
  },
  {
   "cell_type": "code",
   "execution_count": 4,
   "metadata": {},
   "outputs": [],
   "source": [
    "def remove_amended_filings(df):\n",
    "    \"\"\"\n",
    "    Accepts a dataframe with FILING_ID and AMEND_ID files.\n",
    "    \n",
    "    Returns only the highest amendment for each unique filing id.\n",
    "    \"\"\"\n",
    "    max_amendments = df.groupby('FILING_ID')['AMEND_ID'].agg(\"max\").reset_index()\n",
    "    merged_df = pandas.merge(df, max_amendments, how='inner', on=['FILING_ID', 'AMEND_ID'])\n",
    "    print \"Removed {} amendments\".format(len(df)-len(merged_df))\n",
    "    print \"DataFrame now contains {} rows\".format(len(merged_df))\n",
    "    return merged_df"
   ]
  },
  {
   "cell_type": "markdown",
   "metadata": {},
   "source": [
    "Download the raw CAL-ACCESS tables that contain itemized receipts and links to the filers who reported them."
   ]
  },
  {
   "cell_type": "code",
   "execution_count": null,
   "metadata": {},
   "outputs": [],
   "source": [
    "itemized_receipts_df = download_csv_to_dataframe(\"rcpt_cd\")"
   ]
  },
  {
   "cell_type": "code",
   "execution_count": null,
   "metadata": {},
   "outputs": [],
   "source": [
    "filer_filings_df = download_csv_to_dataframe(\"filer_filings_cd\")"
   ]
  },
  {
   "cell_type": "markdown",
   "metadata": {},
   "source": [
    "California's Proposition 64 asks voters if the growth and sale marijuana should be legalized in the state. As of September 20, [California's Secretary of State reports](http://www.sos.ca.gov/campaign-lobbying/cal-access-resources/measure-contributions/marijuana-legalization-initiative-statute/) that 16 million has been raised to campaign in support the measure, and 2 million to oppose it. "
   ]
  },
  {
   "cell_type": "markdown",
   "metadata": {},
   "source": [
    "Here are the committees the state lists as supporting the measure.\n",
    "\n",
    "| Committee ID | Committee Name                                                                                                                                                                                    |\n",
    "|----------------|---------------------------------------------------------------------------------------------------------------------------------------------------------------------------------------------------|\n",
    "| 1343793        | Californians for Responsible Marijuana Reform, Sponsored by Drug Policy Action, Yes on Prop. 64                                                                                                   |\n",
    "| 1376077        | Californians for Sensible Reform, Sponsored by Ghost Management Group, LLC dba Weedmaps                                                                                                           |\n",
    "| 1385506        | Drug Policy Action - Non Profit 501c4, Yes on Prop. 64                                                                                                                                            |\n",
    "| 1385745        | Fund for Policy Reform (Nonprofit 501(C)(4))                                                                                                                                                      |\n",
    "| 1371855        | Marijuana Policy Project of California                                                                                                                                                            |\n",
    "| 1382525        | New Approach PAC (MPO)                                                                                                                                                                            |\n",
    "| 1386560        | The Adult Use Campaign for Proposition 64                                                                                                                                                         |\n",
    "| 1381808        | Yes on 64, Californians to Control, Regulate and Tax Adult Use of Marijuana While Protecting Children, Sponsored by Business, Physicians, Environmental and Social-Justice Advocate Organizations |\n"
   ]
  },
  {
   "cell_type": "markdown",
   "metadata": {},
   "source": [
    "Here are the committees the state lists as opposing the measure. \n",
    "\n",
    "| Committee ID   | Committee Name                                                                                    |\n",
    "|----------------|----------------------------------------------------------------------------------------------------|\n",
    "| 1382568        | No on Prop. 64, Sponsored by California Public Safety Institute                                    |\n",
    "| 1387789        | Sam Action, Inc., a Committee Against Proposition 64 with Help from Citizens (NonProfit 501(C)(4)) |"
   ]
  },
  {
   "cell_type": "code",
   "execution_count": null,
   "metadata": {},
   "outputs": [],
   "source": [
    "supporting_committees = pandas.DataFrame([\n",
    "    {\"Committee ID\":1343793,\"Committee Name\":\"Californians for Responsible Marijuana Reform, Sponsored by Drug Policy Action, Yes on Prop. 64\"},\n",
    "    {\"Committee ID\":1376077,\"Committee Name\":\"Californians for Sensible Reform, Sponsored by Ghost Management Group, LLC dba Weedmaps\"},\n",
    "    {\"Committee ID\":1385506,\"Committee Name\":\"Drug Policy Action - Non Profit 501c4, Yes on Prop. 64\"},\n",
    "    {\"Committee ID\":1385745,\"Committee Name\":\"Fund for Policy Reform (Nonprofit 501(C)(4))\"},\n",
    "    {\"Committee ID\":1371855,\"Committee Name\":\"Marijuana Policy Project of California\"},\n",
    "    {\"Committee ID\":1382525,\"Committee Name\":\"New Approach PAC (MPO)\"},\n",
    "    {\"Committee ID\":1386560,\"Committee Name\":\"The Adult Use Campaign for Proposition 64\"},\n",
    "    {\"Committee ID\":1381808,\"Committee Name\":\"Yes on 64, Californians to Control, Regulate and Tax Adult Use of Marijuana While Protecting Children, Sponsored by Business, Physicians, Environmental and Social-Justice Advocate Organizations\"}\n",
    "])"
   ]
  },
  {
   "cell_type": "code",
   "execution_count": null,
   "metadata": {},
   "outputs": [],
   "source": [
    "opposing_committees = pandas.DataFrame([\n",
    "    {\"Committee ID\":1382568,\"Committee name\":\"No on Prop. 64, Sponsored by California Public Safety Institute\"},\n",
    "    {\"Committee ID\":1387789,\"Committee name\":\"Sam Action, Inc., a Committee Against Proposition 64 with Help from Citizens (NonProfit 501(C)(4))\"}\n",
    "]"
   ]
  }
 ],
 "metadata": {
  "kernelspec": {
   "display_name": "Python 2",
   "language": "python",
   "name": "python2"
  },
  "language_info": {
   "codemirror_mode": {
    "name": "ipython",
    "version": 2
   },
   "file_extension": ".py",
   "mimetype": "text/x-python",
   "name": "python",
   "nbconvert_exporter": "python",
   "pygments_lexer": "ipython2",
   "version": "2.7.6"
  }
 },
 "nbformat": 4,
 "nbformat_minor": 0
}
