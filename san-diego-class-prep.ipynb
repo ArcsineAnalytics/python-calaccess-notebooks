{
 "cells": [
  {
   "cell_type": "markdown",
   "metadata": {},
   "source": [
    "# First Python Notebook data preparation\n",
    "\n",
    "By Ben Welsh\n",
    "\n",
    "Preparing a sample dataset to be used in a forthcoming class entitled \"First Python Notebook: Scripting your way to the story.\" The class is scheduled to be taught as part of [an October 2016 \"watchdog workshop\" organized by Investigative Reporters and Editors](http://ire.org/events-and-training/event/2819/2841/) at San Diego State University's journalism school.\n",
    "\n",
    "The class will focus on analyzing the contributors to one of this November's statewide ballot measures. Because the raw data published at [californiacivicdata.org](http://www.californiacivicdata.org) is still difficult for beginners to navigate, a simplified version for students will be prepared below."
   ]
  },
  {
   "cell_type": "code",
   "execution_count": 1,
   "metadata": {},
   "outputs": [],
   "source": [
    "import os\n",
    "import requests\n",
    "from datetime import datetime\n",
    "from clint.textui import progress"
   ]
  },
  {
   "cell_type": "code",
   "execution_count": 2,
   "metadata": {},
   "outputs": [],
   "source": [
    "import pandas\n",
    "pandas.set_option('display.float_format', lambda x: '%.2f' % x)\n",
    "pandas.set_option('display.max_columns', None)"
   ]
  },
  {
   "cell_type": "code",
   "execution_count": 3,
   "metadata": {},
   "outputs": [],
   "source": [
    "def download_csv_to_dataframe(name):\n",
    "    \"\"\"\n",
    "    Accepts the name of a calaccess.download CSV and returns it as a pandas dataframe.\n",
    "    \"\"\"\n",
    "    path = os.path.join(os.getcwd(), '{}.csv'.format(name))\n",
    "    if not os.path.exists(path):\n",
    "        url = \"http://calaccess.download/latest/{}.csv\".format(name)\n",
    "        r = requests.get(url, stream=True)\n",
    "        with open(path, 'w') as f:\n",
    "            total_length = int(r.headers.get('content-length'))\n",
    "            for chunk in progress.bar(r.iter_content(chunk_size=1024), expected_size=(total_length/1024) + 1): \n",
    "                if chunk:\n",
    "                    f.write(chunk)\n",
    "                    f.flush()\n",
    "    return pandas.read_csv(path, sep=',', index_col=False, dtype='unicode')"
   ]
  },
  {
   "cell_type": "code",
   "execution_count": 4,
   "metadata": {},
   "outputs": [],
   "source": [
    "def remove_amended_filings(df):\n",
    "    \"\"\"\n",
    "    Accepts a dataframe with FILING_ID and AMEND_ID files.\n",
    "    \n",
    "    Returns only the highest amendment for each unique filing id.\n",
    "    \"\"\"\n",
    "    max_amendments = df.groupby('FILING_ID')['AMEND_ID'].agg(\"max\").reset_index()\n",
    "    merged_df = pandas.merge(df, max_amendments, how='inner', on=['FILING_ID', 'AMEND_ID'])\n",
    "    print \"Removed {} amendments\".format(len(df)-len(merged_df))\n",
    "    print \"DataFrame now contains {} rows\".format(len(merged_df))\n",
    "    return merged_df"
   ]
  },
  {
   "cell_type": "code",
   "execution_count": 7,
   "metadata": {},
   "outputs": [],
   "source": [
    "def rcpt_part_to_dataframe(part_name):\n",
    "    file_name = \"rcpt_cd_parta{}.csv\".format(part_name)\n",
    "    path = os.path.join(os.getcwd(), file_name)\n",
    "    return pandas.read_csv(path, sep=',', dtype=\"unicode\")"
   ]
  },
  {
   "cell_type": "markdown",
   "metadata": {},
   "source": [
    "Download the raw CAL-ACCESS tables that contain itemized receipts and links to the filers who reported them"
   ]
  },
  {
   "cell_type": "code",
   "execution_count": 8,
   "metadata": {},
   "outputs": [],
   "source": [
    "itemized_receipts_df_a = rcpt_part_to_dataframe(\"a\")"
   ]
  },
  {
   "cell_type": "code",
   "execution_count": 9,
   "metadata": {},
   "outputs": [
    {
     "name": "stdout",
     "output_type": "stream",
     "text": [
      "<class 'pandas.core.frame.DataFrame'>\n",
      "RangeIndex: 999999 entries, 0 to 999998\n",
      "Data columns (total 63 columns):\n",
      "FILING_ID      999999 non-null object\n",
      "AMEND_ID       999999 non-null object\n",
      "LINE_ITEM      999999 non-null object\n",
      "REC_TYPE       999999 non-null object\n",
      "FORM_TYPE      999999 non-null object\n",
      "TRAN_ID        999999 non-null object\n",
      "ENTITY_CD      999862 non-null object\n",
      "CTRIB_NAML     999838 non-null object\n",
      "CTRIB_NAMF     608401 non-null object\n",
      "CTRIB_NAMT     108166 non-null object\n",
      "CTRIB_NAMS     16337 non-null object\n",
      "CTRIB_CITY     994459 non-null object\n",
      "CTRIB_ST       994494 non-null object\n",
      "CTRIB_ZIP4     932702 non-null object\n",
      "CTRIB_EMP      484315 non-null object\n",
      "CTRIB_OCC      549041 non-null object\n",
      "CTRIB_SELF     36631 non-null object\n",
      "TRAN_TYPE      12973 non-null object\n",
      "RCPT_DATE      999991 non-null object\n",
      "DATE_THRU      24730 non-null object\n",
      "AMOUNT         999998 non-null object\n",
      "CUM_YTD        990921 non-null object\n",
      "CUM_OTH        267136 non-null object\n",
      "CTRIB_DSCR     63165 non-null object\n",
      "CMTE_ID        96106 non-null object\n",
      "TRES_NAML      687 non-null object\n",
      "TRES_NAMF      664 non-null object\n",
      "TRES_NAMT      23 non-null object\n",
      "TRES_NAMS      0 non-null object\n",
      "TRES_CITY      550 non-null object\n",
      "TRES_ST        584 non-null object\n",
      "TRES_ZIP4      548 non-null object\n",
      "INTR_NAML      28039 non-null object\n",
      "INTR_NAMF      343 non-null object\n",
      "INTR_NAMT      8 non-null object\n",
      "INTR_NAMS      1 non-null object\n",
      "INTR_CITY      28027 non-null object\n",
      "INTR_ST        28027 non-null object\n",
      "INTR_ZIP4      28027 non-null object\n",
      "INTR_EMP       157 non-null object\n",
      "INTR_OCC       16155 non-null object\n",
      "INTR_SELF      53 non-null object\n",
      "CAND_NAML      12854 non-null object\n",
      "CAND_NAMF      534 non-null object\n",
      "CAND_NAMT      0 non-null object\n",
      "CAND_NAMS      3 non-null object\n",
      "OFFICE_CD      12671 non-null object\n",
      "OFFIC_DSCR     5286 non-null object\n",
      "JURIS_CD       10403 non-null object\n",
      "JURIS_DSCR     9553 non-null object\n",
      "DIST_NO        5333 non-null object\n",
      "OFF_S_H_CD     1427 non-null object\n",
      "BAL_NAME       900 non-null object\n",
      "BAL_NUM        576 non-null object\n",
      "BAL_JURIS      816 non-null object\n",
      "SUP_OPP_CD     14560 non-null object\n",
      "MEMO_CODE      58 non-null object\n",
      "MEMO_REFNO     92759 non-null object\n",
      "BAKREF_TID     3 non-null object\n",
      "XREF_SCHNM     0 non-null object\n",
      "XREF_MATCH     0 non-null object\n",
      "INT_RATE       167 non-null object\n",
      "INTR_CMTEID    1362 non-null object\n",
      "dtypes: object(63)\n",
      "memory usage: 480.7+ MB\n"
     ]
    }
   ],
   "source": [
    "itemized_receipts_df_a.info()"
   ]
  },
  {
   "cell_type": "code",
   "execution_count": 10,
   "metadata": {},
   "outputs": [],
   "source": [
    "itemized_receipts_df_b = rcpt_part_to_dataframe(\"b\")"
   ]
  },
  {
   "cell_type": "code",
   "execution_count": 11,
   "metadata": {},
   "outputs": [],
   "source": [
    "itemized_receipts_df_c = rcpt_part_to_dataframe(\"c\")"
   ]
  },
  {
   "cell_type": "code",
   "execution_count": 12,
   "metadata": {},
   "outputs": [],
   "source": [
    "itemized_receipts_df_d = rcpt_part_to_dataframe(\"d\")"
   ]
  },
  {
   "cell_type": "code",
   "execution_count": 13,
   "metadata": {},
   "outputs": [],
   "source": [
    "itemized_receipts_df_e = rcpt_part_to_dataframe(\"e\")"
   ]
  },
  {
   "cell_type": "code",
   "execution_count": 14,
   "metadata": {},
   "outputs": [],
   "source": [
    "itemized_receipts_df_f = rcpt_part_to_dataframe(\"f\")"
   ]
  },
  {
   "cell_type": "code",
   "execution_count": 15,
   "metadata": {},
   "outputs": [],
   "source": [
    "itemized_receipts_df_g = rcpt_part_to_dataframe(\"g\")"
   ]
  },
  {
   "cell_type": "code",
   "execution_count": 16,
   "metadata": {},
   "outputs": [],
   "source": [
    "itemized_receipts_df_h = rcpt_part_to_dataframe(\"h\")"
   ]
  },
  {
   "cell_type": "code",
   "execution_count": 17,
   "metadata": {},
   "outputs": [],
   "source": [
    "itemized_receipts_df_i = rcpt_part_to_dataframe(\"i\")"
   ]
  },
  {
   "cell_type": "code",
   "execution_count": 18,
   "metadata": {},
   "outputs": [],
   "source": [
    "itemized_receipts_df_j = rcpt_part_to_dataframe(\"j\")"
   ]
  },
  {
   "cell_type": "code",
   "execution_count": 5,
   "metadata": {},
   "outputs": [],
   "source": [
    "filer_filings_df = download_csv_to_dataframe(\"filer_filings_cd\")"
   ]
  },
  {
   "cell_type": "code",
   "execution_count": 6,
   "metadata": {},
   "outputs": [
    {
     "name": "stdout",
     "output_type": "stream",
     "text": [
      "<class 'pandas.core.frame.DataFrame'>\n",
      "RangeIndex: 1914742 entries, 0 to 1914741\n",
      "Data columns (total 16 columns):\n",
      "FILER_ID           object\n",
      "FILING_ID          object\n",
      "PERIOD_ID          object\n",
      "FORM_ID            object\n",
      "FILING_SEQUENCE    object\n",
      "FILING_DATE        object\n",
      "STMNT_TYPE         object\n",
      "STMNT_STATUS       object\n",
      "SESSION_ID         object\n",
      "USER_ID            object\n",
      "SPECIAL_AUDIT      object\n",
      "FINE_AUDIT         object\n",
      "RPT_START          object\n",
      "RPT_END            object\n",
      "RPT_DATE           object\n",
      "FILING_TYPE        object\n",
      "dtypes: object(16)\n",
      "memory usage: 233.7+ MB\n"
     ]
    }
   ],
   "source": [
    "filer_filings_df.info()"
   ]
  },
  {
   "cell_type": "markdown",
   "metadata": {},
   "source": [
    "California's Proposition 64 asks voters if the growth and sale marijuana should be legalized in the state. As of September 20, [California's Secretary of State reports](http://www.sos.ca.gov/campaign-lobbying/cal-access-resources/measure-contributions/marijuana-legalization-initiative-statute/) that 16 million has been raised to campaign in support the measure, and 2 million to oppose it. "
   ]
  },
  {
   "cell_type": "markdown",
   "metadata": {},
   "source": [
    "Here are the committees the state lists as supporting the measure.\n",
    "\n",
    "| Committee ID | Committee Name                                                                                                                                                                                    |\n",
    "|----------------|---------------------------------------------------------------------------------------------------------------------------------------------------------------------------------------------------|\n",
    "| 1343793        | Californians for Responsible Marijuana Reform, Sponsored by Drug Policy Action, Yes on Prop. 64                                                                                                   |\n",
    "| 1376077        | Californians for Sensible Reform, Sponsored by Ghost Management Group, LLC dba Weedmaps                                                                                                           |\n",
    "| 1385506        | Drug Policy Action - Non Profit 501c4, Yes on Prop. 64                                                                                                                                            |\n",
    "| 1385745        | Fund for Policy Reform (Nonprofit 501(C)(4))                                                                                                                                                      |\n",
    "| 1371855        | Marijuana Policy Project of California                                                                                                                                                            |\n",
    "| 1382525        | New Approach PAC (MPO)                                                                                                                                                                            |\n",
    "| 1386560        | The Adult Use Campaign for Proposition 64                                                                                                                                                         |\n",
    "| 1381808        | Yes on 64, Californians to Control, Regulate and Tax Adult Use of Marijuana While Protecting Children, Sponsored by Business, Physicians, Environmental and Social-Justice Advocate Organizations |\n"
   ]
  },
  {
   "cell_type": "markdown",
   "metadata": {},
   "source": [
    "Here are the committees the state lists as opposing the measure. \n",
    "\n",
    "| Committee ID   | Committee Name                                                                                    |\n",
    "|----------------|----------------------------------------------------------------------------------------------------|\n",
    "| 1382568        | No on Prop. 64, Sponsored by California Public Safety Institute                                    |\n",
    "| 1387789        | Sam Action, Inc., a Committee Against Proposition 64 with Help from Citizens (NonProfit 501(C)(4)) |"
   ]
  },
  {
   "cell_type": "code",
   "execution_count": 6,
   "metadata": {},
   "outputs": [],
   "source": [
    "supporting_committees = pandas.DataFrame([\n",
    "    {\"Committee ID\":1343793,\"Committee Name\":\"Californians for Responsible Marijuana Reform, Sponsored by Drug Policy Action, Yes on Prop. 64\"},\n",
    "    {\"Committee ID\":1376077,\"Committee Name\":\"Californians for Sensible Reform, Sponsored by Ghost Management Group, LLC dba Weedmaps\"},\n",
    "    {\"Committee ID\":1385506,\"Committee Name\":\"Drug Policy Action - Non Profit 501c4, Yes on Prop. 64\"},\n",
    "    {\"Committee ID\":1385745,\"Committee Name\":\"Fund for Policy Reform (Nonprofit 501(C)(4))\"},\n",
    "    {\"Committee ID\":1371855,\"Committee Name\":\"Marijuana Policy Project of California\"},\n",
    "    {\"Committee ID\":1382525,\"Committee Name\":\"New Approach PAC (MPO)\"},\n",
    "    {\"Committee ID\":1386560,\"Committee Name\":\"The Adult Use Campaign for Proposition 64\"},\n",
    "    {\"Committee ID\":1381808,\"Committee Name\":\"Yes on 64, Californians to Control, Regulate and Tax Adult Use of Marijuana While Protecting Children, Sponsored by Business, Physicians, Environmental and Social-Justice Advocate Organizations\"}\n",
    "])"
   ]
  },
  {
   "cell_type": "code",
   "execution_count": 8,
   "metadata": {},
   "outputs": [],
   "source": [
    "opposing_committees = pandas.DataFrame([\n",
    "    {\"Committee ID\":1382568,\"Committee name\":\"No on Prop. 64, Sponsored by California Public Safety Institute\"},\n",
    "    {\"Committee ID\":1387789,\"Committee name\":\"Sam Action, Inc., a Committee Against Proposition 64 with Help from Citizens (NonProfit 501(C)(4))\"}\n",
    "])"
   ]
  }
 ],
 "metadata": {
  "kernelspec": {
   "display_name": "Python 2",
   "language": "python",
   "name": "python2"
  },
  "language_info": {
   "codemirror_mode": {
    "name": "ipython",
    "version": 2
   },
   "file_extension": ".py",
   "mimetype": "text/x-python",
   "name": "python",
   "nbconvert_exporter": "python",
   "pygments_lexer": "ipython2",
   "version": "2.7.6"
  }
 },
 "nbformat": 4,
 "nbformat_minor": 0
}
